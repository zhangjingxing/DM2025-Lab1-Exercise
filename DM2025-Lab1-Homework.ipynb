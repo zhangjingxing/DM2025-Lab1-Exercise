{
 "cells": [
  {
   "cell_type": "markdown",
   "metadata": {},
   "source": [
    "### Student Information\n",
    "Name: Jeremy Robert (張景行)\n",
    "\n",
    "Student ID: 111006217\n",
    "\n",
    "GitHub ID: zhangjingxing"
   ]
  },
  {
   "cell_type": "markdown",
   "metadata": {},
   "source": [
    "---"
   ]
  },
  {
   "cell_type": "markdown",
   "metadata": {},
   "source": [
    "### Instructions"
   ]
  },
  {
   "cell_type": "markdown",
   "metadata": {},
   "source": [
    "### First Phase Submission"
   ]
  },
  {
   "cell_type": "markdown",
   "metadata": {},
   "source": [
    "1. First: do the **take home** exercises in the [DM2025-Lab1-Master](https://github.com/leoson-wu/DM2025-Lab1-Exercise/blob/main/DM2025-Lab1-Master.ipynb) that considered as **phase 1 (from exercise 1 to exercise 15)**. You can answer in the master file. __This part is worth 10% of your grade.__\n",
    "\n",
    "\n",
    "2. Second: follow the same process from the [DM2025-Lab1-Master](https://github.com/leoson-wu/DM2025-Lab1-Exercise/blob/main/DM2025-Lab1-Master.ipynb) on **the new dataset** up **until phase 1**. You can skip some exercises if you think some steps are not necessary. However main exercises should be completed. You don't need to explain all details as we did (some **minimal comments** explaining your code are useful though).  __This part is worth 15% of your grade.__\n",
    "    -  Use [the new dataset](https://github.com/leoson-wu/DM2025-Lab1-Exercise/blob/main/newdataset/Reddit-stock-sentiment.csv). The dataset contains a 16 columns including 'text' and 'label', with the sentiment labels being: 1.0 is positive, 0.0 is neutral and -1.0 is negative. You can simplify the dataset and use only the columns that you think are necessary. \n",
    "    \n",
    "    - You are allowed to use and modify the `helper` functions in the folder of the first lab session (notice they may need modification) or create your own.\n",
    "    - Use this file to complete the homework from the second part. Make sure the code can be run from the beginning till the end and has all the needed output.\n",
    "\n",
    "\n",
    "3. Third: please attempt the following tasks on **the new dataset**. __This part is worth 10% of your grade.__\n",
    "    - Generate meaningful **new data visualizations**. Refer to online resources and the Data Mining textbook for inspiration and ideas. \n",
    "    \n",
    "\n",
    "\n",
    "4. Fourth: It's hard for us to follow if your code is messy, so please **tidy up your notebook** and **add minimal comments where needed**. __This part is worth 5% of your grade.__\n",
    "\n",
    "You can submit your homework following these guidelines: [DM2025-Lab1-announcement](https://github.com/leoson-wu/DM2025-Lab1-Announcement/blob/main/README.md). Make sure to commit and save your changes to your repository __BEFORE the deadline (September 28th 11:59 pm, Sunday)__. "
   ]
  },
  {
   "cell_type": "markdown",
   "metadata": {},
   "source": [
    "### Second Phase Submission "
   ]
  },
  {
   "cell_type": "markdown",
   "metadata": {},
   "source": [
    "**You can keep the answer for phase 1 for easier running and update the phase 2 on the same page.**\n",
    "\n",
    "1. First: Continue doing the **take home** exercises in the [DM2025-Lab1-Master](https://github.com/leoson-wu/DM2025-Lab1-Exercise/blob/main/DM2025-Lab1-Master.ipynb) for **phase 2, starting from Finding frequent patterns**. Use the same master(.ipynb) file. Answer from phase 1 will not be considered at this stage. You can answer in the master file. __This part is worth 10% of your grade.__\n",
    "\n",
    "\n",
    "2. Second: Continue from first phase and do the same process from the [DM2025-Lab1-Master](https://github.com/leoson-wu/DM2025-Lab1-Exercise/blob/main/DM2025-Lab1-Master.ipynb) on **the new dataset** for phase 2, starting from Finding frequent pattern. You can skip some exercises if you think some steps are not necessary. However main exercises should be completed. You don't need to explain all details as we did (some **minimal comments** explaining your code are useful though).  __This part is worth 15% of your grade.__\n",
    "    - Continue using this file to complete the homework from the second part. Make sure the code can be run from the beginning till the end and has all the needed output. Use the same new dataset as in phase 1.\n",
    "    \n",
    "    - You are allowed to use and modify the `helper` functions in the folder of the first lab session (notice they may need modification) or create your own.\n",
    "\n",
    "3. Third: please attempt the following tasks on **the new dataset**. __This part is worth 20% of your grade.__\n",
    "    - Use this file to answer.\n",
    "    - Generate **TF-IDF features** from the tokens of each text. This will generating a document matrix, however, the weights will be computed differently (using the TF-IDF value of each word per document as opposed to the word frequency).  Refer to this Scikit-learn [guide](http://scikit-learn.org/stable/modules/generated/sklearn.feature_extraction.text.TfidfVectorizer.html) .\n",
    "    - Implement a simple **Naive Bayes classifier** that automatically classifies the records into their categories. Use both the TF-IDF features and word frequency features to build two seperate classifiers. Note that for the TF-IDF features you might need to use other type of NB classifier different than the one in the Master Notebook. Comment on the differences and when using augmentation with feature pattern.  Refer to this [article](https://hub.packtpub.com/implementing-3-naive-bayes-classifiers-in-scikit-learn/).\n",
    "\n",
    "\n",
    "4. Fourth: In the lab, we applied each step really quickly just to illustrate how to work with your dataset. There are somethings that are not ideal or the most efficient/meaningful. Each dataset can be handled differently as well. What are those inefficent parts you noticed? How can you improve the Data preprocessing for these specific datasets? __This part is worth 10% of your grade.__\n",
    "\n",
    "\n",
    "5. Fifth: It's hard for us to follow if your code is messy, so please **tidy up your notebook** and **add minimal comments where needed**. __This part is worth 5% of your grade.__\n",
    "\n",
    "\n",
    "You can submit your homework following these guidelines: [DM2025-Lab1-announcement](https://github.com/leoson-wu/DM2025-Lab1-Announcement/blob/main/README.md). Make sure to commit and save your changes to your repository __BEFORE the deadline (October 19th 11:59 pm, Sunday)__. "
   ]
  },
  {
   "cell_type": "markdown",
   "metadata": {},
   "source": [
    "# Phase 1"
   ]
  },
  {
   "cell_type": "code",
   "execution_count": 1,
   "metadata": {},
   "outputs": [
    {
     "data": {
      "text/plain": [
       "847"
      ]
     },
     "execution_count": 1,
     "metadata": {},
     "output_type": "execute_result"
    }
   ],
   "source": [
    "### Begin Assignment Here\n",
    "# import libraries\n",
    "\n",
    "# For data manipulation and numerical calculations\n",
    "import pandas as pd\n",
    "import numpy as np\n",
    "\n",
    "# For data visualization\n",
    "import matplotlib.pyplot as plt\n",
    "import seaborn as sns\n",
    "import plotly.express as px\n",
    "\n",
    "# my functions\n",
    "import helpers.data_mining_helpers as dmh\n",
    "\n",
    "# import our dataset, change the path according to yours\n",
    "file_path = r\"D:\\Disk E\\Jeremy\\NTHU\\Kuliah\\Sem 7\\Data Mining\\HW\\DM2025Labs\\DM2025-Lab1-Exercise\\newdataset\\Reddit-stock-sentiment.csv\"\n",
    "# load the CSV file into a DataFrame\n",
    "df = pd.read_csv(file_path) # we can directly import a csv file as dataframe\n",
    "\n",
    "len(df) #want to see how many rows for our dataset\n"
   ]
  },
  {
   "cell_type": "markdown",
   "metadata": {},
   "source": [
    "### >>> Exercise 1\n",
    "Print out the first 3 samples"
   ]
  },
  {
   "cell_type": "code",
   "execution_count": 57,
   "metadata": {},
   "outputs": [
    {
     "data": {
      "text/html": [
       "<div>\n",
       "<style scoped>\n",
       "    .dataframe tbody tr th:only-of-type {\n",
       "        vertical-align: middle;\n",
       "    }\n",
       "\n",
       "    .dataframe tbody tr th {\n",
       "        vertical-align: top;\n",
       "    }\n",
       "\n",
       "    .dataframe thead th {\n",
       "        text-align: right;\n",
       "    }\n",
       "</style>\n",
       "<table border=\"1\" class=\"dataframe\">\n",
       "  <thead>\n",
       "    <tr style=\"text-align: right;\">\n",
       "      <th></th>\n",
       "      <th>type</th>\n",
       "      <th>datetime</th>\n",
       "      <th>post_id</th>\n",
       "      <th>subreddit</th>\n",
       "      <th>title</th>\n",
       "      <th>author</th>\n",
       "      <th>url</th>\n",
       "      <th>upvotes</th>\n",
       "      <th>downvotes</th>\n",
       "      <th>upvote_ratio</th>\n",
       "      <th>text</th>\n",
       "      <th>subjectivity</th>\n",
       "      <th>polarity</th>\n",
       "      <th>sentiment</th>\n",
       "      <th>entities</th>\n",
       "      <th>label</th>\n",
       "      <th>unigrams</th>\n",
       "    </tr>\n",
       "  </thead>\n",
       "  <tbody>\n",
       "    <tr>\n",
       "      <th>0</th>\n",
       "      <td>comment</td>\n",
       "      <td>2025-04-11 17:29:56</td>\n",
       "      <td>mmli62w</td>\n",
       "      <td>wallstreetbets</td>\n",
       "      <td>Retardation is on the menu boys! WSB is so back</td>\n",
       "      <td>StickyTip420</td>\n",
       "      <td>https://i.redd.it/0yq2ftren8ue1.jpeg</td>\n",
       "      <td>0</td>\n",
       "      <td>NaN</td>\n",
       "      <td>NaN</td>\n",
       "      <td>Calls on retards</td>\n",
       "      <td>1.000000</td>\n",
       "      <td>-0.900000</td>\n",
       "      <td>-1.0</td>\n",
       "      <td>[]</td>\n",
       "      <td>-1.0</td>\n",
       "      <td>[Calls, on, retards]</td>\n",
       "    </tr>\n",
       "    <tr>\n",
       "      <th>1</th>\n",
       "      <td>comment</td>\n",
       "      <td>2025-04-12 1:12:19</td>\n",
       "      <td>mmnu7v9</td>\n",
       "      <td>wallstreetbets</td>\n",
       "      <td>Retail giant TARGET has now declined for 10 co...</td>\n",
       "      <td>Comfortable-Dog-8437</td>\n",
       "      <td>https://i.redd.it/7tl6puv9waue1.jpeg</td>\n",
       "      <td>-15</td>\n",
       "      <td>NaN</td>\n",
       "      <td>NaN</td>\n",
       "      <td>Stunt as in like why did they even make a big ...</td>\n",
       "      <td>0.177778</td>\n",
       "      <td>0.083333</td>\n",
       "      <td>1.0</td>\n",
       "      <td>['Stunt', 'company', 'deal', 'place']</td>\n",
       "      <td>0.0</td>\n",
       "      <td>[Stunt, as, in, like, why, did, they, even, ma...</td>\n",
       "    </tr>\n",
       "    <tr>\n",
       "      <th>2</th>\n",
       "      <td>comment</td>\n",
       "      <td>2025-04-10 15:09:41</td>\n",
       "      <td>mmeevio</td>\n",
       "      <td>StockMarket</td>\n",
       "      <td>How do you feel about a sitting president maki...</td>\n",
       "      <td>Btankersly66</td>\n",
       "      <td>https://apnews.com/article/trump-truth-social-...</td>\n",
       "      <td>1</td>\n",
       "      <td>NaN</td>\n",
       "      <td>NaN</td>\n",
       "      <td>Seeing lots of red in the ticker.</td>\n",
       "      <td>0.000000</td>\n",
       "      <td>0.000000</td>\n",
       "      <td>0.0</td>\n",
       "      <td>['ticker']</td>\n",
       "      <td>0.0</td>\n",
       "      <td>[Seeing, lots, of, red, in, the, ticker, .]</td>\n",
       "    </tr>\n",
       "    <tr>\n",
       "      <th>3</th>\n",
       "      <td>post</td>\n",
       "      <td>2023-08-30 17:12:55</td>\n",
       "      <td>165kllm</td>\n",
       "      <td>stockstobuytoday</td>\n",
       "      <td>Who knows more? $VMAR</td>\n",
       "      <td>emiljenfn</td>\n",
       "      <td>https://www.reddit.com/r/stockstobuytoday/comm...</td>\n",
       "      <td>30</td>\n",
       "      <td>0.0</td>\n",
       "      <td>0.98</td>\n",
       "      <td>Vision Marine Technologies Inc. is rewriting t...</td>\n",
       "      <td>0.646970</td>\n",
       "      <td>0.216383</td>\n",
       "      <td>1.0</td>\n",
       "      <td>['watercraft', 'skill', 'power', ']', 'feat', ...</td>\n",
       "      <td>1.0</td>\n",
       "      <td>[Vision, Marine, Technologies, Inc., is, rewri...</td>\n",
       "    </tr>\n",
       "    <tr>\n",
       "      <th>4</th>\n",
       "      <td>comment</td>\n",
       "      <td>2025-04-11 14:48:05</td>\n",
       "      <td>mmkl6bw</td>\n",
       "      <td>StockMarket</td>\n",
       "      <td>The Trump administration is begging Xi Jinping...</td>\n",
       "      <td>Just-Big6411</td>\n",
       "      <td>https://edition.cnn.com/2025/04/10/politics/tr...</td>\n",
       "      <td>1</td>\n",
       "      <td>NaN</td>\n",
       "      <td>NaN</td>\n",
       "      <td>He didn’t say thank you.</td>\n",
       "      <td>0.000000</td>\n",
       "      <td>0.000000</td>\n",
       "      <td>0.0</td>\n",
       "      <td>[]</td>\n",
       "      <td>-1.0</td>\n",
       "      <td>[He, didn, ’, t, say, thank, you, .]</td>\n",
       "    </tr>\n",
       "  </tbody>\n",
       "</table>\n",
       "</div>"
      ],
      "text/plain": [
       "      type             datetime  post_id         subreddit  \\\n",
       "0  comment  2025-04-11 17:29:56  mmli62w    wallstreetbets   \n",
       "1  comment   2025-04-12 1:12:19  mmnu7v9    wallstreetbets   \n",
       "2  comment  2025-04-10 15:09:41  mmeevio       StockMarket   \n",
       "3     post  2023-08-30 17:12:55  165kllm  stockstobuytoday   \n",
       "4  comment  2025-04-11 14:48:05  mmkl6bw       StockMarket   \n",
       "\n",
       "                                               title                author  \\\n",
       "0    Retardation is on the menu boys! WSB is so back          StickyTip420   \n",
       "1  Retail giant TARGET has now declined for 10 co...  Comfortable-Dog-8437   \n",
       "2  How do you feel about a sitting president maki...          Btankersly66   \n",
       "3                              Who knows more? $VMAR             emiljenfn   \n",
       "4  The Trump administration is begging Xi Jinping...          Just-Big6411   \n",
       "\n",
       "                                                 url  upvotes  downvotes  \\\n",
       "0               https://i.redd.it/0yq2ftren8ue1.jpeg        0        NaN   \n",
       "1               https://i.redd.it/7tl6puv9waue1.jpeg      -15        NaN   \n",
       "2  https://apnews.com/article/trump-truth-social-...        1        NaN   \n",
       "3  https://www.reddit.com/r/stockstobuytoday/comm...       30        0.0   \n",
       "4  https://edition.cnn.com/2025/04/10/politics/tr...        1        NaN   \n",
       "\n",
       "   upvote_ratio                                               text  \\\n",
       "0           NaN                                   Calls on retards   \n",
       "1           NaN  Stunt as in like why did they even make a big ...   \n",
       "2           NaN                  Seeing lots of red in the ticker.   \n",
       "3          0.98  Vision Marine Technologies Inc. is rewriting t...   \n",
       "4           NaN                           He didn’t say thank you.   \n",
       "\n",
       "   subjectivity  polarity  sentiment  \\\n",
       "0      1.000000 -0.900000       -1.0   \n",
       "1      0.177778  0.083333        1.0   \n",
       "2      0.000000  0.000000        0.0   \n",
       "3      0.646970  0.216383        1.0   \n",
       "4      0.000000  0.000000        0.0   \n",
       "\n",
       "                                            entities  label  \\\n",
       "0                                                 []   -1.0   \n",
       "1              ['Stunt', 'company', 'deal', 'place']    0.0   \n",
       "2                                         ['ticker']    0.0   \n",
       "3  ['watercraft', 'skill', 'power', ']', 'feat', ...    1.0   \n",
       "4                                                 []   -1.0   \n",
       "\n",
       "                                            unigrams  \n",
       "0                               [Calls, on, retards]  \n",
       "1  [Stunt, as, in, like, why, did, they, even, ma...  \n",
       "2        [Seeing, lots, of, red, in, the, ticker, .]  \n",
       "3  [Vision, Marine, Technologies, Inc., is, rewri...  \n",
       "4               [He, didn, ’, t, say, thank, you, .]  "
      ]
     },
     "execution_count": 57,
     "metadata": {},
     "output_type": "execute_result"
    }
   ],
   "source": [
    "# Previously, we imported the dataset from the library and it's a specific container object \n",
    "# which has attributes like .data and .target, so we could use that to print out some data\n",
    "\n",
    "# here, our data is csv, and we use other way to print\n",
    "df.head(5) #this is to take a peek, 3 first row, and see the columns"
   ]
  },
  {
   "cell_type": "markdown",
   "metadata": {},
   "source": [
    "### >>> Exercise 2\n",
    "Experiment with some querying techniques of pandas dataframe\n",
    "\n"
   ]
  },
  {
   "cell_type": "code",
   "execution_count": 3,
   "metadata": {},
   "outputs": [
    {
     "data": {
      "text/html": [
       "<div>\n",
       "<style scoped>\n",
       "    .dataframe tbody tr th:only-of-type {\n",
       "        vertical-align: middle;\n",
       "    }\n",
       "\n",
       "    .dataframe tbody tr th {\n",
       "        vertical-align: top;\n",
       "    }\n",
       "\n",
       "    .dataframe thead th {\n",
       "        text-align: right;\n",
       "    }\n",
       "</style>\n",
       "<table border=\"1\" class=\"dataframe\">\n",
       "  <thead>\n",
       "    <tr style=\"text-align: right;\">\n",
       "      <th></th>\n",
       "      <th>type</th>\n",
       "      <th>datetime</th>\n",
       "      <th>post_id</th>\n",
       "      <th>subreddit</th>\n",
       "      <th>title</th>\n",
       "      <th>author</th>\n",
       "      <th>url</th>\n",
       "      <th>upvotes</th>\n",
       "      <th>downvotes</th>\n",
       "      <th>upvote_ratio</th>\n",
       "      <th>text</th>\n",
       "      <th>subjectivity</th>\n",
       "      <th>polarity</th>\n",
       "      <th>sentiment</th>\n",
       "      <th>entities</th>\n",
       "      <th>label</th>\n",
       "    </tr>\n",
       "  </thead>\n",
       "  <tbody>\n",
       "    <tr>\n",
       "      <th>1</th>\n",
       "      <td>comment</td>\n",
       "      <td>2025-04-12 1:12:19</td>\n",
       "      <td>mmnu7v9</td>\n",
       "      <td>wallstreetbets</td>\n",
       "      <td>Retail giant TARGET has now declined for 10 co...</td>\n",
       "      <td>Comfortable-Dog-8437</td>\n",
       "      <td>https://i.redd.it/7tl6puv9waue1.jpeg</td>\n",
       "      <td>-15</td>\n",
       "      <td>NaN</td>\n",
       "      <td>NaN</td>\n",
       "      <td>Stunt as in like why did they even make a big ...</td>\n",
       "      <td>0.177778</td>\n",
       "      <td>0.083333</td>\n",
       "      <td>1.0</td>\n",
       "      <td>['Stunt', 'company', 'deal', 'place']</td>\n",
       "      <td>0.0</td>\n",
       "    </tr>\n",
       "    <tr>\n",
       "      <th>3</th>\n",
       "      <td>post</td>\n",
       "      <td>2023-08-30 17:12:55</td>\n",
       "      <td>165kllm</td>\n",
       "      <td>stockstobuytoday</td>\n",
       "      <td>Who knows more? $VMAR</td>\n",
       "      <td>emiljenfn</td>\n",
       "      <td>https://www.reddit.com/r/stockstobuytoday/comm...</td>\n",
       "      <td>30</td>\n",
       "      <td>0.0</td>\n",
       "      <td>0.98</td>\n",
       "      <td>Vision Marine Technologies Inc. is rewriting t...</td>\n",
       "      <td>0.646970</td>\n",
       "      <td>0.216383</td>\n",
       "      <td>1.0</td>\n",
       "      <td>['watercraft', 'skill', 'power', ']', 'feat', ...</td>\n",
       "      <td>1.0</td>\n",
       "    </tr>\n",
       "    <tr>\n",
       "      <th>5</th>\n",
       "      <td>comment</td>\n",
       "      <td>2025-04-12 2:19:03</td>\n",
       "      <td>mmo4k9g</td>\n",
       "      <td>wallstreetbets</td>\n",
       "      <td>Weekend Discussion Thread for the Weekend of A...</td>\n",
       "      <td>PolarNimbus</td>\n",
       "      <td>https://www.reddit.com/r/wallstreetbets/commen...</td>\n",
       "      <td>16</td>\n",
       "      <td>NaN</td>\n",
       "      <td>NaN</td>\n",
       "      <td>Hoping to ejaculate in wet warm puss tonight, ...</td>\n",
       "      <td>0.500000</td>\n",
       "      <td>0.250000</td>\n",
       "      <td>1.0</td>\n",
       "      <td>['tonight', 'puss']</td>\n",
       "      <td>0.0</td>\n",
       "    </tr>\n",
       "    <tr>\n",
       "      <th>7</th>\n",
       "      <td>comment</td>\n",
       "      <td>2025-04-11 17:28:50</td>\n",
       "      <td>mmlhxwc</td>\n",
       "      <td>wallstreetbets</td>\n",
       "      <td>Retardation is on the menu boys! WSB is so back</td>\n",
       "      <td>OSRSkarma</td>\n",
       "      <td>https://i.redd.it/0yq2ftren8ue1.jpeg</td>\n",
       "      <td>-3</td>\n",
       "      <td>NaN</td>\n",
       "      <td>NaN</td>\n",
       "      <td>Confirmed not a trap. Its been like this for p...</td>\n",
       "      <td>0.700000</td>\n",
       "      <td>0.050000</td>\n",
       "      <td>1.0</td>\n",
       "      <td>['Confirmed', 'mouth', 'word', 'trap']</td>\n",
       "      <td>0.0</td>\n",
       "    </tr>\n",
       "    <tr>\n",
       "      <th>8</th>\n",
       "      <td>comment</td>\n",
       "      <td>2021-02-01 15:36:32</td>\n",
       "      <td>gllyi5z</td>\n",
       "      <td>stocks</td>\n",
       "      <td>It's fucking awful seeing the \"Silver\" misinfo...</td>\n",
       "      <td>Blondbox</td>\n",
       "      <td>https://www.reddit.com/r/stocks/comments/la34b...</td>\n",
       "      <td>1</td>\n",
       "      <td>NaN</td>\n",
       "      <td>NaN</td>\n",
       "      <td>Am I the only one seeing the cup &amp; handle brea...</td>\n",
       "      <td>0.491818</td>\n",
       "      <td>0.057045</td>\n",
       "      <td>1.0</td>\n",
       "      <td>['cup', 'Day', 'handle', 'pivot', 'Green', 'tr...</td>\n",
       "      <td>1.0</td>\n",
       "    </tr>\n",
       "  </tbody>\n",
       "</table>\n",
       "</div>"
      ],
      "text/plain": [
       "      type             datetime  post_id         subreddit  \\\n",
       "1  comment   2025-04-12 1:12:19  mmnu7v9    wallstreetbets   \n",
       "3     post  2023-08-30 17:12:55  165kllm  stockstobuytoday   \n",
       "5  comment   2025-04-12 2:19:03  mmo4k9g    wallstreetbets   \n",
       "7  comment  2025-04-11 17:28:50  mmlhxwc    wallstreetbets   \n",
       "8  comment  2021-02-01 15:36:32  gllyi5z            stocks   \n",
       "\n",
       "                                               title                author  \\\n",
       "1  Retail giant TARGET has now declined for 10 co...  Comfortable-Dog-8437   \n",
       "3                              Who knows more? $VMAR             emiljenfn   \n",
       "5  Weekend Discussion Thread for the Weekend of A...           PolarNimbus   \n",
       "7    Retardation is on the menu boys! WSB is so back             OSRSkarma   \n",
       "8  It's fucking awful seeing the \"Silver\" misinfo...              Blondbox   \n",
       "\n",
       "                                                 url  upvotes  downvotes  \\\n",
       "1               https://i.redd.it/7tl6puv9waue1.jpeg      -15        NaN   \n",
       "3  https://www.reddit.com/r/stockstobuytoday/comm...       30        0.0   \n",
       "5  https://www.reddit.com/r/wallstreetbets/commen...       16        NaN   \n",
       "7               https://i.redd.it/0yq2ftren8ue1.jpeg       -3        NaN   \n",
       "8  https://www.reddit.com/r/stocks/comments/la34b...        1        NaN   \n",
       "\n",
       "   upvote_ratio                                               text  \\\n",
       "1           NaN  Stunt as in like why did they even make a big ...   \n",
       "3          0.98  Vision Marine Technologies Inc. is rewriting t...   \n",
       "5           NaN  Hoping to ejaculate in wet warm puss tonight, ...   \n",
       "7           NaN  Confirmed not a trap. Its been like this for p...   \n",
       "8           NaN  Am I the only one seeing the cup & handle brea...   \n",
       "\n",
       "   subjectivity  polarity  sentiment  \\\n",
       "1      0.177778  0.083333        1.0   \n",
       "3      0.646970  0.216383        1.0   \n",
       "5      0.500000  0.250000        1.0   \n",
       "7      0.700000  0.050000        1.0   \n",
       "8      0.491818  0.057045        1.0   \n",
       "\n",
       "                                            entities  label  \n",
       "1              ['Stunt', 'company', 'deal', 'place']    0.0  \n",
       "3  ['watercraft', 'skill', 'power', ']', 'feat', ...    1.0  \n",
       "5                                ['tonight', 'puss']    0.0  \n",
       "7             ['Confirmed', 'mouth', 'word', 'trap']    0.0  \n",
       "8  ['cup', 'Day', 'handle', 'pivot', 'Green', 'tr...    1.0  "
      ]
     },
     "execution_count": 3,
     "metadata": {},
     "output_type": "execute_result"
    }
   ],
   "source": [
    "# finding all posts with a positive sentiment (1.0)\n",
    "\n",
    "# we use np.isclose() to compare floating-point numbers\n",
    "positive_posts = df[np.isclose(df['sentiment'], 1.0)]\n",
    "positive_posts.head() # print the first 5 records with that condition"
   ]
  },
  {
   "cell_type": "markdown",
   "metadata": {},
   "source": [
    "### >>> Exercise 3\n",
    "Fetch records belonging to type = post, query every 10th record, and show the first 5 records."
   ]
  },
  {
   "cell_type": "code",
   "execution_count": 4,
   "metadata": {},
   "outputs": [
    {
     "data": {
      "text/html": [
       "<div>\n",
       "<style scoped>\n",
       "    .dataframe tbody tr th:only-of-type {\n",
       "        vertical-align: middle;\n",
       "    }\n",
       "\n",
       "    .dataframe tbody tr th {\n",
       "        vertical-align: top;\n",
       "    }\n",
       "\n",
       "    .dataframe thead th {\n",
       "        text-align: right;\n",
       "    }\n",
       "</style>\n",
       "<table border=\"1\" class=\"dataframe\">\n",
       "  <thead>\n",
       "    <tr style=\"text-align: right;\">\n",
       "      <th></th>\n",
       "      <th>type</th>\n",
       "      <th>datetime</th>\n",
       "      <th>post_id</th>\n",
       "      <th>subreddit</th>\n",
       "      <th>title</th>\n",
       "      <th>author</th>\n",
       "      <th>url</th>\n",
       "      <th>upvotes</th>\n",
       "      <th>downvotes</th>\n",
       "      <th>upvote_ratio</th>\n",
       "      <th>text</th>\n",
       "      <th>subjectivity</th>\n",
       "      <th>polarity</th>\n",
       "      <th>sentiment</th>\n",
       "      <th>entities</th>\n",
       "      <th>label</th>\n",
       "    </tr>\n",
       "  </thead>\n",
       "  <tbody>\n",
       "    <tr>\n",
       "      <th>3</th>\n",
       "      <td>post</td>\n",
       "      <td>2023-08-30 17:12:55</td>\n",
       "      <td>165kllm</td>\n",
       "      <td>stockstobuytoday</td>\n",
       "      <td>Who knows more? $VMAR</td>\n",
       "      <td>emiljenfn</td>\n",
       "      <td>https://www.reddit.com/r/stockstobuytoday/comm...</td>\n",
       "      <td>30</td>\n",
       "      <td>0.0</td>\n",
       "      <td>0.98</td>\n",
       "      <td>Vision Marine Technologies Inc. is rewriting t...</td>\n",
       "      <td>0.64697</td>\n",
       "      <td>0.216383</td>\n",
       "      <td>1.0</td>\n",
       "      <td>['watercraft', 'skill', 'power', ']', 'feat', ...</td>\n",
       "      <td>1.0</td>\n",
       "    </tr>\n",
       "    <tr>\n",
       "      <th>165</th>\n",
       "      <td>post</td>\n",
       "      <td>2025-04-09 14:01:01</td>\n",
       "      <td>1jv6i3y</td>\n",
       "      <td>stockstobuytoday</td>\n",
       "      <td>Established Uptrend</td>\n",
       "      <td>AutoModerator</td>\n",
       "      <td>https://www.reddit.com/r/stockstobuytoday/comm...</td>\n",
       "      <td>1</td>\n",
       "      <td>0.0</td>\n",
       "      <td>1.00</td>\n",
       "      <td>Stock list generated from technical Analysis. ...</td>\n",
       "      <td>0.10000</td>\n",
       "      <td>0.000000</td>\n",
       "      <td>0.0</td>\n",
       "      <td>['SMA', 'ta_rsi_nob60', 'ft=2', 'stockbuyvest....</td>\n",
       "      <td>0.0</td>\n",
       "    </tr>\n",
       "    <tr>\n",
       "      <th>332</th>\n",
       "      <td>post</td>\n",
       "      <td>2025-04-11 18:25:25</td>\n",
       "      <td>1jwwv42</td>\n",
       "      <td>wallstreetbets</td>\n",
       "      <td>$75k+ In Gains (300% YTD)</td>\n",
       "      <td>KatBoss01</td>\n",
       "      <td>https://www.reddit.com/gallery/1jwwv42</td>\n",
       "      <td>5</td>\n",
       "      <td>0.0</td>\n",
       "      <td>1.00</td>\n",
       "      <td>Mostly in MSTR calls, AAPL puts and GBTC long.</td>\n",
       "      <td>0.45000</td>\n",
       "      <td>0.225000</td>\n",
       "      <td>1.0</td>\n",
       "      <td>['GBTC', 'MSTR', 'AAPL']</td>\n",
       "      <td>1.0</td>\n",
       "    </tr>\n",
       "    <tr>\n",
       "      <th>421</th>\n",
       "      <td>post</td>\n",
       "      <td>2025-03-31 14:05:30</td>\n",
       "      <td>1jo3zpc</td>\n",
       "      <td>stockstobuytoday</td>\n",
       "      <td>Stock Gainers for Today</td>\n",
       "      <td>saasfin</td>\n",
       "      <td>https://www.reddit.com/r/stockstobuytoday/comm...</td>\n",
       "      <td>1</td>\n",
       "      <td>0.0</td>\n",
       "      <td>1.00</td>\n",
       "      <td>Stocks that are trending up today\\r\\n\\r\\n [Pop...</td>\n",
       "      <td>0.00000</td>\n",
       "      <td>0.000000</td>\n",
       "      <td>0.0</td>\n",
       "      <td>[']', 'Popping', 'stockbuyvest.com', 'today']</td>\n",
       "      <td>0.0</td>\n",
       "    </tr>\n",
       "    <tr>\n",
       "      <th>487</th>\n",
       "      <td>post</td>\n",
       "      <td>2021-12-25 0:40:59</td>\n",
       "      <td>rnypxo</td>\n",
       "      <td>stockstobuytoday</td>\n",
       "      <td>Deep value vs Dividend!</td>\n",
       "      <td>AnonymusFarmer</td>\n",
       "      <td>https://www.reddit.com/r/stockstobuytoday/comm...</td>\n",
       "      <td>9</td>\n",
       "      <td>0.0</td>\n",
       "      <td>0.91</td>\n",
       "      <td>Good Morning Investors, \\r\\n\\r\\nI am a young F...</td>\n",
       "      <td>0.41903</td>\n",
       "      <td>0.119152</td>\n",
       "      <td>1.0</td>\n",
       "      <td>['student', 'someone', 'x200B', 'dividend', 'w...</td>\n",
       "      <td>0.0</td>\n",
       "    </tr>\n",
       "  </tbody>\n",
       "</table>\n",
       "</div>"
      ],
      "text/plain": [
       "     type             datetime  post_id         subreddit  \\\n",
       "3    post  2023-08-30 17:12:55  165kllm  stockstobuytoday   \n",
       "165  post  2025-04-09 14:01:01  1jv6i3y  stockstobuytoday   \n",
       "332  post  2025-04-11 18:25:25  1jwwv42    wallstreetbets   \n",
       "421  post  2025-03-31 14:05:30  1jo3zpc  stockstobuytoday   \n",
       "487  post   2021-12-25 0:40:59   rnypxo  stockstobuytoday   \n",
       "\n",
       "                         title          author  \\\n",
       "3        Who knows more? $VMAR       emiljenfn   \n",
       "165        Established Uptrend   AutoModerator   \n",
       "332  $75k+ In Gains (300% YTD)       KatBoss01   \n",
       "421    Stock Gainers for Today         saasfin   \n",
       "487    Deep value vs Dividend!  AnonymusFarmer   \n",
       "\n",
       "                                                   url  upvotes  downvotes  \\\n",
       "3    https://www.reddit.com/r/stockstobuytoday/comm...       30        0.0   \n",
       "165  https://www.reddit.com/r/stockstobuytoday/comm...        1        0.0   \n",
       "332             https://www.reddit.com/gallery/1jwwv42        5        0.0   \n",
       "421  https://www.reddit.com/r/stockstobuytoday/comm...        1        0.0   \n",
       "487  https://www.reddit.com/r/stockstobuytoday/comm...        9        0.0   \n",
       "\n",
       "     upvote_ratio                                               text  \\\n",
       "3            0.98  Vision Marine Technologies Inc. is rewriting t...   \n",
       "165          1.00  Stock list generated from technical Analysis. ...   \n",
       "332          1.00     Mostly in MSTR calls, AAPL puts and GBTC long.   \n",
       "421          1.00  Stocks that are trending up today\\r\\n\\r\\n [Pop...   \n",
       "487          0.91  Good Morning Investors, \\r\\n\\r\\nI am a young F...   \n",
       "\n",
       "     subjectivity  polarity  sentiment  \\\n",
       "3         0.64697  0.216383        1.0   \n",
       "165       0.10000  0.000000        0.0   \n",
       "332       0.45000  0.225000        1.0   \n",
       "421       0.00000  0.000000        0.0   \n",
       "487       0.41903  0.119152        1.0   \n",
       "\n",
       "                                              entities  label  \n",
       "3    ['watercraft', 'skill', 'power', ']', 'feat', ...    1.0  \n",
       "165  ['SMA', 'ta_rsi_nob60', 'ft=2', 'stockbuyvest....    0.0  \n",
       "332                           ['GBTC', 'MSTR', 'AAPL']    1.0  \n",
       "421      [']', 'Popping', 'stockbuyvest.com', 'today']    0.0  \n",
       "487  ['student', 'someone', 'x200B', 'dividend', 'w...    0.0  "
      ]
     },
     "execution_count": 4,
     "metadata": {},
     "output_type": "execute_result"
    }
   ],
   "source": [
    "df[df['type'] == 'post'][::10][0:5]"
   ]
  },
  {
   "cell_type": "code",
   "execution_count": 5,
   "metadata": {},
   "outputs": [
    {
     "data": {
      "text/html": [
       "<div>\n",
       "<style scoped>\n",
       "    .dataframe tbody tr th:only-of-type {\n",
       "        vertical-align: middle;\n",
       "    }\n",
       "\n",
       "    .dataframe tbody tr th {\n",
       "        vertical-align: top;\n",
       "    }\n",
       "\n",
       "    .dataframe thead th {\n",
       "        text-align: right;\n",
       "    }\n",
       "</style>\n",
       "<table border=\"1\" class=\"dataframe\">\n",
       "  <thead>\n",
       "    <tr style=\"text-align: right;\">\n",
       "      <th></th>\n",
       "      <th>type</th>\n",
       "      <th>datetime</th>\n",
       "      <th>post_id</th>\n",
       "      <th>subreddit</th>\n",
       "      <th>title</th>\n",
       "      <th>author</th>\n",
       "      <th>url</th>\n",
       "      <th>upvotes</th>\n",
       "      <th>downvotes</th>\n",
       "      <th>upvote_ratio</th>\n",
       "      <th>text</th>\n",
       "      <th>subjectivity</th>\n",
       "      <th>polarity</th>\n",
       "      <th>sentiment</th>\n",
       "      <th>entities</th>\n",
       "      <th>label</th>\n",
       "    </tr>\n",
       "  </thead>\n",
       "  <tbody>\n",
       "    <tr>\n",
       "      <th>0</th>\n",
       "      <td>False</td>\n",
       "      <td>False</td>\n",
       "      <td>False</td>\n",
       "      <td>False</td>\n",
       "      <td>False</td>\n",
       "      <td>False</td>\n",
       "      <td>False</td>\n",
       "      <td>False</td>\n",
       "      <td>True</td>\n",
       "      <td>True</td>\n",
       "      <td>False</td>\n",
       "      <td>False</td>\n",
       "      <td>False</td>\n",
       "      <td>False</td>\n",
       "      <td>False</td>\n",
       "      <td>False</td>\n",
       "    </tr>\n",
       "    <tr>\n",
       "      <th>1</th>\n",
       "      <td>False</td>\n",
       "      <td>False</td>\n",
       "      <td>False</td>\n",
       "      <td>False</td>\n",
       "      <td>False</td>\n",
       "      <td>False</td>\n",
       "      <td>False</td>\n",
       "      <td>False</td>\n",
       "      <td>True</td>\n",
       "      <td>True</td>\n",
       "      <td>False</td>\n",
       "      <td>False</td>\n",
       "      <td>False</td>\n",
       "      <td>False</td>\n",
       "      <td>False</td>\n",
       "      <td>False</td>\n",
       "    </tr>\n",
       "    <tr>\n",
       "      <th>2</th>\n",
       "      <td>False</td>\n",
       "      <td>False</td>\n",
       "      <td>False</td>\n",
       "      <td>False</td>\n",
       "      <td>False</td>\n",
       "      <td>False</td>\n",
       "      <td>False</td>\n",
       "      <td>False</td>\n",
       "      <td>True</td>\n",
       "      <td>True</td>\n",
       "      <td>False</td>\n",
       "      <td>False</td>\n",
       "      <td>False</td>\n",
       "      <td>False</td>\n",
       "      <td>False</td>\n",
       "      <td>False</td>\n",
       "    </tr>\n",
       "    <tr>\n",
       "      <th>3</th>\n",
       "      <td>False</td>\n",
       "      <td>False</td>\n",
       "      <td>False</td>\n",
       "      <td>False</td>\n",
       "      <td>False</td>\n",
       "      <td>False</td>\n",
       "      <td>False</td>\n",
       "      <td>False</td>\n",
       "      <td>False</td>\n",
       "      <td>False</td>\n",
       "      <td>False</td>\n",
       "      <td>False</td>\n",
       "      <td>False</td>\n",
       "      <td>False</td>\n",
       "      <td>False</td>\n",
       "      <td>False</td>\n",
       "    </tr>\n",
       "    <tr>\n",
       "      <th>4</th>\n",
       "      <td>False</td>\n",
       "      <td>False</td>\n",
       "      <td>False</td>\n",
       "      <td>False</td>\n",
       "      <td>False</td>\n",
       "      <td>False</td>\n",
       "      <td>False</td>\n",
       "      <td>False</td>\n",
       "      <td>True</td>\n",
       "      <td>True</td>\n",
       "      <td>False</td>\n",
       "      <td>False</td>\n",
       "      <td>False</td>\n",
       "      <td>False</td>\n",
       "      <td>False</td>\n",
       "      <td>False</td>\n",
       "    </tr>\n",
       "    <tr>\n",
       "      <th>...</th>\n",
       "      <td>...</td>\n",
       "      <td>...</td>\n",
       "      <td>...</td>\n",
       "      <td>...</td>\n",
       "      <td>...</td>\n",
       "      <td>...</td>\n",
       "      <td>...</td>\n",
       "      <td>...</td>\n",
       "      <td>...</td>\n",
       "      <td>...</td>\n",
       "      <td>...</td>\n",
       "      <td>...</td>\n",
       "      <td>...</td>\n",
       "      <td>...</td>\n",
       "      <td>...</td>\n",
       "      <td>...</td>\n",
       "    </tr>\n",
       "    <tr>\n",
       "      <th>842</th>\n",
       "      <td>False</td>\n",
       "      <td>False</td>\n",
       "      <td>False</td>\n",
       "      <td>False</td>\n",
       "      <td>False</td>\n",
       "      <td>False</td>\n",
       "      <td>False</td>\n",
       "      <td>False</td>\n",
       "      <td>True</td>\n",
       "      <td>True</td>\n",
       "      <td>False</td>\n",
       "      <td>False</td>\n",
       "      <td>False</td>\n",
       "      <td>False</td>\n",
       "      <td>False</td>\n",
       "      <td>False</td>\n",
       "    </tr>\n",
       "    <tr>\n",
       "      <th>843</th>\n",
       "      <td>False</td>\n",
       "      <td>False</td>\n",
       "      <td>False</td>\n",
       "      <td>False</td>\n",
       "      <td>False</td>\n",
       "      <td>False</td>\n",
       "      <td>False</td>\n",
       "      <td>False</td>\n",
       "      <td>True</td>\n",
       "      <td>True</td>\n",
       "      <td>False</td>\n",
       "      <td>False</td>\n",
       "      <td>False</td>\n",
       "      <td>False</td>\n",
       "      <td>False</td>\n",
       "      <td>False</td>\n",
       "    </tr>\n",
       "    <tr>\n",
       "      <th>844</th>\n",
       "      <td>False</td>\n",
       "      <td>False</td>\n",
       "      <td>False</td>\n",
       "      <td>False</td>\n",
       "      <td>False</td>\n",
       "      <td>False</td>\n",
       "      <td>False</td>\n",
       "      <td>False</td>\n",
       "      <td>False</td>\n",
       "      <td>False</td>\n",
       "      <td>False</td>\n",
       "      <td>False</td>\n",
       "      <td>False</td>\n",
       "      <td>False</td>\n",
       "      <td>False</td>\n",
       "      <td>False</td>\n",
       "    </tr>\n",
       "    <tr>\n",
       "      <th>845</th>\n",
       "      <td>False</td>\n",
       "      <td>False</td>\n",
       "      <td>False</td>\n",
       "      <td>False</td>\n",
       "      <td>False</td>\n",
       "      <td>False</td>\n",
       "      <td>False</td>\n",
       "      <td>False</td>\n",
       "      <td>True</td>\n",
       "      <td>True</td>\n",
       "      <td>False</td>\n",
       "      <td>False</td>\n",
       "      <td>False</td>\n",
       "      <td>False</td>\n",
       "      <td>False</td>\n",
       "      <td>False</td>\n",
       "    </tr>\n",
       "    <tr>\n",
       "      <th>846</th>\n",
       "      <td>False</td>\n",
       "      <td>False</td>\n",
       "      <td>False</td>\n",
       "      <td>False</td>\n",
       "      <td>False</td>\n",
       "      <td>False</td>\n",
       "      <td>False</td>\n",
       "      <td>False</td>\n",
       "      <td>True</td>\n",
       "      <td>True</td>\n",
       "      <td>False</td>\n",
       "      <td>False</td>\n",
       "      <td>False</td>\n",
       "      <td>False</td>\n",
       "      <td>False</td>\n",
       "      <td>False</td>\n",
       "    </tr>\n",
       "  </tbody>\n",
       "</table>\n",
       "<p>847 rows × 16 columns</p>\n",
       "</div>"
      ],
      "text/plain": [
       "      type  datetime  post_id  subreddit  title  author    url  upvotes  \\\n",
       "0    False     False    False      False  False   False  False    False   \n",
       "1    False     False    False      False  False   False  False    False   \n",
       "2    False     False    False      False  False   False  False    False   \n",
       "3    False     False    False      False  False   False  False    False   \n",
       "4    False     False    False      False  False   False  False    False   \n",
       "..     ...       ...      ...        ...    ...     ...    ...      ...   \n",
       "842  False     False    False      False  False   False  False    False   \n",
       "843  False     False    False      False  False   False  False    False   \n",
       "844  False     False    False      False  False   False  False    False   \n",
       "845  False     False    False      False  False   False  False    False   \n",
       "846  False     False    False      False  False   False  False    False   \n",
       "\n",
       "     downvotes  upvote_ratio   text  subjectivity  polarity  sentiment  \\\n",
       "0         True          True  False         False     False      False   \n",
       "1         True          True  False         False     False      False   \n",
       "2         True          True  False         False     False      False   \n",
       "3        False         False  False         False     False      False   \n",
       "4         True          True  False         False     False      False   \n",
       "..         ...           ...    ...           ...       ...        ...   \n",
       "842       True          True  False         False     False      False   \n",
       "843       True          True  False         False     False      False   \n",
       "844      False         False  False         False     False      False   \n",
       "845       True          True  False         False     False      False   \n",
       "846       True          True  False         False     False      False   \n",
       "\n",
       "     entities  label  \n",
       "0       False  False  \n",
       "1       False  False  \n",
       "2       False  False  \n",
       "3       False  False  \n",
       "4       False  False  \n",
       "..        ...    ...  \n",
       "842     False  False  \n",
       "843     False  False  \n",
       "844     False  False  \n",
       "845     False  False  \n",
       "846     False  False  \n",
       "\n",
       "[847 rows x 16 columns]"
      ]
     },
     "execution_count": 5,
     "metadata": {},
     "output_type": "execute_result"
    }
   ],
   "source": [
    "# check missing values\n",
    "df.isnull()"
   ]
  },
  {
   "cell_type": "code",
   "execution_count": 6,
   "metadata": {},
   "outputs": [
    {
     "data": {
      "text/html": [
       "<div>\n",
       "<style scoped>\n",
       "    .dataframe tbody tr th:only-of-type {\n",
       "        vertical-align: middle;\n",
       "    }\n",
       "\n",
       "    .dataframe tbody tr th {\n",
       "        vertical-align: top;\n",
       "    }\n",
       "\n",
       "    .dataframe thead th {\n",
       "        text-align: right;\n",
       "    }\n",
       "</style>\n",
       "<table border=\"1\" class=\"dataframe\">\n",
       "  <thead>\n",
       "    <tr style=\"text-align: right;\">\n",
       "      <th></th>\n",
       "      <th>type</th>\n",
       "      <th>datetime</th>\n",
       "      <th>post_id</th>\n",
       "      <th>subreddit</th>\n",
       "      <th>title</th>\n",
       "      <th>author</th>\n",
       "      <th>url</th>\n",
       "      <th>upvotes</th>\n",
       "      <th>downvotes</th>\n",
       "      <th>upvote_ratio</th>\n",
       "      <th>text</th>\n",
       "      <th>subjectivity</th>\n",
       "      <th>polarity</th>\n",
       "      <th>sentiment</th>\n",
       "      <th>entities</th>\n",
       "      <th>label</th>\n",
       "    </tr>\n",
       "  </thead>\n",
       "  <tbody>\n",
       "    <tr>\n",
       "      <th>0</th>\n",
       "      <td>The amoung of missing records is:</td>\n",
       "      <td>The amoung of missing records is:</td>\n",
       "      <td>The amoung of missing records is:</td>\n",
       "      <td>The amoung of missing records is:</td>\n",
       "      <td>The amoung of missing records is:</td>\n",
       "      <td>The amoung of missing records is:</td>\n",
       "      <td>The amoung of missing records is:</td>\n",
       "      <td>The amoung of missing records is:</td>\n",
       "      <td>The amoung of missing records is:</td>\n",
       "      <td>The amoung of missing records is:</td>\n",
       "      <td>The amoung of missing records is:</td>\n",
       "      <td>The amoung of missing records is:</td>\n",
       "      <td>The amoung of missing records is:</td>\n",
       "      <td>The amoung of missing records is:</td>\n",
       "      <td>The amoung of missing records is:</td>\n",
       "      <td>The amoung of missing records is:</td>\n",
       "    </tr>\n",
       "    <tr>\n",
       "      <th>1</th>\n",
       "      <td>0</td>\n",
       "      <td>0</td>\n",
       "      <td>0</td>\n",
       "      <td>0</td>\n",
       "      <td>0</td>\n",
       "      <td>0</td>\n",
       "      <td>0</td>\n",
       "      <td>0</td>\n",
       "      <td>783</td>\n",
       "      <td>783</td>\n",
       "      <td>0</td>\n",
       "      <td>0</td>\n",
       "      <td>0</td>\n",
       "      <td>0</td>\n",
       "      <td>0</td>\n",
       "      <td>0</td>\n",
       "    </tr>\n",
       "  </tbody>\n",
       "</table>\n",
       "</div>"
      ],
      "text/plain": [
       "                                 type                            datetime  \\\n",
       "0  The amoung of missing records is:   The amoung of missing records is:    \n",
       "1                                   0                                   0   \n",
       "\n",
       "                              post_id                           subreddit  \\\n",
       "0  The amoung of missing records is:   The amoung of missing records is:    \n",
       "1                                   0                                   0   \n",
       "\n",
       "                                title                              author  \\\n",
       "0  The amoung of missing records is:   The amoung of missing records is:    \n",
       "1                                   0                                   0   \n",
       "\n",
       "                                  url                             upvotes  \\\n",
       "0  The amoung of missing records is:   The amoung of missing records is:    \n",
       "1                                   0                                   0   \n",
       "\n",
       "                            downvotes                        upvote_ratio  \\\n",
       "0  The amoung of missing records is:   The amoung of missing records is:    \n",
       "1                                 783                                 783   \n",
       "\n",
       "                                 text                        subjectivity  \\\n",
       "0  The amoung of missing records is:   The amoung of missing records is:    \n",
       "1                                   0                                   0   \n",
       "\n",
       "                             polarity                           sentiment  \\\n",
       "0  The amoung of missing records is:   The amoung of missing records is:    \n",
       "1                                   0                                   0   \n",
       "\n",
       "                             entities                               label  \n",
       "0  The amoung of missing records is:   The amoung of missing records is:   \n",
       "1                                   0                                   0  "
      ]
     },
     "execution_count": 6,
     "metadata": {},
     "output_type": "execute_result"
    }
   ],
   "source": [
    "df.isnull().apply(lambda x: dmh.check_missing_values(x))\n",
    "\n",
    "# here we can clearly see in which columns our dataset contains missing values\n",
    "# turns out, downvote and upvote columns contain lots of missing values"
   ]
  },
  {
   "cell_type": "markdown",
   "metadata": {},
   "source": [
    "### >>> Exercise 4\n",
    "Calculating missing values in every record instead of every column"
   ]
  },
  {
   "cell_type": "code",
   "execution_count": 7,
   "metadata": {},
   "outputs": [
    {
     "data": {
      "text/plain": [
       "0      (The amoung of missing records is: , 2)\n",
       "1      (The amoung of missing records is: , 2)\n",
       "2      (The amoung of missing records is: , 2)\n",
       "3      (The amoung of missing records is: , 0)\n",
       "4      (The amoung of missing records is: , 2)\n",
       "                        ...                   \n",
       "842    (The amoung of missing records is: , 2)\n",
       "843    (The amoung of missing records is: , 2)\n",
       "844    (The amoung of missing records is: , 0)\n",
       "845    (The amoung of missing records is: , 2)\n",
       "846    (The amoung of missing records is: , 2)\n",
       "Length: 847, dtype: object"
      ]
     },
     "execution_count": 7,
     "metadata": {},
     "output_type": "execute_result"
    }
   ],
   "source": [
    "# we just use the given function from our helper file\n",
    "df.isnull().apply(lambda x: dmh.check_missing_values(x), axis = 1)"
   ]
  },
  {
   "cell_type": "markdown",
   "metadata": {},
   "source": [
    "Here we try dropping some records with missing values, hopefully, we not deleting too much record"
   ]
  },
  {
   "cell_type": "code",
   "execution_count": 8,
   "metadata": {},
   "outputs": [
    {
     "data": {
      "text/plain": [
       "64"
      ]
     },
     "execution_count": 8,
     "metadata": {},
     "output_type": "execute_result"
    }
   ],
   "source": [
    "new_df = df.dropna(inplace=False)\n",
    "new_df\n",
    "len(new_df) # from 847 records, we only have 64 left with no missing values\n",
    "# i dont think this method is good"
   ]
  },
  {
   "cell_type": "code",
   "execution_count": 9,
   "metadata": {},
   "outputs": [
    {
     "name": "stderr",
     "output_type": "stream",
     "text": [
      "C:\\Users\\JEREMY\\AppData\\Local\\Temp\\ipykernel_80332\\2161409901.py:8: FutureWarning: A value is trying to be set on a copy of a DataFrame or Series through chained assignment using an inplace method.\n",
      "The behavior will change in pandas 3.0. This inplace method will never work because the intermediate object on which we are setting values always behaves as a copy.\n",
      "\n",
      "For example, when doing 'df[col].method(value, inplace=True)', try using 'df.method({col: value}, inplace=True)' or df[col] = df[col].method(value) instead, to perform the operation inplace on the original object.\n",
      "\n",
      "\n",
      "  new_df['upvote_ratio'].fillna(median_ratio, inplace=True)\n"
     ]
    }
   ],
   "source": [
    "# another approach is to:\n",
    "# 1. drop downvote column : it contains too many missing values to be useful\n",
    "# 2. do imputation for upvote_ratio : it is valuable enough tobe saved\n",
    "\n",
    "new_df = df.drop(columns=['downvotes'], inplace=False)\n",
    "\n",
    "median_ratio = df['upvote_ratio'].median()\n",
    "new_df['upvote_ratio'].fillna(median_ratio, inplace=True)\n",
    "\n"
   ]
  },
  {
   "cell_type": "code",
   "execution_count": 10,
   "metadata": {},
   "outputs": [
    {
     "data": {
      "text/html": [
       "<div>\n",
       "<style scoped>\n",
       "    .dataframe tbody tr th:only-of-type {\n",
       "        vertical-align: middle;\n",
       "    }\n",
       "\n",
       "    .dataframe tbody tr th {\n",
       "        vertical-align: top;\n",
       "    }\n",
       "\n",
       "    .dataframe thead th {\n",
       "        text-align: right;\n",
       "    }\n",
       "</style>\n",
       "<table border=\"1\" class=\"dataframe\">\n",
       "  <thead>\n",
       "    <tr style=\"text-align: right;\">\n",
       "      <th></th>\n",
       "      <th>type</th>\n",
       "      <th>datetime</th>\n",
       "      <th>post_id</th>\n",
       "      <th>subreddit</th>\n",
       "      <th>title</th>\n",
       "      <th>author</th>\n",
       "      <th>url</th>\n",
       "      <th>upvotes</th>\n",
       "      <th>upvote_ratio</th>\n",
       "      <th>text</th>\n",
       "      <th>subjectivity</th>\n",
       "      <th>polarity</th>\n",
       "      <th>sentiment</th>\n",
       "      <th>entities</th>\n",
       "      <th>label</th>\n",
       "    </tr>\n",
       "  </thead>\n",
       "  <tbody>\n",
       "    <tr>\n",
       "      <th>0</th>\n",
       "      <td>comment</td>\n",
       "      <td>2025-04-11 17:29:56</td>\n",
       "      <td>mmli62w</td>\n",
       "      <td>wallstreetbets</td>\n",
       "      <td>Retardation is on the menu boys! WSB is so back</td>\n",
       "      <td>StickyTip420</td>\n",
       "      <td>https://i.redd.it/0yq2ftren8ue1.jpeg</td>\n",
       "      <td>0</td>\n",
       "      <td>1.00</td>\n",
       "      <td>Calls on retards</td>\n",
       "      <td>1.000000</td>\n",
       "      <td>-0.900000</td>\n",
       "      <td>-1.0</td>\n",
       "      <td>[]</td>\n",
       "      <td>-1.0</td>\n",
       "    </tr>\n",
       "    <tr>\n",
       "      <th>1</th>\n",
       "      <td>comment</td>\n",
       "      <td>2025-04-12 1:12:19</td>\n",
       "      <td>mmnu7v9</td>\n",
       "      <td>wallstreetbets</td>\n",
       "      <td>Retail giant TARGET has now declined for 10 co...</td>\n",
       "      <td>Comfortable-Dog-8437</td>\n",
       "      <td>https://i.redd.it/7tl6puv9waue1.jpeg</td>\n",
       "      <td>-15</td>\n",
       "      <td>1.00</td>\n",
       "      <td>Stunt as in like why did they even make a big ...</td>\n",
       "      <td>0.177778</td>\n",
       "      <td>0.083333</td>\n",
       "      <td>1.0</td>\n",
       "      <td>['Stunt', 'company', 'deal', 'place']</td>\n",
       "      <td>0.0</td>\n",
       "    </tr>\n",
       "    <tr>\n",
       "      <th>2</th>\n",
       "      <td>comment</td>\n",
       "      <td>2025-04-10 15:09:41</td>\n",
       "      <td>mmeevio</td>\n",
       "      <td>StockMarket</td>\n",
       "      <td>How do you feel about a sitting president maki...</td>\n",
       "      <td>Btankersly66</td>\n",
       "      <td>https://apnews.com/article/trump-truth-social-...</td>\n",
       "      <td>1</td>\n",
       "      <td>1.00</td>\n",
       "      <td>Seeing lots of red in the ticker.</td>\n",
       "      <td>0.000000</td>\n",
       "      <td>0.000000</td>\n",
       "      <td>0.0</td>\n",
       "      <td>['ticker']</td>\n",
       "      <td>0.0</td>\n",
       "    </tr>\n",
       "    <tr>\n",
       "      <th>3</th>\n",
       "      <td>post</td>\n",
       "      <td>2023-08-30 17:12:55</td>\n",
       "      <td>165kllm</td>\n",
       "      <td>stockstobuytoday</td>\n",
       "      <td>Who knows more? $VMAR</td>\n",
       "      <td>emiljenfn</td>\n",
       "      <td>https://www.reddit.com/r/stockstobuytoday/comm...</td>\n",
       "      <td>30</td>\n",
       "      <td>0.98</td>\n",
       "      <td>Vision Marine Technologies Inc. is rewriting t...</td>\n",
       "      <td>0.646970</td>\n",
       "      <td>0.216383</td>\n",
       "      <td>1.0</td>\n",
       "      <td>['watercraft', 'skill', 'power', ']', 'feat', ...</td>\n",
       "      <td>1.0</td>\n",
       "    </tr>\n",
       "    <tr>\n",
       "      <th>4</th>\n",
       "      <td>comment</td>\n",
       "      <td>2025-04-11 14:48:05</td>\n",
       "      <td>mmkl6bw</td>\n",
       "      <td>StockMarket</td>\n",
       "      <td>The Trump administration is begging Xi Jinping...</td>\n",
       "      <td>Just-Big6411</td>\n",
       "      <td>https://edition.cnn.com/2025/04/10/politics/tr...</td>\n",
       "      <td>1</td>\n",
       "      <td>1.00</td>\n",
       "      <td>He didn’t say thank you.</td>\n",
       "      <td>0.000000</td>\n",
       "      <td>0.000000</td>\n",
       "      <td>0.0</td>\n",
       "      <td>[]</td>\n",
       "      <td>-1.0</td>\n",
       "    </tr>\n",
       "    <tr>\n",
       "      <th>...</th>\n",
       "      <td>...</td>\n",
       "      <td>...</td>\n",
       "      <td>...</td>\n",
       "      <td>...</td>\n",
       "      <td>...</td>\n",
       "      <td>...</td>\n",
       "      <td>...</td>\n",
       "      <td>...</td>\n",
       "      <td>...</td>\n",
       "      <td>...</td>\n",
       "      <td>...</td>\n",
       "      <td>...</td>\n",
       "      <td>...</td>\n",
       "      <td>...</td>\n",
       "      <td>...</td>\n",
       "    </tr>\n",
       "    <tr>\n",
       "      <th>842</th>\n",
       "      <td>comment</td>\n",
       "      <td>2021-06-30 4:06:06</td>\n",
       "      <td>h3iv6pq</td>\n",
       "      <td>stockstobuytoday</td>\n",
       "      <td>$MRIN Marin Software killed it today. Hope som...</td>\n",
       "      <td>Ordinary-Office9180</td>\n",
       "      <td>https://www.reddit.com/r/stockstobuytoday/comm...</td>\n",
       "      <td>1</td>\n",
       "      <td>1.00</td>\n",
       "      <td>Invest now it is going to shoot up tomorrow</td>\n",
       "      <td>0.000000</td>\n",
       "      <td>0.000000</td>\n",
       "      <td>0.0</td>\n",
       "      <td>['tomorrow']</td>\n",
       "      <td>1.0</td>\n",
       "    </tr>\n",
       "    <tr>\n",
       "      <th>843</th>\n",
       "      <td>comment</td>\n",
       "      <td>2025-04-11 5:01:24</td>\n",
       "      <td>mmijiuz</td>\n",
       "      <td>StockMarket</td>\n",
       "      <td>$ U.S. dollar value (crashing)</td>\n",
       "      <td>lulububudu</td>\n",
       "      <td>https://i.redd.it/atvlo83gk4ue1.jpeg</td>\n",
       "      <td>2</td>\n",
       "      <td>1.00</td>\n",
       "      <td>Where can I read this?</td>\n",
       "      <td>0.000000</td>\n",
       "      <td>0.000000</td>\n",
       "      <td>0.0</td>\n",
       "      <td>[]</td>\n",
       "      <td>0.0</td>\n",
       "    </tr>\n",
       "    <tr>\n",
       "      <th>844</th>\n",
       "      <td>post</td>\n",
       "      <td>2025-03-24 12:30:39</td>\n",
       "      <td>1jipi4v</td>\n",
       "      <td>stockstobuytoday</td>\n",
       "      <td>Analyst Recommendations</td>\n",
       "      <td>saasfin</td>\n",
       "      <td>https://www.reddit.com/r/stockstobuytoday/comm...</td>\n",
       "      <td>1</td>\n",
       "      <td>1.00</td>\n",
       "      <td>Upgrades, Downgrades\\r\\n\\r\\n [Stock Analyst Re...</td>\n",
       "      <td>0.000000</td>\n",
       "      <td>0.000000</td>\n",
       "      <td>0.0</td>\n",
       "      <td>['Analyst', 'Nasdaq', 'Stock', 'Upgrades', 'Do...</td>\n",
       "      <td>0.0</td>\n",
       "    </tr>\n",
       "    <tr>\n",
       "      <th>845</th>\n",
       "      <td>comment</td>\n",
       "      <td>2025-04-11 20:13:26</td>\n",
       "      <td>mmmely7</td>\n",
       "      <td>wallstreetbets</td>\n",
       "      <td>Weekend Discussion Thread for the Weekend of A...</td>\n",
       "      <td>yes_ur_wrong</td>\n",
       "      <td>https://www.reddit.com/r/wallstreetbets/commen...</td>\n",
       "      <td>10</td>\n",
       "      <td>1.00</td>\n",
       "      <td>i sold my puts so i expect cheeto to declare w...</td>\n",
       "      <td>0.000000</td>\n",
       "      <td>0.000000</td>\n",
       "      <td>0.0</td>\n",
       "      <td>['war', 'denmark', 'cheeto', 'i']</td>\n",
       "      <td>-1.0</td>\n",
       "    </tr>\n",
       "    <tr>\n",
       "      <th>846</th>\n",
       "      <td>comment</td>\n",
       "      <td>2025-04-12 3:09:06</td>\n",
       "      <td>mmobyz1</td>\n",
       "      <td>wallstreetbets</td>\n",
       "      <td>Someone post the hotline please.</td>\n",
       "      <td>I_am_Nerman</td>\n",
       "      <td>https://i.redd.it/tcfuu97p7bue1.jpeg</td>\n",
       "      <td>1</td>\n",
       "      <td>1.00</td>\n",
       "      <td>![img](emote|t5_2th52|31224)</td>\n",
       "      <td>0.000000</td>\n",
       "      <td>0.000000</td>\n",
       "      <td>0.0</td>\n",
       "      <td>['img', ']', '[', 'emote|t5_2th52|31224']</td>\n",
       "      <td>0.0</td>\n",
       "    </tr>\n",
       "  </tbody>\n",
       "</table>\n",
       "<p>847 rows × 15 columns</p>\n",
       "</div>"
      ],
      "text/plain": [
       "        type             datetime  post_id         subreddit  \\\n",
       "0    comment  2025-04-11 17:29:56  mmli62w    wallstreetbets   \n",
       "1    comment   2025-04-12 1:12:19  mmnu7v9    wallstreetbets   \n",
       "2    comment  2025-04-10 15:09:41  mmeevio       StockMarket   \n",
       "3       post  2023-08-30 17:12:55  165kllm  stockstobuytoday   \n",
       "4    comment  2025-04-11 14:48:05  mmkl6bw       StockMarket   \n",
       "..       ...                  ...      ...               ...   \n",
       "842  comment   2021-06-30 4:06:06  h3iv6pq  stockstobuytoday   \n",
       "843  comment   2025-04-11 5:01:24  mmijiuz       StockMarket   \n",
       "844     post  2025-03-24 12:30:39  1jipi4v  stockstobuytoday   \n",
       "845  comment  2025-04-11 20:13:26  mmmely7    wallstreetbets   \n",
       "846  comment   2025-04-12 3:09:06  mmobyz1    wallstreetbets   \n",
       "\n",
       "                                                 title                author  \\\n",
       "0      Retardation is on the menu boys! WSB is so back          StickyTip420   \n",
       "1    Retail giant TARGET has now declined for 10 co...  Comfortable-Dog-8437   \n",
       "2    How do you feel about a sitting president maki...          Btankersly66   \n",
       "3                                Who knows more? $VMAR             emiljenfn   \n",
       "4    The Trump administration is begging Xi Jinping...          Just-Big6411   \n",
       "..                                                 ...                   ...   \n",
       "842  $MRIN Marin Software killed it today. Hope som...   Ordinary-Office9180   \n",
       "843                     $ U.S. dollar value (crashing)            lulububudu   \n",
       "844                            Analyst Recommendations               saasfin   \n",
       "845  Weekend Discussion Thread for the Weekend of A...          yes_ur_wrong   \n",
       "846                   Someone post the hotline please.           I_am_Nerman   \n",
       "\n",
       "                                                   url  upvotes  upvote_ratio  \\\n",
       "0                 https://i.redd.it/0yq2ftren8ue1.jpeg        0          1.00   \n",
       "1                 https://i.redd.it/7tl6puv9waue1.jpeg      -15          1.00   \n",
       "2    https://apnews.com/article/trump-truth-social-...        1          1.00   \n",
       "3    https://www.reddit.com/r/stockstobuytoday/comm...       30          0.98   \n",
       "4    https://edition.cnn.com/2025/04/10/politics/tr...        1          1.00   \n",
       "..                                                 ...      ...           ...   \n",
       "842  https://www.reddit.com/r/stockstobuytoday/comm...        1          1.00   \n",
       "843               https://i.redd.it/atvlo83gk4ue1.jpeg        2          1.00   \n",
       "844  https://www.reddit.com/r/stockstobuytoday/comm...        1          1.00   \n",
       "845  https://www.reddit.com/r/wallstreetbets/commen...       10          1.00   \n",
       "846               https://i.redd.it/tcfuu97p7bue1.jpeg        1          1.00   \n",
       "\n",
       "                                                  text  subjectivity  \\\n",
       "0                                     Calls on retards      1.000000   \n",
       "1    Stunt as in like why did they even make a big ...      0.177778   \n",
       "2                    Seeing lots of red in the ticker.      0.000000   \n",
       "3    Vision Marine Technologies Inc. is rewriting t...      0.646970   \n",
       "4                             He didn’t say thank you.      0.000000   \n",
       "..                                                 ...           ...   \n",
       "842        Invest now it is going to shoot up tomorrow      0.000000   \n",
       "843                             Where can I read this?      0.000000   \n",
       "844  Upgrades, Downgrades\\r\\n\\r\\n [Stock Analyst Re...      0.000000   \n",
       "845  i sold my puts so i expect cheeto to declare w...      0.000000   \n",
       "846                       ![img](emote|t5_2th52|31224)      0.000000   \n",
       "\n",
       "     polarity  sentiment                                           entities  \\\n",
       "0   -0.900000       -1.0                                                 []   \n",
       "1    0.083333        1.0              ['Stunt', 'company', 'deal', 'place']   \n",
       "2    0.000000        0.0                                         ['ticker']   \n",
       "3    0.216383        1.0  ['watercraft', 'skill', 'power', ']', 'feat', ...   \n",
       "4    0.000000        0.0                                                 []   \n",
       "..        ...        ...                                                ...   \n",
       "842  0.000000        0.0                                       ['tomorrow']   \n",
       "843  0.000000        0.0                                                 []   \n",
       "844  0.000000        0.0  ['Analyst', 'Nasdaq', 'Stock', 'Upgrades', 'Do...   \n",
       "845  0.000000        0.0                  ['war', 'denmark', 'cheeto', 'i']   \n",
       "846  0.000000        0.0          ['img', ']', '[', 'emote|t5_2th52|31224']   \n",
       "\n",
       "     label  \n",
       "0     -1.0  \n",
       "1      0.0  \n",
       "2      0.0  \n",
       "3      1.0  \n",
       "4     -1.0  \n",
       "..     ...  \n",
       "842    1.0  \n",
       "843    0.0  \n",
       "844    0.0  \n",
       "845   -1.0  \n",
       "846    0.0  \n",
       "\n",
       "[847 rows x 15 columns]"
      ]
     },
     "execution_count": 10,
     "metadata": {},
     "output_type": "execute_result"
    }
   ],
   "source": [
    "# See our new dataset\n",
    "new_df\n",
    "\n",
    "# we succesfully remove the downvote and added median for upvote ratio\n"
   ]
  },
  {
   "cell_type": "code",
   "execution_count": 11,
   "metadata": {},
   "outputs": [
    {
     "data": {
      "text/html": [
       "<div>\n",
       "<style scoped>\n",
       "    .dataframe tbody tr th:only-of-type {\n",
       "        vertical-align: middle;\n",
       "    }\n",
       "\n",
       "    .dataframe tbody tr th {\n",
       "        vertical-align: top;\n",
       "    }\n",
       "\n",
       "    .dataframe thead th {\n",
       "        text-align: right;\n",
       "    }\n",
       "</style>\n",
       "<table border=\"1\" class=\"dataframe\">\n",
       "  <thead>\n",
       "    <tr style=\"text-align: right;\">\n",
       "      <th></th>\n",
       "      <th>type</th>\n",
       "      <th>datetime</th>\n",
       "      <th>post_id</th>\n",
       "      <th>subreddit</th>\n",
       "      <th>title</th>\n",
       "      <th>author</th>\n",
       "      <th>url</th>\n",
       "      <th>upvotes</th>\n",
       "      <th>upvote_ratio</th>\n",
       "      <th>text</th>\n",
       "      <th>subjectivity</th>\n",
       "      <th>polarity</th>\n",
       "      <th>sentiment</th>\n",
       "      <th>entities</th>\n",
       "      <th>label</th>\n",
       "    </tr>\n",
       "  </thead>\n",
       "  <tbody>\n",
       "    <tr>\n",
       "      <th>0</th>\n",
       "      <td>The amoung of missing records is:</td>\n",
       "      <td>The amoung of missing records is:</td>\n",
       "      <td>The amoung of missing records is:</td>\n",
       "      <td>The amoung of missing records is:</td>\n",
       "      <td>The amoung of missing records is:</td>\n",
       "      <td>The amoung of missing records is:</td>\n",
       "      <td>The amoung of missing records is:</td>\n",
       "      <td>The amoung of missing records is:</td>\n",
       "      <td>The amoung of missing records is:</td>\n",
       "      <td>The amoung of missing records is:</td>\n",
       "      <td>The amoung of missing records is:</td>\n",
       "      <td>The amoung of missing records is:</td>\n",
       "      <td>The amoung of missing records is:</td>\n",
       "      <td>The amoung of missing records is:</td>\n",
       "      <td>The amoung of missing records is:</td>\n",
       "    </tr>\n",
       "    <tr>\n",
       "      <th>1</th>\n",
       "      <td>0</td>\n",
       "      <td>0</td>\n",
       "      <td>0</td>\n",
       "      <td>0</td>\n",
       "      <td>0</td>\n",
       "      <td>0</td>\n",
       "      <td>0</td>\n",
       "      <td>0</td>\n",
       "      <td>0</td>\n",
       "      <td>0</td>\n",
       "      <td>0</td>\n",
       "      <td>0</td>\n",
       "      <td>0</td>\n",
       "      <td>0</td>\n",
       "      <td>0</td>\n",
       "    </tr>\n",
       "  </tbody>\n",
       "</table>\n",
       "</div>"
      ],
      "text/plain": [
       "                                 type                            datetime  \\\n",
       "0  The amoung of missing records is:   The amoung of missing records is:    \n",
       "1                                   0                                   0   \n",
       "\n",
       "                              post_id                           subreddit  \\\n",
       "0  The amoung of missing records is:   The amoung of missing records is:    \n",
       "1                                   0                                   0   \n",
       "\n",
       "                                title                              author  \\\n",
       "0  The amoung of missing records is:   The amoung of missing records is:    \n",
       "1                                   0                                   0   \n",
       "\n",
       "                                  url                             upvotes  \\\n",
       "0  The amoung of missing records is:   The amoung of missing records is:    \n",
       "1                                   0                                   0   \n",
       "\n",
       "                         upvote_ratio                                text  \\\n",
       "0  The amoung of missing records is:   The amoung of missing records is:    \n",
       "1                                   0                                   0   \n",
       "\n",
       "                         subjectivity                            polarity  \\\n",
       "0  The amoung of missing records is:   The amoung of missing records is:    \n",
       "1                                   0                                   0   \n",
       "\n",
       "                            sentiment                            entities  \\\n",
       "0  The amoung of missing records is:   The amoung of missing records is:    \n",
       "1                                   0                                   0   \n",
       "\n",
       "                                label  \n",
       "0  The amoung of missing records is:   \n",
       "1                                   0  "
      ]
     },
     "execution_count": 11,
     "metadata": {},
     "output_type": "execute_result"
    }
   ],
   "source": [
    "# Make sure are there still any missing values\n",
    "\n",
    "new_df.isnull().apply(lambda x: dmh.check_missing_values(x))\n"
   ]
  },
  {
   "cell_type": "markdown",
   "metadata": {},
   "source": [
    "### >>> Exercise 5\n",
    "(We dont have it here, because in master file it was just learning about .isnull(), and try to differentiate which cases are real null or not)"
   ]
  },
  {
   "cell_type": "markdown",
   "metadata": {},
   "source": [
    "Check for duplicate data"
   ]
  },
  {
   "cell_type": "code",
   "execution_count": 12,
   "metadata": {},
   "outputs": [
    {
     "data": {
      "text/plain": [
       "0"
      ]
     },
     "execution_count": 12,
     "metadata": {},
     "output_type": "execute_result"
    }
   ],
   "source": [
    "sum(new_df.duplicated())\n",
    "\n",
    "# we have no duplicated records, so no need further processing"
   ]
  },
  {
   "cell_type": "markdown",
   "metadata": {},
   "source": [
    "### >>> Exercise 6\n",
    "Making sample from our dataset (with random seed)"
   ]
  },
  {
   "cell_type": "code",
   "execution_count": 18,
   "metadata": {},
   "outputs": [
    {
     "data": {
      "text/html": [
       "<div>\n",
       "<style scoped>\n",
       "    .dataframe tbody tr th:only-of-type {\n",
       "        vertical-align: middle;\n",
       "    }\n",
       "\n",
       "    .dataframe tbody tr th {\n",
       "        vertical-align: top;\n",
       "    }\n",
       "\n",
       "    .dataframe thead th {\n",
       "        text-align: right;\n",
       "    }\n",
       "</style>\n",
       "<table border=\"1\" class=\"dataframe\">\n",
       "  <thead>\n",
       "    <tr style=\"text-align: right;\">\n",
       "      <th></th>\n",
       "      <th>type</th>\n",
       "      <th>datetime</th>\n",
       "      <th>post_id</th>\n",
       "      <th>subreddit</th>\n",
       "      <th>title</th>\n",
       "      <th>author</th>\n",
       "      <th>url</th>\n",
       "      <th>upvotes</th>\n",
       "      <th>upvote_ratio</th>\n",
       "      <th>text</th>\n",
       "      <th>subjectivity</th>\n",
       "      <th>polarity</th>\n",
       "      <th>sentiment</th>\n",
       "      <th>entities</th>\n",
       "      <th>label</th>\n",
       "    </tr>\n",
       "  </thead>\n",
       "  <tbody>\n",
       "    <tr>\n",
       "      <th>457</th>\n",
       "      <td>comment</td>\n",
       "      <td>2025-04-11 15:42:58</td>\n",
       "      <td>mmkwda9</td>\n",
       "      <td>StockMarket</td>\n",
       "      <td>Trump: We Are Doing Really Well On Our Tariff ...</td>\n",
       "      <td>IamNotaMonkeyRobot</td>\n",
       "      <td>https://i.redd.it/uajqu4kxl7ue1.png</td>\n",
       "      <td>1</td>\n",
       "      <td>1.0</td>\n",
       "      <td>\"We\" who?</td>\n",
       "      <td>0.000000</td>\n",
       "      <td>0.000000</td>\n",
       "      <td>0.0</td>\n",
       "      <td>[]</td>\n",
       "      <td>0.0</td>\n",
       "    </tr>\n",
       "    <tr>\n",
       "      <th>342</th>\n",
       "      <td>comment</td>\n",
       "      <td>2025-04-12 3:04:05</td>\n",
       "      <td>mmob98a</td>\n",
       "      <td>wallstreetbets</td>\n",
       "      <td>Retail giant TARGET has now declined for 10 co...</td>\n",
       "      <td>iPlayedHockeInHS</td>\n",
       "      <td>https://i.redd.it/7tl6puv9waue1.jpeg</td>\n",
       "      <td>1</td>\n",
       "      <td>1.0</td>\n",
       "      <td>Chicken jockey</td>\n",
       "      <td>0.950000</td>\n",
       "      <td>-0.600000</td>\n",
       "      <td>-1.0</td>\n",
       "      <td>['jockey', 'Chicken']</td>\n",
       "      <td>0.0</td>\n",
       "    </tr>\n",
       "    <tr>\n",
       "      <th>280</th>\n",
       "      <td>comment</td>\n",
       "      <td>2025-04-10 14:40:26</td>\n",
       "      <td>mme8wxn</td>\n",
       "      <td>StockMarket</td>\n",
       "      <td>How do you feel about a sitting president maki...</td>\n",
       "      <td>Narradisall</td>\n",
       "      <td>https://apnews.com/article/trump-truth-social-...</td>\n",
       "      <td>2</td>\n",
       "      <td>1.0</td>\n",
       "      <td>Not great Bob</td>\n",
       "      <td>0.750000</td>\n",
       "      <td>0.800000</td>\n",
       "      <td>1.0</td>\n",
       "      <td>['Bob']</td>\n",
       "      <td>-1.0</td>\n",
       "    </tr>\n",
       "    <tr>\n",
       "      <th>275</th>\n",
       "      <td>comment</td>\n",
       "      <td>2025-04-12 2:27:29</td>\n",
       "      <td>mmo5u51</td>\n",
       "      <td>wallstreetbets</td>\n",
       "      <td>Retail giant TARGET has now declined for 10 co...</td>\n",
       "      <td>ChristianLS</td>\n",
       "      <td>https://i.redd.it/7tl6puv9waue1.jpeg</td>\n",
       "      <td>1</td>\n",
       "      <td>1.0</td>\n",
       "      <td>Speak for yourself, my wife is being harder on...</td>\n",
       "      <td>0.633333</td>\n",
       "      <td>0.633333</td>\n",
       "      <td>1.0</td>\n",
       "      <td>['BBQ', 'potato', 'anime', 'wife', 'level', 'S...</td>\n",
       "      <td>0.0</td>\n",
       "    </tr>\n",
       "  </tbody>\n",
       "</table>\n",
       "</div>"
      ],
      "text/plain": [
       "        type             datetime  post_id       subreddit  \\\n",
       "457  comment  2025-04-11 15:42:58  mmkwda9     StockMarket   \n",
       "342  comment   2025-04-12 3:04:05  mmob98a  wallstreetbets   \n",
       "280  comment  2025-04-10 14:40:26  mme8wxn     StockMarket   \n",
       "275  comment   2025-04-12 2:27:29  mmo5u51  wallstreetbets   \n",
       "\n",
       "                                                 title              author  \\\n",
       "457  Trump: We Are Doing Really Well On Our Tariff ...  IamNotaMonkeyRobot   \n",
       "342  Retail giant TARGET has now declined for 10 co...    iPlayedHockeInHS   \n",
       "280  How do you feel about a sitting president maki...         Narradisall   \n",
       "275  Retail giant TARGET has now declined for 10 co...         ChristianLS   \n",
       "\n",
       "                                                   url  upvotes  upvote_ratio  \\\n",
       "457                https://i.redd.it/uajqu4kxl7ue1.png        1           1.0   \n",
       "342               https://i.redd.it/7tl6puv9waue1.jpeg        1           1.0   \n",
       "280  https://apnews.com/article/trump-truth-social-...        2           1.0   \n",
       "275               https://i.redd.it/7tl6puv9waue1.jpeg        1           1.0   \n",
       "\n",
       "                                                  text  subjectivity  \\\n",
       "457                                          \"We\" who?      0.000000   \n",
       "342                                     Chicken jockey      0.950000   \n",
       "280                                      Not great Bob      0.750000   \n",
       "275  Speak for yourself, my wife is being harder on...      0.633333   \n",
       "\n",
       "     polarity  sentiment                                           entities  \\\n",
       "457  0.000000        0.0                                                 []   \n",
       "342 -0.600000       -1.0                              ['jockey', 'Chicken']   \n",
       "280  0.800000        1.0                                            ['Bob']   \n",
       "275  0.633333        1.0  ['BBQ', 'potato', 'anime', 'wife', 'level', 'S...   \n",
       "\n",
       "     label  \n",
       "457    0.0  \n",
       "342    0.0  \n",
       "280   -1.0  \n",
       "275    0.0  "
      ]
     },
     "execution_count": 18,
     "metadata": {},
     "output_type": "execute_result"
    }
   ],
   "source": [
    "# actually our dataset is quite small, only 847 records\n",
    "# i personally think we dont need sampling\n",
    "# here, we just reduced a bit, just to do this exercise\n",
    "\n",
    "df_sample = new_df.sample(n = 500, random_state= 42)\n",
    "df_sample[:4]"
   ]
  },
  {
   "cell_type": "code",
   "execution_count": 19,
   "metadata": {},
   "outputs": [
    {
     "data": {
      "text/plain": [
       "500"
      ]
     },
     "execution_count": 19,
     "metadata": {},
     "output_type": "execute_result"
    }
   ],
   "source": [
    "len(df_sample)"
   ]
  },
  {
   "cell_type": "markdown",
   "metadata": {},
   "source": [
    "### >>> Exercise 7\n",
    "Make a bar chart that automatically set the ylim parameters"
   ]
  },
  {
   "cell_type": "code",
   "execution_count": 24,
   "metadata": {},
   "outputs": [
    {
     "data": {
      "image/png": "[encoded data removed]",
      "text/plain": [
       "<Figure size 800x500 with 1 Axes>"
      ]
     },
     "metadata": {},
     "output_type": "display_data"
    }
   ],
   "source": [
    "# count the number of occurences of each type in 'sentiment' column\n",
    "\n",
    "sentiment_counts = df['sentiment'].value_counts()\n",
    "\n",
    "# look for the max occurences, for the ylim\n",
    "max_count = sentiment_counts.max()\n",
    "\n",
    "buffer = max_count * 0.1 # we add a small number for ylim, to be visually appealing (have some space up there)\n",
    "\n",
    "plt.figure(figsize=(8 , 5))\n",
    "\n",
    "sns.barplot(x=sentiment_counts.index,  y = sentiment_counts.values)\n",
    "\n",
    "plt.ylim(0, max_count + buffer)\n",
    "\n",
    "plt.title('Distribution of Sentiments')\n",
    "plt.xlabel('Sentiment (i.e, -1.0 = Negative, 0.0 = Neutral, 1.0 = Positive)')\n",
    "plt.ylabel('Number of Posts')\n",
    "plt.show()"
   ]
  },
  {
   "cell_type": "markdown",
   "metadata": {},
   "source": [
    "### >>> Exercise 8\n",
    "Comparing side by side between df and sample of df"
   ]
  },
  {
   "cell_type": "code",
   "execution_count": 34,
   "metadata": {},
   "outputs": [
    {
     "data": {
      "image/png": "[encoded data removed]",
      "text/plain": [
       "<Figure size 1000x600 with 1 Axes>"
      ]
     },
     "metadata": {},
     "output_type": "display_data"
    }
   ],
   "source": [
    "# same as before, count the number of sentiments\n",
    "counts_df = df['sentiment'].value_counts()\n",
    "counts_sample = df_sample['sentiment'].value_counts()\n",
    "\n",
    "#combine into the same dataframe\n",
    "compariso_df = pd.DataFrame({'Full Dataset' : counts_df,\n",
    "                             'Sample Dataset' : counts_sample})\n",
    "\n",
    "compariso_df = compariso_df.sort_index() # to make the bar exactly negative, neutral, positivbe\n",
    "\n",
    "ax = compariso_df.plot(kind='bar', figsize=(10, 6), rot = 0)\n",
    "\n",
    "plt.title('Comparison of Sentiment Distribution (Full vs Sample)')\n",
    "plt.xlabel('Sentiment')\n",
    "plt.ylabel('Number of Posts')\n",
    "\n",
    "plt.legend()\n",
    "plt.show()\n",
    "\n",
    "# here it shows that the sampled data shows the same trend\n",
    "# as the full dataset. It shows that sampling is also \n",
    "# a good way to downsize"
   ]
  },
  {
   "cell_type": "markdown",
   "metadata": {},
   "source": [
    "Making new column 'unigrams'"
   ]
  },
  {
   "cell_type": "code",
   "execution_count": 35,
   "metadata": {},
   "outputs": [],
   "source": [
    "# tokenize out 'text' field\n",
    "# Here we just use the full dataset, cause our dataset records are not that much\n",
    "# the sampling above just a demonstration if we need a sample\n",
    "\n",
    "df['unigrams'] = df['text'].apply(lambda x: dmh.tokenize_text(x))"
   ]
  },
  {
   "cell_type": "code",
   "execution_count": 36,
   "metadata": {},
   "outputs": [
    {
     "data": {
      "text/plain": [
       "0                                 [Calls, on, retards]\n",
       "1    [Stunt, as, in, like, why, did, they, even, ma...\n",
       "2          [Seeing, lots, of, red, in, the, ticker, .]\n",
       "3    [Vision, Marine, Technologies, Inc., is, rewri...\n",
       "Name: unigrams, dtype: object"
      ]
     },
     "execution_count": 36,
     "metadata": {},
     "output_type": "execute_result"
    }
   ],
   "source": [
    "df[0:4][\"unigrams\"]"
   ]
  },
  {
   "cell_type": "code",
   "execution_count": 37,
   "metadata": {},
   "outputs": [
    {
     "data": {
      "text/html": [
       "<div>\n",
       "<style scoped>\n",
       "    .dataframe tbody tr th:only-of-type {\n",
       "        vertical-align: middle;\n",
       "    }\n",
       "\n",
       "    .dataframe tbody tr th {\n",
       "        vertical-align: top;\n",
       "    }\n",
       "\n",
       "    .dataframe thead th {\n",
       "        text-align: right;\n",
       "    }\n",
       "</style>\n",
       "<table border=\"1\" class=\"dataframe\">\n",
       "  <thead>\n",
       "    <tr style=\"text-align: right;\">\n",
       "      <th></th>\n",
       "      <th>type</th>\n",
       "      <th>datetime</th>\n",
       "      <th>post_id</th>\n",
       "      <th>subreddit</th>\n",
       "      <th>title</th>\n",
       "      <th>author</th>\n",
       "      <th>url</th>\n",
       "      <th>upvotes</th>\n",
       "      <th>downvotes</th>\n",
       "      <th>upvote_ratio</th>\n",
       "      <th>text</th>\n",
       "      <th>subjectivity</th>\n",
       "      <th>polarity</th>\n",
       "      <th>sentiment</th>\n",
       "      <th>entities</th>\n",
       "      <th>label</th>\n",
       "      <th>unigrams</th>\n",
       "    </tr>\n",
       "  </thead>\n",
       "  <tbody>\n",
       "    <tr>\n",
       "      <th>0</th>\n",
       "      <td>comment</td>\n",
       "      <td>2025-04-11 17:29:56</td>\n",
       "      <td>mmli62w</td>\n",
       "      <td>wallstreetbets</td>\n",
       "      <td>Retardation is on the menu boys! WSB is so back</td>\n",
       "      <td>StickyTip420</td>\n",
       "      <td>https://i.redd.it/0yq2ftren8ue1.jpeg</td>\n",
       "      <td>0</td>\n",
       "      <td>NaN</td>\n",
       "      <td>NaN</td>\n",
       "      <td>Calls on retards</td>\n",
       "      <td>1.000000</td>\n",
       "      <td>-0.900000</td>\n",
       "      <td>-1.0</td>\n",
       "      <td>[]</td>\n",
       "      <td>-1.0</td>\n",
       "      <td>[Calls, on, retards]</td>\n",
       "    </tr>\n",
       "    <tr>\n",
       "      <th>1</th>\n",
       "      <td>comment</td>\n",
       "      <td>2025-04-12 1:12:19</td>\n",
       "      <td>mmnu7v9</td>\n",
       "      <td>wallstreetbets</td>\n",
       "      <td>Retail giant TARGET has now declined for 10 co...</td>\n",
       "      <td>Comfortable-Dog-8437</td>\n",
       "      <td>https://i.redd.it/7tl6puv9waue1.jpeg</td>\n",
       "      <td>-15</td>\n",
       "      <td>NaN</td>\n",
       "      <td>NaN</td>\n",
       "      <td>Stunt as in like why did they even make a big ...</td>\n",
       "      <td>0.177778</td>\n",
       "      <td>0.083333</td>\n",
       "      <td>1.0</td>\n",
       "      <td>['Stunt', 'company', 'deal', 'place']</td>\n",
       "      <td>0.0</td>\n",
       "      <td>[Stunt, as, in, like, why, did, they, even, ma...</td>\n",
       "    </tr>\n",
       "    <tr>\n",
       "      <th>2</th>\n",
       "      <td>comment</td>\n",
       "      <td>2025-04-10 15:09:41</td>\n",
       "      <td>mmeevio</td>\n",
       "      <td>StockMarket</td>\n",
       "      <td>How do you feel about a sitting president maki...</td>\n",
       "      <td>Btankersly66</td>\n",
       "      <td>https://apnews.com/article/trump-truth-social-...</td>\n",
       "      <td>1</td>\n",
       "      <td>NaN</td>\n",
       "      <td>NaN</td>\n",
       "      <td>Seeing lots of red in the ticker.</td>\n",
       "      <td>0.000000</td>\n",
       "      <td>0.000000</td>\n",
       "      <td>0.0</td>\n",
       "      <td>['ticker']</td>\n",
       "      <td>0.0</td>\n",
       "      <td>[Seeing, lots, of, red, in, the, ticker, .]</td>\n",
       "    </tr>\n",
       "    <tr>\n",
       "      <th>3</th>\n",
       "      <td>post</td>\n",
       "      <td>2023-08-30 17:12:55</td>\n",
       "      <td>165kllm</td>\n",
       "      <td>stockstobuytoday</td>\n",
       "      <td>Who knows more? $VMAR</td>\n",
       "      <td>emiljenfn</td>\n",
       "      <td>https://www.reddit.com/r/stockstobuytoday/comm...</td>\n",
       "      <td>30</td>\n",
       "      <td>0.0</td>\n",
       "      <td>0.98</td>\n",
       "      <td>Vision Marine Technologies Inc. is rewriting t...</td>\n",
       "      <td>0.646970</td>\n",
       "      <td>0.216383</td>\n",
       "      <td>1.0</td>\n",
       "      <td>['watercraft', 'skill', 'power', ']', 'feat', ...</td>\n",
       "      <td>1.0</td>\n",
       "      <td>[Vision, Marine, Technologies, Inc., is, rewri...</td>\n",
       "    </tr>\n",
       "  </tbody>\n",
       "</table>\n",
       "</div>"
      ],
      "text/plain": [
       "      type             datetime  post_id         subreddit  \\\n",
       "0  comment  2025-04-11 17:29:56  mmli62w    wallstreetbets   \n",
       "1  comment   2025-04-12 1:12:19  mmnu7v9    wallstreetbets   \n",
       "2  comment  2025-04-10 15:09:41  mmeevio       StockMarket   \n",
       "3     post  2023-08-30 17:12:55  165kllm  stockstobuytoday   \n",
       "\n",
       "                                               title                author  \\\n",
       "0    Retardation is on the menu boys! WSB is so back          StickyTip420   \n",
       "1  Retail giant TARGET has now declined for 10 co...  Comfortable-Dog-8437   \n",
       "2  How do you feel about a sitting president maki...          Btankersly66   \n",
       "3                              Who knows more? $VMAR             emiljenfn   \n",
       "\n",
       "                                                 url  upvotes  downvotes  \\\n",
       "0               https://i.redd.it/0yq2ftren8ue1.jpeg        0        NaN   \n",
       "1               https://i.redd.it/7tl6puv9waue1.jpeg      -15        NaN   \n",
       "2  https://apnews.com/article/trump-truth-social-...        1        NaN   \n",
       "3  https://www.reddit.com/r/stockstobuytoday/comm...       30        0.0   \n",
       "\n",
       "   upvote_ratio                                               text  \\\n",
       "0           NaN                                   Calls on retards   \n",
       "1           NaN  Stunt as in like why did they even make a big ...   \n",
       "2           NaN                  Seeing lots of red in the ticker.   \n",
       "3          0.98  Vision Marine Technologies Inc. is rewriting t...   \n",
       "\n",
       "   subjectivity  polarity  sentiment  \\\n",
       "0      1.000000 -0.900000       -1.0   \n",
       "1      0.177778  0.083333        1.0   \n",
       "2      0.000000  0.000000        0.0   \n",
       "3      0.646970  0.216383        1.0   \n",
       "\n",
       "                                            entities  label  \\\n",
       "0                                                 []   -1.0   \n",
       "1              ['Stunt', 'company', 'deal', 'place']    0.0   \n",
       "2                                         ['ticker']    0.0   \n",
       "3  ['watercraft', 'skill', 'power', ']', 'feat', ...    1.0   \n",
       "\n",
       "                                            unigrams  \n",
       "0                               [Calls, on, retards]  \n",
       "1  [Stunt, as, in, like, why, did, they, even, ma...  \n",
       "2        [Seeing, lots, of, red, in, the, ticker, .]  \n",
       "3  [Vision, Marine, Technologies, Inc., is, rewri...  "
      ]
     },
     "execution_count": 37,
     "metadata": {},
     "output_type": "execute_result"
    }
   ],
   "source": [
    "df[:4]"
   ]
  },
  {
   "cell_type": "markdown",
   "metadata": {},
   "source": [
    "Default analyzer provided by CountVectorizer"
   ]
  },
  {
   "cell_type": "code",
   "execution_count": 79,
   "metadata": {},
   "outputs": [
    {
     "name": "stdout",
     "output_type": "stream",
     "text": [
      "  (np.int32(0), np.int32(692))\t1\n",
      "  (np.int32(0), np.int32(2706))\t1\n",
      "  (np.int32(0), np.int32(3248))\t1\n"
     ]
    }
   ],
   "source": [
    "from sklearn.feature_extraction.text import CountVectorizer\n",
    "\n",
    "count_vect = CountVectorizer()\n",
    "df_counts = count_vect.fit_transform(df.text) #learn the vocabulary and return document-term matrix\n",
    "print(df_counts[0])"
   ]
  },
  {
   "cell_type": "code",
   "execution_count": 80,
   "metadata": {},
   "outputs": [
    {
     "data": {
      "text/plain": [
       "['expecting', 'for', 'winter', 'break', 'soon']"
      ]
     },
     "execution_count": 80,
     "metadata": {},
     "output_type": "execute_result"
    }
   ],
   "source": [
    "analyze = count_vect.build_analyzer()\n",
    "analyze(\"Expecting for winter break soon\")"
   ]
  },
  {
   "cell_type": "markdown",
   "metadata": {},
   "source": [
    "### >>> Exercise 9\n",
    "Analyze the first record of our dataframe with the new analyzer we just built\n"
   ]
  },
  {
   "cell_type": "code",
   "execution_count": 81,
   "metadata": {},
   "outputs": [
    {
     "data": {
      "text/plain": [
       "['calls', 'on', 'retards']"
      ]
     },
     "execution_count": 81,
     "metadata": {},
     "output_type": "execute_result"
    }
   ],
   "source": [
    "analyze(df.text[0])"
   ]
  },
  {
   "cell_type": "code",
   "execution_count": 82,
   "metadata": {},
   "outputs": [
    {
     "data": {
      "text/plain": [
       "(847, 4346)"
      ]
     },
     "execution_count": 82,
     "metadata": {},
     "output_type": "execute_result"
    }
   ],
   "source": [
    "df_counts.shape\n",
    "\n"
   ]
  },
  {
   "cell_type": "code",
   "execution_count": 83,
   "metadata": {},
   "outputs": [
    {
     "data": {
      "text/plain": [
       "array(['00', '000', '01378', '02', '027', '03', '06', '08', '10', '100'],\n",
       "      dtype=object)"
      ]
     },
     "execution_count": 83,
     "metadata": {},
     "output_type": "execute_result"
    }
   ],
   "source": [
    "count_vect.get_feature_names_out()[:10]"
   ]
  },
  {
   "cell_type": "markdown",
   "metadata": {},
   "source": [
    "Extract the first five records and transform into document-term matrix (2D matrix)"
   ]
  },
  {
   "cell_type": "code",
   "execution_count": 84,
   "metadata": {},
   "outputs": [
    {
     "data": {
      "text/plain": [
       "array([[0, 0, 0, 0, 0, 0, 0, 0, 0, 0, 0, 0, 0, 0, 0, 0, 0, 0, 0, 0, 0, 0,\n",
       "        0, 0, 0, 0, 0, 0, 0, 0, 0, 0, 0, 0, 0, 0, 0, 0, 0, 0, 0, 0, 0, 0,\n",
       "        0, 0, 0, 0, 0, 0, 0, 0, 0, 0, 0, 0, 0, 0, 0, 0, 0, 0, 0, 0, 0, 0,\n",
       "        0, 0, 0, 0, 0, 0, 0, 0, 0, 0, 0, 0, 0, 0, 0, 0, 0, 0, 0, 0, 0, 0,\n",
       "        0, 0, 0, 0, 0, 0, 0, 0, 0, 0, 0, 0],\n",
       "       [0, 0, 0, 0, 0, 0, 0, 0, 0, 0, 0, 0, 0, 0, 0, 0, 0, 0, 0, 0, 0, 0,\n",
       "        0, 0, 0, 0, 0, 0, 0, 0, 0, 0, 0, 0, 0, 0, 0, 0, 0, 0, 0, 0, 0, 0,\n",
       "        0, 0, 0, 0, 0, 0, 0, 0, 0, 0, 0, 0, 0, 0, 0, 0, 0, 0, 0, 0, 0, 0,\n",
       "        0, 0, 0, 0, 0, 0, 0, 0, 0, 0, 0, 0, 0, 0, 0, 0, 0, 0, 0, 0, 0, 0,\n",
       "        0, 0, 0, 0, 0, 0, 0, 0, 0, 0, 0, 0],\n",
       "       [0, 0, 0, 0, 0, 0, 0, 0, 0, 0, 0, 0, 0, 0, 0, 0, 0, 0, 0, 0, 0, 0,\n",
       "        0, 0, 0, 0, 0, 0, 0, 0, 0, 0, 0, 0, 0, 0, 0, 0, 0, 0, 0, 0, 0, 0,\n",
       "        0, 0, 0, 0, 0, 0, 0, 0, 0, 0, 0, 0, 0, 0, 0, 0, 0, 0, 0, 0, 0, 0,\n",
       "        0, 0, 0, 0, 0, 0, 0, 0, 0, 0, 0, 0, 0, 0, 0, 0, 0, 0, 0, 0, 0, 0,\n",
       "        0, 0, 0, 0, 0, 0, 0, 0, 0, 0, 0, 0],\n",
       "       [0, 0, 0, 0, 0, 0, 0, 0, 0, 0, 0, 0, 0, 0, 0, 0, 0, 0, 3, 0, 0, 0,\n",
       "        0, 0, 0, 0, 0, 0, 0, 0, 0, 0, 0, 0, 0, 0, 0, 0, 0, 0, 0, 0, 0, 0,\n",
       "        0, 0, 0, 0, 0, 0, 0, 0, 0, 0, 0, 0, 0, 0, 0, 0, 0, 0, 0, 0, 0, 0,\n",
       "        0, 0, 0, 0, 0, 0, 0, 0, 0, 0, 0, 0, 0, 0, 0, 0, 0, 0, 0, 0, 0, 0,\n",
       "        0, 0, 0, 0, 0, 0, 0, 0, 0, 0, 0, 0],\n",
       "       [0, 0, 0, 0, 0, 0, 0, 0, 0, 0, 0, 0, 0, 0, 0, 0, 0, 0, 0, 0, 0, 0,\n",
       "        0, 0, 0, 0, 0, 0, 0, 0, 0, 0, 0, 0, 0, 0, 0, 0, 0, 0, 0, 0, 0, 0,\n",
       "        0, 0, 0, 0, 0, 0, 0, 0, 0, 0, 0, 0, 0, 0, 0, 0, 0, 0, 0, 0, 0, 0,\n",
       "        0, 0, 0, 0, 0, 0, 0, 0, 0, 0, 0, 0, 0, 0, 0, 0, 0, 0, 0, 0, 0, 0,\n",
       "        0, 0, 0, 0, 0, 0, 0, 0, 0, 0, 0, 0]])"
      ]
     },
     "execution_count": 84,
     "metadata": {},
     "output_type": "execute_result"
    }
   ],
   "source": [
    "df_counts[:5, :100].toarray()"
   ]
  },
  {
   "cell_type": "markdown",
   "metadata": {},
   "source": [
    "### >>> Exercise 10\n",
    "Finding out what word actually present in that matrix. In this case in our 4th record, we have a word that has count = 3, lets find out what that is"
   ]
  },
  {
   "cell_type": "code",
   "execution_count": 85,
   "metadata": {},
   "outputs": [
    {
     "name": "stdout",
     "output_type": "stream",
     "text": [
      "['116']\n"
     ]
    }
   ],
   "source": [
    "# first, retrieve the entire vocab list\n",
    "vocab = count_vect.get_feature_names_out()\n",
    "\n",
    "# slice the matrix just to take the 5th document and the first 100 words\n",
    "first_100cols = df_counts[:4, :100]\n",
    "\n",
    "# This will take the indices of those 100 columns whose value > 0\n",
    "word_indices = first_100cols.indices\n",
    "\n",
    "# We look for what are the words there, using the columns index previously collected\n",
    "present_words = vocab[word_indices]\n",
    "\n",
    "# print out all the words present\n",
    "print(present_words)\n"
   ]
  },
  {
   "cell_type": "markdown",
   "metadata": {},
   "source": [
    "### >>> Exercise 11\n",
    "We want a better visualization that gives meaninful information. "
   ]
  },
  {
   "cell_type": "code",
   "execution_count": 86,
   "metadata": {},
   "outputs": [
    {
     "data": {
      "image/png": "[encoded data removed]",
      "text/plain": [
       "<Figure size 2500x800 with 2 Axes>"
      ]
     },
     "metadata": {},
     "output_type": "display_data"
    }
   ],
   "source": [
    "# here we just use the methode in the master file, so copy and adjust\n",
    "# define the column we want to annalyze\n",
    "text_column = 'text'\n",
    "category_column = 'sentiment'\n",
    "\n",
    "# create a big document for each category\n",
    "# .dropna() handles any missing text safely\n",
    "category_text = df.dropna(subset=[text_column]).groupby(category_column)[text_column].apply(' '.join)\n",
    "\n",
    "# vectorize the text, removing common English stop words\n",
    "cat_vect = CountVectorizer(stop_words='english')\n",
    "category_counts = cat_vect.fit_transform(category_text)\n",
    "\n",
    "# find the top N words for EACH category\n",
    "n_top_words = 20\n",
    "top_indices_per_category = []\n",
    "for i in range(category_counts.shape[0]):\n",
    "    row = category_counts.toarray()[i]\n",
    "    top_indices = row.argsort()[-n_top_words:][::-1]\n",
    "    top_indices_per_category.extend(top_indices)\n",
    "\n",
    "# get the unique set of all top indices\n",
    "unique_top_indices = np.unique(top_indices_per_category)\n",
    "top_terms = cat_vect.get_feature_names_out()[unique_top_indices]\n",
    "\n",
    "# create the DataFrame for the heatmap\n",
    "heatmap_df = pd.DataFrame(category_counts[:, unique_top_indices].toarray(),\n",
    "                          index=category_text.index,\n",
    "                          columns=top_terms)\n",
    "\n",
    "# plot the heatmap\n",
    "plt.figure(figsize=(25, 8))\n",
    "sns.heatmap(heatmap_df, annot=True, fmt='d', cmap='viridis')\n",
    "plt.title(f'Heatmap of Top {n_top_words} Word Frequencies per \"{category_column}\"')\n",
    "plt.ylabel(category_column.title())\n",
    "plt.show()\n",
    "\n"
   ]
  },
  {
   "cell_type": "code",
   "execution_count": 61,
   "metadata": {},
   "outputs": [],
   "source": [
    "# observation:\n",
    "# negative sentiment (-1.0) tends to have words like shit, fuck, and bad\n",
    "# positive sentiment tends to have words like good, futures\n"
   ]
  },
  {
   "cell_type": "code",
   "execution_count": 87,
   "metadata": {},
   "outputs": [
    {
     "data": {
      "image/png": "[encoded data removed]",
      "text/plain": [
       "<Figure size 2500x800 with 2 Axes>"
      ]
     },
     "metadata": {},
     "output_type": "display_data"
    }
   ],
   "source": [
    "# here we just copy the code above, but now we analyze the subreddit category instead of sentiment\n",
    "# define the column we want to annalyze\n",
    "text_column = 'text'\n",
    "category_column = 'subreddit'\n",
    "\n",
    "# create a big document for each category\n",
    "# .dropna() handles any missing text safely\n",
    "category_text = df.dropna(subset=[text_column]).groupby(category_column)[text_column].apply(' '.join)\n",
    "\n",
    "# vectorize the text, removing common English stop words\n",
    "cat_vect = CountVectorizer(stop_words='english')\n",
    "category_counts = cat_vect.fit_transform(category_text)\n",
    "\n",
    "# find the top N words for EACH category\n",
    "n_top_words = 20\n",
    "top_indices_per_category = []\n",
    "for i in range(category_counts.shape[0]):\n",
    "    row = category_counts.toarray()[i]\n",
    "    top_indices = row.argsort()[-n_top_words:][::-1]\n",
    "    top_indices_per_category.extend(top_indices)\n",
    "\n",
    "# get the unique set of all top indices\n",
    "unique_top_indices = np.unique(top_indices_per_category)\n",
    "top_terms = cat_vect.get_feature_names_out()[unique_top_indices]\n",
    "\n",
    "# create the DataFrame for the heatmap\n",
    "heatmap_df = pd.DataFrame(category_counts[:, unique_top_indices].toarray(),\n",
    "                          index=category_text.index,\n",
    "                          columns=top_terms)\n",
    "\n",
    "# plot the heatmap\n",
    "plt.figure(figsize=(25, 8))\n",
    "sns.heatmap(heatmap_df, annot=True, fmt='d', cmap='viridis')\n",
    "plt.title(f'Heatmap of Top {n_top_words} Word Frequencies per \"{category_column}\"')\n",
    "plt.ylabel(category_column.title())\n",
    "plt.show()\n"
   ]
  },
  {
   "cell_type": "code",
   "execution_count": 88,
   "metadata": {},
   "outputs": [],
   "source": [
    "# observation\n",
    "# some subreddit community has its own unique term, like wallstreetbets has word 'retarded'\n",
    "# a well known slang within that community subculture\n",
    "# subreddit stocks and StockMarket contain high frequency of words 'china', 'market', and 'stock'\n",
    "# stockstobuytoday : contains high frequency of word 'futures', 'price', 'stock'\n"
   ]
  },
  {
   "cell_type": "markdown",
   "metadata": {},
   "source": [
    "### >>> Exercise 12\n",
    "Interactive visualization for frequency bar chart for words"
   ]
  },
  {
   "cell_type": "code",
   "execution_count": 89,
   "metadata": {},
   "outputs": [],
   "source": [
    "term_frequencies = df_counts.sum(axis=0).A1"
   ]
  },
  {
   "cell_type": "code",
   "execution_count": 90,
   "metadata": {},
   "outputs": [
    {
     "data": {
      "application/vnd.plotly.v1+json": {
       "config": {
        "plotlyServerURL": "https://plot.ly"
       },
       "data": [
        {
         "hovertemplate": "<b>%{hovertext}</b><br><br>Total Count=%{y}<extra></extra>",
         "hovertext": [
          "the",
          "to",
          "and",
          "is",
          "it",
          "of",
          "in",
          "that",
          "for",
          "this",
          "you",
          "on",
          "are",
          "they",
          "be",
          "he",
          "will",
          "with",
          "if",
          "as",
          "market",
          "but",
          "not",
          "so",
          "all",
          "have",
          "us",
          "just",
          "was",
          "at",
          "trump",
          "my",
          "what",
          "can",
          "like",
          "or",
          "we",
          "has",
          "their",
          "china",
          "about",
          "more",
          "from",
          "there",
          "now",
          "no",
          "by",
          "re",
          "how",
          "up",
          "one",
          "do",
          "some",
          "even",
          "think",
          "them",
          "people",
          "his",
          "stock",
          "going",
          "your",
          "an",
          "money",
          "good",
          "would",
          "any",
          "out",
          "see",
          "when",
          "who",
          "than",
          "tariffs",
          "only",
          "why",
          "been",
          "get",
          "other",
          "price",
          "time",
          "him",
          "make",
          "want",
          "into",
          "me",
          "don",
          "then",
          "down",
          "over",
          "doing",
          "could",
          "because",
          "futures",
          "silver",
          "right",
          "company",
          "still",
          "x200b",
          "go",
          "day",
          "should",
          "after",
          "years",
          "our",
          "also",
          "economy",
          "here",
          "world",
          "today",
          "much",
          "first",
          "did",
          "stocks",
          "dollar",
          "last",
          "way",
          "really",
          "buy",
          "doesn",
          "too",
          "well",
          "most",
          "were",
          "off",
          "companies",
          "long",
          "know",
          "week",
          "its",
          "does",
          "stockbuyvest",
          "these",
          "com",
          "new",
          "since",
          "year",
          "10",
          "sell",
          "trade",
          "back",
          "everyone",
          "ve",
          "better",
          "ll",
          "bad",
          "which",
          "american",
          "same",
          "every",
          "look",
          "looking",
          "call",
          "xi",
          "already",
          "term",
          "wants",
          "things",
          "emote",
          "img",
          "never",
          "need",
          "t5_2th52",
          "someone",
          "own",
          "fuck",
          "high",
          "say",
          "isn",
          "point",
          "let",
          "many",
          "may",
          "anything",
          "thing",
          "trading",
          "take",
          "selling",
          "before",
          "bond",
          "got",
          "big",
          "investors",
          "seems",
          "where",
          "bonds",
          "literally",
          "president",
          "am",
          "news",
          "had",
          "america",
          "shit",
          "daily",
          "always",
          "hold",
          "end",
          "reason",
          "war",
          "usa",
          "country",
          "higher",
          "invest",
          "feel",
          "future",
          "sure",
          "portfolio",
          "something",
          "nothing",
          "put",
          "didn",
          "again",
          "calls",
          "few",
          "gold",
          "technology",
          "made",
          "next",
          "buying",
          "another",
          "without",
          "worse",
          "pretty",
          "reddit",
          "might",
          "countries",
          "she",
          "anyone",
          "come",
          "everything",
          "chinese",
          "tariff",
          "updated",
          "deal",
          "data",
          "least",
          "great",
          "went",
          "won",
          "happening",
          "lose",
          "lot",
          "please",
          "currently",
          "plan",
          "work",
          "said",
          "else",
          "50",
          "target",
          "real",
          "industry",
          "usd",
          "power",
          "ago",
          "far",
          "puts",
          "lower",
          "done",
          "spy",
          "growth",
          "gonna",
          "moving",
          "rest",
          "risk",
          "getting",
          "100",
          "called",
          "seen",
          "life",
          "star",
          "fed",
          "actually",
          "believe",
          "rates",
          "probably",
          "making",
          "ever",
          "lithium",
          "free",
          "cash",
          "while",
          "very",
          "investment",
          "lol",
          "happen",
          "though",
          "analysis",
          "earnings",
          "short",
          "markets",
          "idea",
          "place",
          "being",
          "help",
          "government",
          "days",
          "haven",
          "maybe",
          "group",
          "those",
          "around"
         ],
         "legendgroup": "",
         "marker": {
          "color": "#636efa",
          "pattern": {
           "shape": ""
          }
         },
         "name": "",
         "orientation": "v",
         "showlegend": false,
         "textposition": "auto",
         "type": "bar",
         "x": [
          "the",
          "to",
          "and",
          "is",
          "it",
          "of",
          "in",
          "that",
          "for",
          "this",
          "you",
          "on",
          "are",
          "they",
          "be",
          "he",
          "will",
          "with",
          "if",
          "as",
          "market",
          "but",
          "not",
          "so",
          "all",
          "have",
          "us",
          "just",
          "was",
          "at",
          "trump",
          "my",
          "what",
          "can",
          "like",
          "or",
          "we",
          "has",
          "their",
          "china",
          "about",
          "more",
          "from",
          "there",
          "now",
          "no",
          "by",
          "re",
          "how",
          "up",
          "one",
          "do",
          "some",
          "even",
          "think",
          "them",
          "people",
          "his",
          "stock",
          "going",
          "your",
          "an",
          "money",
          "good",
          "would",
          "any",
          "out",
          "see",
          "when",
          "who",
          "than",
          "tariffs",
          "only",
          "why",
          "been",
          "get",
          "other",
          "price",
          "time",
          "him",
          "make",
          "want",
          "into",
          "me",
          "don",
          "then",
          "down",
          "over",
          "doing",
          "could",
          "because",
          "futures",
          "silver",
          "right",
          "company",
          "still",
          "x200b",
          "go",
          "day",
          "should",
          "after",
          "years",
          "our",
          "also",
          "economy",
          "here",
          "world",
          "today",
          "much",
          "first",
          "did",
          "stocks",
          "dollar",
          "last",
          "way",
          "really",
          "buy",
          "doesn",
          "too",
          "well",
          "most",
          "were",
          "off",
          "companies",
          "long",
          "know",
          "week",
          "its",
          "does",
          "stockbuyvest",
          "these",
          "com",
          "new",
          "since",
          "year",
          "10",
          "sell",
          "trade",
          "back",
          "everyone",
          "ve",
          "better",
          "ll",
          "bad",
          "which",
          "american",
          "same",
          "every",
          "look",
          "looking",
          "call",
          "xi",
          "already",
          "term",
          "wants",
          "things",
          "emote",
          "img",
          "never",
          "need",
          "t5_2th52",
          "someone",
          "own",
          "fuck",
          "high",
          "say",
          "isn",
          "point",
          "let",
          "many",
          "may",
          "anything",
          "thing",
          "trading",
          "take",
          "selling",
          "before",
          "bond",
          "got",
          "big",
          "investors",
          "seems",
          "where",
          "bonds",
          "literally",
          "president",
          "am",
          "news",
          "had",
          "america",
          "shit",
          "daily",
          "always",
          "hold",
          "end",
          "reason",
          "war",
          "usa",
          "country",
          "higher",
          "invest",
          "feel",
          "future",
          "sure",
          "portfolio",
          "something",
          "nothing",
          "put",
          "didn",
          "again",
          "calls",
          "few",
          "gold",
          "technology",
          "made",
          "next",
          "buying",
          "another",
          "without",
          "worse",
          "pretty",
          "reddit",
          "might",
          "countries",
          "she",
          "anyone",
          "come",
          "everything",
          "chinese",
          "tariff",
          "updated",
          "deal",
          "data",
          "least",
          "great",
          "went",
          "won",
          "happening",
          "lose",
          "lot",
          "please",
          "currently",
          "plan",
          "work",
          "said",
          "else",
          "50",
          "target",
          "real",
          "industry",
          "usd",
          "power",
          "ago",
          "far",
          "puts",
          "lower",
          "done",
          "spy",
          "growth",
          "gonna",
          "moving",
          "rest",
          "risk",
          "getting",
          "100",
          "called",
          "seen",
          "life",
          "star",
          "fed",
          "actually",
          "believe",
          "rates",
          "probably",
          "making",
          "ever",
          "lithium",
          "free",
          "cash",
          "while",
          "very",
          "investment",
          "lol",
          "happen",
          "though",
          "analysis",
          "earnings",
          "short",
          "markets",
          "idea",
          "place",
          "being",
          "help",
          "government",
          "days",
          "haven",
          "maybe",
          "group",
          "those",
          "around"
         ],
         "xaxis": "x",
         "y": {
          "bdata": "mAM2AugBkgFeATcBHgHuANYA1QDDAKsAmwCWAIYAhAB/AH4AdwBzAG8AbABrAGcAYQBhAGAAXwBeAFwAXABZAFgAVQBTAFEAUQBMAEgASABIAEMAPwA+AD4APQA6ADkANwA3ADYANQA0ADQANAA0ADMAMwAzADIAMAAvAC4ALgAtAC0ALQArACoAKQApACcAJwAmACUAJQAkACQAJAAkACQAIwAiACIAIgAhACAAIAAgAB8AHgAeAB4AHQAdABwAHAAbABsAGwAbABsAGwAaABoAGgAaABoAGQAZABkAGQAYABgAGAAYABgAGAAXABcAFwAXABcAFwAXABcAFgAWABYAFgAWABYAFgAVABUAFQAVABUAFQAVABQAFAAUABQAFAATABMAEwATABMAEwATABIAEgASABIAEgASABIAEgASABIAEgASABIAEgARABEAEQARABEAEQARABEAEQAQABAAEAAQABAAEAAQABAAEAAQABAAEAAQABAAEAAQAA8ADwAPAA8ADwAPAA8ADwAPAA8ADwAOAA4ADgAOAA4ADgAOAA4ADgAOAA4ADgAOAA4ADQANAA0ADQANAA0ADQANAA0ADQANAA0ADQANAA0ADQANAA0ADAAMAAwADAAMAAwADAAMAAwADAAMAAwADAAMAAwADAAMAAwADAAMAAwADAAMAAwACwALAAsACwALAAsACwALAAsACwALAAsACwALAAsACwALAAsACwALAAsACwALAAsACwALAAoACgAKAAoACgAKAAoACgAKAAoACgAKAAoACgAKAAoA",
          "dtype": "i2"
         },
         "yaxis": "y"
        }
       ],
       "layout": {
        "barmode": "relative",
        "legend": {
         "tracegroupgap": 0
        },
        "margin": {
         "t": 60
        },
        "template": {
         "data": {
          "bar": [
           {
            "error_x": {
             "color": "#2a3f5f"
            },
            "error_y": {
             "color": "#2a3f5f"
            },
            "marker": {
             "line": {
              "color": "#E5ECF6",
              "width": 0.5
             },
             "pattern": {
              "fillmode": "overlay",
              "size": 10,
              "solidity": 0.2
             }
            },
            "type": "bar"
           }
          ],
          "barpolar": [
           {
            "marker": {
             "line": {
              "color": "#E5ECF6",
              "width": 0.5
             },
             "pattern": {
              "fillmode": "overlay",
              "size": 10,
              "solidity": 0.2
             }
            },
            "type": "barpolar"
           }
          ],
          "carpet": [
           {
            "aaxis": {
             "endlinecolor": "#2a3f5f",
             "gridcolor": "white",
             "linecolor": "white",
             "minorgridcolor": "white",
             "startlinecolor": "#2a3f5f"
            },
            "baxis": {
             "endlinecolor": "#2a3f5f",
             "gridcolor": "white",
             "linecolor": "white",
             "minorgridcolor": "white",
             "startlinecolor": "#2a3f5f"
            },
            "type": "carpet"
           }
          ],
          "choropleth": [
           {
            "colorbar": {
             "outlinewidth": 0,
             "ticks": ""
            },
            "type": "choropleth"
           }
          ],
          "contour": [
           {
            "colorbar": {
             "outlinewidth": 0,
             "ticks": ""
            },
            "colorscale": [
             [
              0,
              "#0d0887"
             ],
             [
              0.1111111111111111,
              "#46039f"
             ],
             [
              0.2222222222222222,
              "#7201a8"
             ],
             [
              0.3333333333333333,
              "#9c179e"
             ],
             [
              0.4444444444444444,
              "#bd3786"
             ],
             [
              0.5555555555555556,
              "#d8576b"
             ],
             [
              0.6666666666666666,
              "#ed7953"
             ],
             [
              0.7777777777777778,
              "#fb9f3a"
             ],
             [
              0.8888888888888888,
              "#fdca26"
             ],
             [
              1,
              "#f0f921"
             ]
            ],
            "type": "contour"
           }
          ],
          "contourcarpet": [
           {
            "colorbar": {
             "outlinewidth": 0,
             "ticks": ""
            },
            "type": "contourcarpet"
           }
          ],
          "heatmap": [
           {
            "colorbar": {
             "outlinewidth": 0,
             "ticks": ""
            },
            "colorscale": [
             [
              0,
              "#0d0887"
             ],
             [
              0.1111111111111111,
              "#46039f"
             ],
             [
              0.2222222222222222,
              "#7201a8"
             ],
             [
              0.3333333333333333,
              "#9c179e"
             ],
             [
              0.4444444444444444,
              "#bd3786"
             ],
             [
              0.5555555555555556,
              "#d8576b"
             ],
             [
              0.6666666666666666,
              "#ed7953"
             ],
             [
              0.7777777777777778,
              "#fb9f3a"
             ],
             [
              0.8888888888888888,
              "#fdca26"
             ],
             [
              1,
              "#f0f921"
             ]
            ],
            "type": "heatmap"
           }
          ],
          "histogram": [
           {
            "marker": {
             "pattern": {
              "fillmode": "overlay",
              "size": 10,
              "solidity": 0.2
             }
            },
            "type": "histogram"
           }
          ],
          "histogram2d": [
           {
            "colorbar": {
             "outlinewidth": 0,
             "ticks": ""
            },
            "colorscale": [
             [
              0,
              "#0d0887"
             ],
             [
              0.1111111111111111,
              "#46039f"
             ],
             [
              0.2222222222222222,
              "#7201a8"
             ],
             [
              0.3333333333333333,
              "#9c179e"
             ],
             [
              0.4444444444444444,
              "#bd3786"
             ],
             [
              0.5555555555555556,
              "#d8576b"
             ],
             [
              0.6666666666666666,
              "#ed7953"
             ],
             [
              0.7777777777777778,
              "#fb9f3a"
             ],
             [
              0.8888888888888888,
              "#fdca26"
             ],
             [
              1,
              "#f0f921"
             ]
            ],
            "type": "histogram2d"
           }
          ],
          "histogram2dcontour": [
           {
            "colorbar": {
             "outlinewidth": 0,
             "ticks": ""
            },
            "colorscale": [
             [
              0,
              "#0d0887"
             ],
             [
              0.1111111111111111,
              "#46039f"
             ],
             [
              0.2222222222222222,
              "#7201a8"
             ],
             [
              0.3333333333333333,
              "#9c179e"
             ],
             [
              0.4444444444444444,
              "#bd3786"
             ],
             [
              0.5555555555555556,
              "#d8576b"
             ],
             [
              0.6666666666666666,
              "#ed7953"
             ],
             [
              0.7777777777777778,
              "#fb9f3a"
             ],
             [
              0.8888888888888888,
              "#fdca26"
             ],
             [
              1,
              "#f0f921"
             ]
            ],
            "type": "histogram2dcontour"
           }
          ],
          "mesh3d": [
           {
            "colorbar": {
             "outlinewidth": 0,
             "ticks": ""
            },
            "type": "mesh3d"
           }
          ],
          "parcoords": [
           {
            "line": {
             "colorbar": {
              "outlinewidth": 0,
              "ticks": ""
             }
            },
            "type": "parcoords"
           }
          ],
          "pie": [
           {
            "automargin": true,
            "type": "pie"
           }
          ],
          "scatter": [
           {
            "fillpattern": {
             "fillmode": "overlay",
             "size": 10,
             "solidity": 0.2
            },
            "type": "scatter"
           }
          ],
          "scatter3d": [
           {
            "line": {
             "colorbar": {
              "outlinewidth": 0,
              "ticks": ""
             }
            },
            "marker": {
             "colorbar": {
              "outlinewidth": 0,
              "ticks": ""
             }
            },
            "type": "scatter3d"
           }
          ],
          "scattercarpet": [
           {
            "marker": {
             "colorbar": {
              "outlinewidth": 0,
              "ticks": ""
             }
            },
            "type": "scattercarpet"
           }
          ],
          "scattergeo": [
           {
            "marker": {
             "colorbar": {
              "outlinewidth": 0,
              "ticks": ""
             }
            },
            "type": "scattergeo"
           }
          ],
          "scattergl": [
           {
            "marker": {
             "colorbar": {
              "outlinewidth": 0,
              "ticks": ""
             }
            },
            "type": "scattergl"
           }
          ],
          "scattermap": [
           {
            "marker": {
             "colorbar": {
              "outlinewidth": 0,
              "ticks": ""
             }
            },
            "type": "scattermap"
           }
          ],
          "scattermapbox": [
           {
            "marker": {
             "colorbar": {
              "outlinewidth": 0,
              "ticks": ""
             }
            },
            "type": "scattermapbox"
           }
          ],
          "scatterpolar": [
           {
            "marker": {
             "colorbar": {
              "outlinewidth": 0,
              "ticks": ""
             }
            },
            "type": "scatterpolar"
           }
          ],
          "scatterpolargl": [
           {
            "marker": {
             "colorbar": {
              "outlinewidth": 0,
              "ticks": ""
             }
            },
            "type": "scatterpolargl"
           }
          ],
          "scatterternary": [
           {
            "marker": {
             "colorbar": {
              "outlinewidth": 0,
              "ticks": ""
             }
            },
            "type": "scatterternary"
           }
          ],
          "surface": [
           {
            "colorbar": {
             "outlinewidth": 0,
             "ticks": ""
            },
            "colorscale": [
             [
              0,
              "#0d0887"
             ],
             [
              0.1111111111111111,
              "#46039f"
             ],
             [
              0.2222222222222222,
              "#7201a8"
             ],
             [
              0.3333333333333333,
              "#9c179e"
             ],
             [
              0.4444444444444444,
              "#bd3786"
             ],
             [
              0.5555555555555556,
              "#d8576b"
             ],
             [
              0.6666666666666666,
              "#ed7953"
             ],
             [
              0.7777777777777778,
              "#fb9f3a"
             ],
             [
              0.8888888888888888,
              "#fdca26"
             ],
             [
              1,
              "#f0f921"
             ]
            ],
            "type": "surface"
           }
          ],
          "table": [
           {
            "cells": {
             "fill": {
              "color": "#EBF0F8"
             },
             "line": {
              "color": "white"
             }
            },
            "header": {
             "fill": {
              "color": "#C8D4E3"
             },
             "line": {
              "color": "white"
             }
            },
            "type": "table"
           }
          ]
         },
         "layout": {
          "annotationdefaults": {
           "arrowcolor": "#2a3f5f",
           "arrowhead": 0,
           "arrowwidth": 1
          },
          "autotypenumbers": "strict",
          "coloraxis": {
           "colorbar": {
            "outlinewidth": 0,
            "ticks": ""
           }
          },
          "colorscale": {
           "diverging": [
            [
             0,
             "#8e0152"
            ],
            [
             0.1,
             "#c51b7d"
            ],
            [
             0.2,
             "#de77ae"
            ],
            [
             0.3,
             "#f1b6da"
            ],
            [
             0.4,
             "#fde0ef"
            ],
            [
             0.5,
             "#f7f7f7"
            ],
            [
             0.6,
             "#e6f5d0"
            ],
            [
             0.7,
             "#b8e186"
            ],
            [
             0.8,
             "#7fbc41"
            ],
            [
             0.9,
             "#4d9221"
            ],
            [
             1,
             "#276419"
            ]
           ],
           "sequential": [
            [
             0,
             "#0d0887"
            ],
            [
             0.1111111111111111,
             "#46039f"
            ],
            [
             0.2222222222222222,
             "#7201a8"
            ],
            [
             0.3333333333333333,
             "#9c179e"
            ],
            [
             0.4444444444444444,
             "#bd3786"
            ],
            [
             0.5555555555555556,
             "#d8576b"
            ],
            [
             0.6666666666666666,
             "#ed7953"
            ],
            [
             0.7777777777777778,
             "#fb9f3a"
            ],
            [
             0.8888888888888888,
             "#fdca26"
            ],
            [
             1,
             "#f0f921"
            ]
           ],
           "sequentialminus": [
            [
             0,
             "#0d0887"
            ],
            [
             0.1111111111111111,
             "#46039f"
            ],
            [
             0.2222222222222222,
             "#7201a8"
            ],
            [
             0.3333333333333333,
             "#9c179e"
            ],
            [
             0.4444444444444444,
             "#bd3786"
            ],
            [
             0.5555555555555556,
             "#d8576b"
            ],
            [
             0.6666666666666666,
             "#ed7953"
            ],
            [
             0.7777777777777778,
             "#fb9f3a"
            ],
            [
             0.8888888888888888,
             "#fdca26"
            ],
            [
             1,
             "#f0f921"
            ]
           ]
          },
          "colorway": [
           "#636efa",
           "#EF553B",
           "#00cc96",
           "#ab63fa",
           "#FFA15A",
           "#19d3f3",
           "#FF6692",
           "#B6E880",
           "#FF97FF",
           "#FECB52"
          ],
          "font": {
           "color": "#2a3f5f"
          },
          "geo": {
           "bgcolor": "white",
           "lakecolor": "white",
           "landcolor": "#E5ECF6",
           "showlakes": true,
           "showland": true,
           "subunitcolor": "white"
          },
          "hoverlabel": {
           "align": "left"
          },
          "hovermode": "closest",
          "mapbox": {
           "style": "light"
          },
          "paper_bgcolor": "white",
          "plot_bgcolor": "#E5ECF6",
          "polar": {
           "angularaxis": {
            "gridcolor": "white",
            "linecolor": "white",
            "ticks": ""
           },
           "bgcolor": "#E5ECF6",
           "radialaxis": {
            "gridcolor": "white",
            "linecolor": "white",
            "ticks": ""
           }
          },
          "scene": {
           "xaxis": {
            "backgroundcolor": "#E5ECF6",
            "gridcolor": "white",
            "gridwidth": 2,
            "linecolor": "white",
            "showbackground": true,
            "ticks": "",
            "zerolinecolor": "white"
           },
           "yaxis": {
            "backgroundcolor": "#E5ECF6",
            "gridcolor": "white",
            "gridwidth": 2,
            "linecolor": "white",
            "showbackground": true,
            "ticks": "",
            "zerolinecolor": "white"
           },
           "zaxis": {
            "backgroundcolor": "#E5ECF6",
            "gridcolor": "white",
            "gridwidth": 2,
            "linecolor": "white",
            "showbackground": true,
            "ticks": "",
            "zerolinecolor": "white"
           }
          },
          "shapedefaults": {
           "line": {
            "color": "#2a3f5f"
           }
          },
          "ternary": {
           "aaxis": {
            "gridcolor": "white",
            "linecolor": "white",
            "ticks": ""
           },
           "baxis": {
            "gridcolor": "white",
            "linecolor": "white",
            "ticks": ""
           },
           "bgcolor": "#E5ECF6",
           "caxis": {
            "gridcolor": "white",
            "linecolor": "white",
            "ticks": ""
           }
          },
          "title": {
           "x": 0.05
          },
          "xaxis": {
           "automargin": true,
           "gridcolor": "white",
           "linecolor": "white",
           "ticks": "",
           "title": {
            "standoff": 15
           },
           "zerolinecolor": "white",
           "zerolinewidth": 2
          },
          "yaxis": {
           "automargin": true,
           "gridcolor": "white",
           "linecolor": "white",
           "ticks": "",
           "title": {
            "standoff": 15
           },
           "zerolinecolor": "white",
           "zerolinewidth": 2
          }
         }
        },
        "title": {
         "text": "Top 300 Most Frequent Words",
         "x": 0.5,
         "xanchor": "center"
        },
        "xaxis": {
         "anchor": "y",
         "domain": [
          0,
          1
         ],
         "tickangle": -45,
         "title": {
          "text": "Word"
         }
        },
        "yaxis": {
         "anchor": "x",
         "domain": [
          0,
          1
         ],
         "title": {
          "text": "Total Count"
         }
        }
       }
      }
     },
     "metadata": {},
     "output_type": "display_data"
    }
   ],
   "source": [
    "# copy our master code, similar task\n",
    "# create a DataFrame with ALL terms and their frequencies\n",
    "freq_df = pd.DataFrame({\n",
    "    'Term': count_vect.get_feature_names_out(),\n",
    "    'Frequency': term_frequencies\n",
    "})\n",
    "\n",
    "# 2. Sort the DataFrame by the 'Frequency' column to find the most frequent words\n",
    "sorted_freq_df = freq_df.sort_values(by='Frequency', ascending=False)\n",
    "\n",
    "# 3. Now, select the top N words from the SORTED DataFrame\n",
    "num_terms_to_plot = 300\n",
    "top_df = sorted_freq_df.head(num_terms_to_plot)\n",
    "\n",
    "\n",
    "# --- The rest of your plotting code is correct and will now work as intended ---\n",
    "\n",
    "fig = px.bar(top_df,\n",
    "             x='Term',\n",
    "             y='Frequency',\n",
    "             labels={'Term': 'Word', 'Frequency': 'Total Count'},\n",
    "             hover_name='Term',\n",
    "             hover_data={'Frequency': True, 'Term': False}\n",
    "             )\n",
    "\n",
    "fig.update_layout(\n",
    "    title_text=f'Top {num_terms_to_plot} Most Frequent Words',\n",
    "    title_x=0.5,\n",
    "    title_xanchor='center',\n",
    "    xaxis_tickangle=-45\n",
    ")\n",
    "fig.show()"
   ]
  },
  {
   "cell_type": "markdown",
   "metadata": {},
   "source": [
    "### >>> Exercise 13\n",
    "\n",
    "Here, we can see it contains many unimportant engluish words like the, that, be, but, was, or\n",
    "Now, we want to effieciently reduce the number of terms we want to visualize\n"
   ]
  },
  {
   "cell_type": "code",
   "execution_count": 93,
   "metadata": {},
   "outputs": [
    {
     "data": {
      "application/vnd.plotly.v1+json": {
       "config": {
        "plotlyServerURL": "https://plot.ly"
       },
       "data": [
        {
         "hovertemplate": "<b>%{hovertext}</b><br><br>Total Count=%{y}<extra></extra>",
         "hovertext": [
          "10",
          "100",
          "11",
          "12",
          "15",
          "20",
          "2025",
          "25",
          "30",
          "4271",
          "50",
          "90",
          "able",
          "accurate",
          "actual",
          "actually",
          "administration",
          "advice",
          "ago",
          "allies",
          "amc",
          "america",
          "american",
          "americans",
          "analysis",
          "anymore",
          "apple",
          "april",
          "art",
          "ask",
          "ass",
          "assets",
          "avoid",
          "away",
          "bad",
          "bank",
          "base",
          "based",
          "basically",
          "believe",
          "best",
          "better",
          "big",
          "bigger",
          "biggest",
          "bond",
          "bonds",
          "bought",
          "brain",
          "btcusd",
          "build",
          "bull",
          "bullshit",
          "business",
          "buy",
          "buying",
          "called",
          "calls",
          "cap",
          "capital",
          "car",
          "cards",
          "care",
          "cash",
          "change",
          "chart",
          "charts",
          "check",
          "china",
          "chinese",
          "citizens",
          "clown",
          "coin",
          "coinbase",
          "com",
          "come",
          "comes",
          "coming",
          "companies",
          "company",
          "completely",
          "congress",
          "cost",
          "countries",
          "country",
          "couple",
          "crash",
          "crazy",
          "cryptocurrency",
          "current",
          "currently",
          "cut",
          "daily",
          "data",
          "day",
          "days",
          "dd",
          "deal",
          "debt",
          "decline",
          "delusional",
          "demand",
          "did",
          "didn",
          "different",
          "dividend",
          "does",
          "doesn",
          "doing",
          "dollar",
          "dollars",
          "don",
          "dont",
          "drop",
          "dude",
          "dumb",
          "earnings",
          "easily",
          "economic",
          "economy",
          "emote",
          "end",
          "energy",
          "entire",
          "especially",
          "ethusd",
          "euro",
          "exactly",
          "expect",
          "expectations",
          "expecting",
          "face",
          "fair",
          "fall",
          "falling",
          "far",
          "fast",
          "fed",
          "feel",
          "financial",
          "following",
          "foreign",
          "forward",
          "free",
          "friends",
          "fuck",
          "fucked",
          "fucking",
          "funds",
          "future",
          "futures",
          "game",
          "gas",
          "gets",
          "getting",
          "giving",
          "gme",
          "goes",
          "going",
          "gold",
          "gonna",
          "good",
          "goods",
          "got",
          "government",
          "great",
          "green",
          "group",
          "growth",
          "guy",
          "guys",
          "half",
          "happen",
          "happened",
          "happening",
          "happens",
          "hard",
          "haven",
          "hear",
          "help",
          "hey",
          "high",
          "higher",
          "highest",
          "highlights",
          "hold",
          "hours",
          "hurt",
          "idea",
          "idiot",
          "imagine",
          "img",
          "important",
          "indicate",
          "industry",
          "inflation",
          "influence",
          "insider",
          "instead",
          "interesting",
          "international",
          "invest",
          "investing",
          "investment",
          "investor",
          "investors",
          "isn",
          "japan",
          "jasmyusd",
          "job",
          "just",
          "kind",
          "know",
          "knows",
          "late",
          "law",
          "left",
          "let",
          "level",
          "life",
          "like",
          "likely",
          "line",
          "literally",
          "little",
          "live",
          "ll",
          "lmao",
          "local",
          "lol",
          "long",
          "look",
          "looking",
          "looks",
          "lose",
          "losing",
          "lost",
          "lot",
          "lots",
          "love",
          "lower",
          "maga",
          "make",
          "makes",
          "making",
          "man",
          "market",
          "markets",
          "massive",
          "matter",
          "maybe",
          "mean",
          "media",
          "mentioned",
          "million",
          "mind",
          "monday",
          "money",
          "month",
          "months",
          "morning",
          "moving",
          "nasdaq",
          "natural",
          "need",
          "needs",
          "new",
          "news",
          "nice",
          "note",
          "nvda",
          "office",
          "oil",
          "ok",
          "old",
          "orange",
          "paper",
          "parts",
          "past",
          "people",
          "pepeusd",
          "person",
          "physical",
          "place",
          "plan",
          "play",
          "playing",
          "point",
          "portfolio",
          "position",
          "potential",
          "powell",
          "power",
          "predict",
          "president",
          "pretty",
          "price",
          "prices",
          "prison",
          "probably"
         ],
         "legendgroup": "",
         "marker": {
          "color": "#636efa",
          "pattern": {
           "shape": ""
          }
         },
         "name": "",
         "orientation": "v",
         "showlegend": false,
         "textposition": "auto",
         "type": "bar",
         "x": [
          "10",
          "100",
          "11",
          "12",
          "15",
          "20",
          "2025",
          "25",
          "30",
          "4271",
          "50",
          "90",
          "able",
          "accurate",
          "actual",
          "actually",
          "administration",
          "advice",
          "ago",
          "allies",
          "amc",
          "america",
          "american",
          "americans",
          "analysis",
          "anymore",
          "apple",
          "april",
          "art",
          "ask",
          "ass",
          "assets",
          "avoid",
          "away",
          "bad",
          "bank",
          "base",
          "based",
          "basically",
          "believe",
          "best",
          "better",
          "big",
          "bigger",
          "biggest",
          "bond",
          "bonds",
          "bought",
          "brain",
          "btcusd",
          "build",
          "bull",
          "bullshit",
          "business",
          "buy",
          "buying",
          "called",
          "calls",
          "cap",
          "capital",
          "car",
          "cards",
          "care",
          "cash",
          "change",
          "chart",
          "charts",
          "check",
          "china",
          "chinese",
          "citizens",
          "clown",
          "coin",
          "coinbase",
          "com",
          "come",
          "comes",
          "coming",
          "companies",
          "company",
          "completely",
          "congress",
          "cost",
          "countries",
          "country",
          "couple",
          "crash",
          "crazy",
          "cryptocurrency",
          "current",
          "currently",
          "cut",
          "daily",
          "data",
          "day",
          "days",
          "dd",
          "deal",
          "debt",
          "decline",
          "delusional",
          "demand",
          "did",
          "didn",
          "different",
          "dividend",
          "does",
          "doesn",
          "doing",
          "dollar",
          "dollars",
          "don",
          "dont",
          "drop",
          "dude",
          "dumb",
          "earnings",
          "easily",
          "economic",
          "economy",
          "emote",
          "end",
          "energy",
          "entire",
          "especially",
          "ethusd",
          "euro",
          "exactly",
          "expect",
          "expectations",
          "expecting",
          "face",
          "fair",
          "fall",
          "falling",
          "far",
          "fast",
          "fed",
          "feel",
          "financial",
          "following",
          "foreign",
          "forward",
          "free",
          "friends",
          "fuck",
          "fucked",
          "fucking",
          "funds",
          "future",
          "futures",
          "game",
          "gas",
          "gets",
          "getting",
          "giving",
          "gme",
          "goes",
          "going",
          "gold",
          "gonna",
          "good",
          "goods",
          "got",
          "government",
          "great",
          "green",
          "group",
          "growth",
          "guy",
          "guys",
          "half",
          "happen",
          "happened",
          "happening",
          "happens",
          "hard",
          "haven",
          "hear",
          "help",
          "hey",
          "high",
          "higher",
          "highest",
          "highlights",
          "hold",
          "hours",
          "hurt",
          "idea",
          "idiot",
          "imagine",
          "img",
          "important",
          "indicate",
          "industry",
          "inflation",
          "influence",
          "insider",
          "instead",
          "interesting",
          "international",
          "invest",
          "investing",
          "investment",
          "investor",
          "investors",
          "isn",
          "japan",
          "jasmyusd",
          "job",
          "just",
          "kind",
          "know",
          "knows",
          "late",
          "law",
          "left",
          "let",
          "level",
          "life",
          "like",
          "likely",
          "line",
          "literally",
          "little",
          "live",
          "ll",
          "lmao",
          "local",
          "lol",
          "long",
          "look",
          "looking",
          "looks",
          "lose",
          "losing",
          "lost",
          "lot",
          "lots",
          "love",
          "lower",
          "maga",
          "make",
          "makes",
          "making",
          "man",
          "market",
          "markets",
          "massive",
          "matter",
          "maybe",
          "mean",
          "media",
          "mentioned",
          "million",
          "mind",
          "monday",
          "money",
          "month",
          "months",
          "morning",
          "moving",
          "nasdaq",
          "natural",
          "need",
          "needs",
          "new",
          "news",
          "nice",
          "note",
          "nvda",
          "office",
          "oil",
          "ok",
          "old",
          "orange",
          "paper",
          "parts",
          "past",
          "people",
          "pepeusd",
          "person",
          "physical",
          "place",
          "plan",
          "play",
          "playing",
          "point",
          "portfolio",
          "position",
          "potential",
          "powell",
          "power",
          "predict",
          "president",
          "pretty",
          "price",
          "prices",
          "prison",
          "probably"
         ],
         "xaxis": "x",
         "y": {
          "bdata": "FQsFCAgHBgcJBwwFBgUFCwoHDAcFEBMJCggFBgcHBwYGBxQGBQcHCwcUEAUGEBAIBQYICAUHGA0LDgYGBgUICwYHBQdIDQcFBwUWDQkIFx0IBwgNDwUGBwUJDAYPDRsKBQ0IBgUFGQ4HCBYYIBgGIgcIBgYKBggaEg8GBQYGBQUJBwgIBgUGDAYLDwUFBQULBRIFCAcOHgYFBQsGCQgyDgsuBxAKDAUKCwgIBgsFDAYHCgUKCBIPBQgPBwgKBgUSBgUMBgUIBQUFDwkLBxARBQUFXwUXBwcGCBEFC1MJCBAKBxQJBgsXExMGDAcHDAcKDAYkCAsIbwoICAoJCAUIBQUuCQgHCwUFEgUWEAUKBQYIBwkFCgUJMwYHBwoMBwcRDgYJCQwFEA0kCQcL",
          "dtype": "i1"
         },
         "yaxis": "y"
        }
       ],
       "layout": {
        "barmode": "relative",
        "legend": {
         "tracegroupgap": 0
        },
        "margin": {
         "t": 60
        },
        "template": {
         "data": {
          "bar": [
           {
            "error_x": {
             "color": "#2a3f5f"
            },
            "error_y": {
             "color": "#2a3f5f"
            },
            "marker": {
             "line": {
              "color": "#E5ECF6",
              "width": 0.5
             },
             "pattern": {
              "fillmode": "overlay",
              "size": 10,
              "solidity": 0.2
             }
            },
            "type": "bar"
           }
          ],
          "barpolar": [
           {
            "marker": {
             "line": {
              "color": "#E5ECF6",
              "width": 0.5
             },
             "pattern": {
              "fillmode": "overlay",
              "size": 10,
              "solidity": 0.2
             }
            },
            "type": "barpolar"
           }
          ],
          "carpet": [
           {
            "aaxis": {
             "endlinecolor": "#2a3f5f",
             "gridcolor": "white",
             "linecolor": "white",
             "minorgridcolor": "white",
             "startlinecolor": "#2a3f5f"
            },
            "baxis": {
             "endlinecolor": "#2a3f5f",
             "gridcolor": "white",
             "linecolor": "white",
             "minorgridcolor": "white",
             "startlinecolor": "#2a3f5f"
            },
            "type": "carpet"
           }
          ],
          "choropleth": [
           {
            "colorbar": {
             "outlinewidth": 0,
             "ticks": ""
            },
            "type": "choropleth"
           }
          ],
          "contour": [
           {
            "colorbar": {
             "outlinewidth": 0,
             "ticks": ""
            },
            "colorscale": [
             [
              0,
              "#0d0887"
             ],
             [
              0.1111111111111111,
              "#46039f"
             ],
             [
              0.2222222222222222,
              "#7201a8"
             ],
             [
              0.3333333333333333,
              "#9c179e"
             ],
             [
              0.4444444444444444,
              "#bd3786"
             ],
             [
              0.5555555555555556,
              "#d8576b"
             ],
             [
              0.6666666666666666,
              "#ed7953"
             ],
             [
              0.7777777777777778,
              "#fb9f3a"
             ],
             [
              0.8888888888888888,
              "#fdca26"
             ],
             [
              1,
              "#f0f921"
             ]
            ],
            "type": "contour"
           }
          ],
          "contourcarpet": [
           {
            "colorbar": {
             "outlinewidth": 0,
             "ticks": ""
            },
            "type": "contourcarpet"
           }
          ],
          "heatmap": [
           {
            "colorbar": {
             "outlinewidth": 0,
             "ticks": ""
            },
            "colorscale": [
             [
              0,
              "#0d0887"
             ],
             [
              0.1111111111111111,
              "#46039f"
             ],
             [
              0.2222222222222222,
              "#7201a8"
             ],
             [
              0.3333333333333333,
              "#9c179e"
             ],
             [
              0.4444444444444444,
              "#bd3786"
             ],
             [
              0.5555555555555556,
              "#d8576b"
             ],
             [
              0.6666666666666666,
              "#ed7953"
             ],
             [
              0.7777777777777778,
              "#fb9f3a"
             ],
             [
              0.8888888888888888,
              "#fdca26"
             ],
             [
              1,
              "#f0f921"
             ]
            ],
            "type": "heatmap"
           }
          ],
          "histogram": [
           {
            "marker": {
             "pattern": {
              "fillmode": "overlay",
              "size": 10,
              "solidity": 0.2
             }
            },
            "type": "histogram"
           }
          ],
          "histogram2d": [
           {
            "colorbar": {
             "outlinewidth": 0,
             "ticks": ""
            },
            "colorscale": [
             [
              0,
              "#0d0887"
             ],
             [
              0.1111111111111111,
              "#46039f"
             ],
             [
              0.2222222222222222,
              "#7201a8"
             ],
             [
              0.3333333333333333,
              "#9c179e"
             ],
             [
              0.4444444444444444,
              "#bd3786"
             ],
             [
              0.5555555555555556,
              "#d8576b"
             ],
             [
              0.6666666666666666,
              "#ed7953"
             ],
             [
              0.7777777777777778,
              "#fb9f3a"
             ],
             [
              0.8888888888888888,
              "#fdca26"
             ],
             [
              1,
              "#f0f921"
             ]
            ],
            "type": "histogram2d"
           }
          ],
          "histogram2dcontour": [
           {
            "colorbar": {
             "outlinewidth": 0,
             "ticks": ""
            },
            "colorscale": [
             [
              0,
              "#0d0887"
             ],
             [
              0.1111111111111111,
              "#46039f"
             ],
             [
              0.2222222222222222,
              "#7201a8"
             ],
             [
              0.3333333333333333,
              "#9c179e"
             ],
             [
              0.4444444444444444,
              "#bd3786"
             ],
             [
              0.5555555555555556,
              "#d8576b"
             ],
             [
              0.6666666666666666,
              "#ed7953"
             ],
             [
              0.7777777777777778,
              "#fb9f3a"
             ],
             [
              0.8888888888888888,
              "#fdca26"
             ],
             [
              1,
              "#f0f921"
             ]
            ],
            "type": "histogram2dcontour"
           }
          ],
          "mesh3d": [
           {
            "colorbar": {
             "outlinewidth": 0,
             "ticks": ""
            },
            "type": "mesh3d"
           }
          ],
          "parcoords": [
           {
            "line": {
             "colorbar": {
              "outlinewidth": 0,
              "ticks": ""
             }
            },
            "type": "parcoords"
           }
          ],
          "pie": [
           {
            "automargin": true,
            "type": "pie"
           }
          ],
          "scatter": [
           {
            "fillpattern": {
             "fillmode": "overlay",
             "size": 10,
             "solidity": 0.2
            },
            "type": "scatter"
           }
          ],
          "scatter3d": [
           {
            "line": {
             "colorbar": {
              "outlinewidth": 0,
              "ticks": ""
             }
            },
            "marker": {
             "colorbar": {
              "outlinewidth": 0,
              "ticks": ""
             }
            },
            "type": "scatter3d"
           }
          ],
          "scattercarpet": [
           {
            "marker": {
             "colorbar": {
              "outlinewidth": 0,
              "ticks": ""
             }
            },
            "type": "scattercarpet"
           }
          ],
          "scattergeo": [
           {
            "marker": {
             "colorbar": {
              "outlinewidth": 0,
              "ticks": ""
             }
            },
            "type": "scattergeo"
           }
          ],
          "scattergl": [
           {
            "marker": {
             "colorbar": {
              "outlinewidth": 0,
              "ticks": ""
             }
            },
            "type": "scattergl"
           }
          ],
          "scattermap": [
           {
            "marker": {
             "colorbar": {
              "outlinewidth": 0,
              "ticks": ""
             }
            },
            "type": "scattermap"
           }
          ],
          "scattermapbox": [
           {
            "marker": {
             "colorbar": {
              "outlinewidth": 0,
              "ticks": ""
             }
            },
            "type": "scattermapbox"
           }
          ],
          "scatterpolar": [
           {
            "marker": {
             "colorbar": {
              "outlinewidth": 0,
              "ticks": ""
             }
            },
            "type": "scatterpolar"
           }
          ],
          "scatterpolargl": [
           {
            "marker": {
             "colorbar": {
              "outlinewidth": 0,
              "ticks": ""
             }
            },
            "type": "scatterpolargl"
           }
          ],
          "scatterternary": [
           {
            "marker": {
             "colorbar": {
              "outlinewidth": 0,
              "ticks": ""
             }
            },
            "type": "scatterternary"
           }
          ],
          "surface": [
           {
            "colorbar": {
             "outlinewidth": 0,
             "ticks": ""
            },
            "colorscale": [
             [
              0,
              "#0d0887"
             ],
             [
              0.1111111111111111,
              "#46039f"
             ],
             [
              0.2222222222222222,
              "#7201a8"
             ],
             [
              0.3333333333333333,
              "#9c179e"
             ],
             [
              0.4444444444444444,
              "#bd3786"
             ],
             [
              0.5555555555555556,
              "#d8576b"
             ],
             [
              0.6666666666666666,
              "#ed7953"
             ],
             [
              0.7777777777777778,
              "#fb9f3a"
             ],
             [
              0.8888888888888888,
              "#fdca26"
             ],
             [
              1,
              "#f0f921"
             ]
            ],
            "type": "surface"
           }
          ],
          "table": [
           {
            "cells": {
             "fill": {
              "color": "#EBF0F8"
             },
             "line": {
              "color": "white"
             }
            },
            "header": {
             "fill": {
              "color": "#C8D4E3"
             },
             "line": {
              "color": "white"
             }
            },
            "type": "table"
           }
          ]
         },
         "layout": {
          "annotationdefaults": {
           "arrowcolor": "#2a3f5f",
           "arrowhead": 0,
           "arrowwidth": 1
          },
          "autotypenumbers": "strict",
          "coloraxis": {
           "colorbar": {
            "outlinewidth": 0,
            "ticks": ""
           }
          },
          "colorscale": {
           "diverging": [
            [
             0,
             "#8e0152"
            ],
            [
             0.1,
             "#c51b7d"
            ],
            [
             0.2,
             "#de77ae"
            ],
            [
             0.3,
             "#f1b6da"
            ],
            [
             0.4,
             "#fde0ef"
            ],
            [
             0.5,
             "#f7f7f7"
            ],
            [
             0.6,
             "#e6f5d0"
            ],
            [
             0.7,
             "#b8e186"
            ],
            [
             0.8,
             "#7fbc41"
            ],
            [
             0.9,
             "#4d9221"
            ],
            [
             1,
             "#276419"
            ]
           ],
           "sequential": [
            [
             0,
             "#0d0887"
            ],
            [
             0.1111111111111111,
             "#46039f"
            ],
            [
             0.2222222222222222,
             "#7201a8"
            ],
            [
             0.3333333333333333,
             "#9c179e"
            ],
            [
             0.4444444444444444,
             "#bd3786"
            ],
            [
             0.5555555555555556,
             "#d8576b"
            ],
            [
             0.6666666666666666,
             "#ed7953"
            ],
            [
             0.7777777777777778,
             "#fb9f3a"
            ],
            [
             0.8888888888888888,
             "#fdca26"
            ],
            [
             1,
             "#f0f921"
            ]
           ],
           "sequentialminus": [
            [
             0,
             "#0d0887"
            ],
            [
             0.1111111111111111,
             "#46039f"
            ],
            [
             0.2222222222222222,
             "#7201a8"
            ],
            [
             0.3333333333333333,
             "#9c179e"
            ],
            [
             0.4444444444444444,
             "#bd3786"
            ],
            [
             0.5555555555555556,
             "#d8576b"
            ],
            [
             0.6666666666666666,
             "#ed7953"
            ],
            [
             0.7777777777777778,
             "#fb9f3a"
            ],
            [
             0.8888888888888888,
             "#fdca26"
            ],
            [
             1,
             "#f0f921"
            ]
           ]
          },
          "colorway": [
           "#636efa",
           "#EF553B",
           "#00cc96",
           "#ab63fa",
           "#FFA15A",
           "#19d3f3",
           "#FF6692",
           "#B6E880",
           "#FF97FF",
           "#FECB52"
          ],
          "font": {
           "color": "#2a3f5f"
          },
          "geo": {
           "bgcolor": "white",
           "lakecolor": "white",
           "landcolor": "#E5ECF6",
           "showlakes": true,
           "showland": true,
           "subunitcolor": "white"
          },
          "hoverlabel": {
           "align": "left"
          },
          "hovermode": "closest",
          "mapbox": {
           "style": "light"
          },
          "paper_bgcolor": "white",
          "plot_bgcolor": "#E5ECF6",
          "polar": {
           "angularaxis": {
            "gridcolor": "white",
            "linecolor": "white",
            "ticks": ""
           },
           "bgcolor": "#E5ECF6",
           "radialaxis": {
            "gridcolor": "white",
            "linecolor": "white",
            "ticks": ""
           }
          },
          "scene": {
           "xaxis": {
            "backgroundcolor": "#E5ECF6",
            "gridcolor": "white",
            "gridwidth": 2,
            "linecolor": "white",
            "showbackground": true,
            "ticks": "",
            "zerolinecolor": "white"
           },
           "yaxis": {
            "backgroundcolor": "#E5ECF6",
            "gridcolor": "white",
            "gridwidth": 2,
            "linecolor": "white",
            "showbackground": true,
            "ticks": "",
            "zerolinecolor": "white"
           },
           "zaxis": {
            "backgroundcolor": "#E5ECF6",
            "gridcolor": "white",
            "gridwidth": 2,
            "linecolor": "white",
            "showbackground": true,
            "ticks": "",
            "zerolinecolor": "white"
           }
          },
          "shapedefaults": {
           "line": {
            "color": "#2a3f5f"
           }
          },
          "ternary": {
           "aaxis": {
            "gridcolor": "white",
            "linecolor": "white",
            "ticks": ""
           },
           "baxis": {
            "gridcolor": "white",
            "linecolor": "white",
            "ticks": ""
           },
           "bgcolor": "#E5ECF6",
           "caxis": {
            "gridcolor": "white",
            "linecolor": "white",
            "ticks": ""
           }
          },
          "title": {
           "x": 0.05
          },
          "xaxis": {
           "automargin": true,
           "gridcolor": "white",
           "linecolor": "white",
           "ticks": "",
           "title": {
            "standoff": 15
           },
           "zerolinecolor": "white",
           "zerolinewidth": 2
          },
          "yaxis": {
           "automargin": true,
           "gridcolor": "white",
           "linecolor": "white",
           "ticks": "",
           "title": {
            "standoff": 15
           },
           "zerolinecolor": "white",
           "zerolinewidth": 2
          }
         }
        },
        "title": {
         "text": "Top 300 Most Frequent Words (from Reduced Vocabulary)",
         "x": 0.5,
         "xanchor": "center"
        },
        "xaxis": {
         "anchor": "y",
         "domain": [
          0,
          1
         ],
         "tickangle": -45,
         "title": {
          "text": "Word"
         }
        },
        "yaxis": {
         "anchor": "x",
         "domain": [
          0,
          1
         ],
         "title": {
          "text": "Total Count"
         }
        }
       }
      }
     },
     "metadata": {},
     "output_type": "display_data"
    }
   ],
   "source": [
    "# same method as in my master, using min and max\n",
    "\n",
    "# min_df: ignores words that appear in too few documents (usually these are typos, rare names, or noise)\n",
    "# max_df: ignores words that appear in too many docs (they usually are the template like used in all data, so it doesnt help to differentiate categories)\n",
    "\n",
    "vect = CountVectorizer(stop_words='english', #we cut off common english words\n",
    "                       min_df=5, #means minimum it appears in 5 docs to be considered, but yeah these 2 are hyperparameters we can do trial and error\n",
    "                       max_df=0.85, #means max it appears in 85% of our docs\n",
    "                       max_features=10000) #we can also still put limit\n",
    "\n",
    "df_counts_reduced = vect.fit_transform(df.text)\n",
    "\n",
    "# calc the freq from new reduced matrix\n",
    "term_frequencies_reduced = df_counts_reduced.sum(axis=0).A1\n",
    "vocab_reduced = vect.get_feature_names_out() #collect the words\n",
    "\n",
    "freq_df_reduced = pd.DataFrame({'Term' : vocab_reduced, 'Frequency': term_frequencies_reduced}) #make dataframe\n",
    "\n",
    "\n",
    "num_terms_to_plot = 300 #set our words limit\n",
    "top_df = freq_df_reduced.head(num_terms_to_plot)\n",
    "\n",
    "#same plotting as befor\n",
    "fig = px.bar(top_df,\n",
    "             x='Term',\n",
    "             y='Frequency',\n",
    "             labels={'Term': 'Word', 'Frequency': 'Total Count'},\n",
    "             hover_name='Term',\n",
    "             hover_data={'Frequency': True, 'Term': False}\n",
    "             )\n",
    "\n",
    "fig.update_layout(\n",
    "    title_text=f'Top {num_terms_to_plot} Most Frequent Words (from Reduced Vocabulary)',\n",
    "    title_x=0.5,\n",
    "    title_xanchor='center',\n",
    "    xaxis_tickangle=-45\n",
    ")\n",
    "fig.show()"
   ]
  },
  {
   "cell_type": "markdown",
   "metadata": {},
   "source": [
    "### >>> Exercise 14\n",
    "Now, show it sorted to see the long tail"
   ]
  },
  {
   "cell_type": "code",
   "execution_count": 96,
   "metadata": {},
   "outputs": [
    {
     "data": {
      "application/vnd.plotly.v1+json": {
       "config": {
        "plotlyServerURL": "https://plot.ly"
       },
       "data": [
        {
         "hovertemplate": "<b>%{hovertext}</b><br><br>Total Count=%{y}<extra></extra>",
         "hovertext": [
          "market",
          "just",
          "trump",
          "like",
          "china",
          "think",
          "stock",
          "people",
          "going",
          "money",
          "good",
          "tariffs",
          "make",
          "time",
          "price",
          "want",
          "don",
          "doing",
          "futures",
          "silver",
          "right",
          "company",
          "x200b",
          "day",
          "years",
          "today",
          "economy",
          "world",
          "did",
          "stocks",
          "really",
          "dollar",
          "way",
          "buy",
          "doesn",
          "long",
          "companies",
          "know",
          "new",
          "com",
          "stockbuyvest",
          "week",
          "does",
          "year",
          "10",
          "sell",
          "trade",
          "ve",
          "bad",
          "better",
          "ll",
          "looking",
          "american",
          "xi",
          "look",
          "wants",
          "emote",
          "fuck",
          "term",
          "high",
          "things",
          "need",
          "say",
          "t5_2th52",
          "img",
          "let",
          "trading",
          "thing",
          "isn",
          "point",
          "america",
          "bonds",
          "bond",
          "news",
          "president",
          "selling",
          "shit",
          "big",
          "literally",
          "investors",
          "got",
          "end",
          "usa",
          "daily",
          "feel",
          "invest",
          "country",
          "war",
          "higher",
          "reason",
          "hold",
          "gold",
          "calls",
          "portfolio",
          "sure",
          "didn",
          "future",
          "technology",
          "updated",
          "worse",
          "tariff",
          "reddit",
          "pretty",
          "data",
          "countries",
          "deal",
          "chinese",
          "come",
          "buying",
          "lose",
          "power",
          "lot",
          "work",
          "target",
          "usd",
          "won",
          "real",
          "plan",
          "industry",
          "lower",
          "50",
          "went",
          "ago",
          "spy",
          "far",
          "said",
          "happening",
          "great",
          "puts",
          "currently",
          "actually",
          "happen",
          "growth",
          "rest",
          "free",
          "seen",
          "risk",
          "fed",
          "probably",
          "getting",
          "believe",
          "100",
          "making",
          "lol",
          "life",
          "moving",
          "called",
          "cash",
          "investment",
          "rates",
          "gonna",
          "markets",
          "administration",
          "note",
          "idea",
          "paper",
          "little",
          "love",
          "support",
          "days",
          "help",
          "group",
          "government",
          "haven",
          "short",
          "maybe",
          "thanks",
          "use",
          "analysis",
          "earnings",
          "place",
          "expect",
          "yeah",
          "americans",
          "comes",
          "past",
          "used",
          "trust",
          "wrong",
          "treasuries",
          "30",
          "stop",
          "current",
          "share",
          "stuff",
          "squeeze",
          "state",
          "prices",
          "read",
          "gme",
          "report",
          "powell",
          "mean",
          "likely",
          "lmao",
          "month",
          "weekly",
          "investing",
          "old",
          "potential",
          "build",
          "drop",
          "bull",
          "economic",
          "dividend",
          "anymore",
          "12",
          "yields",
          "bought",
          "expecting",
          "thought",
          "safe",
          "rise",
          "guy",
          "guys",
          "hey",
          "highlights",
          "red",
          "goes",
          "talk",
          "started",
          "start",
          "fucking",
          "talking",
          "significant",
          "debt",
          "face",
          "insider",
          "hurt",
          "million",
          "months",
          "completely",
          "coming",
          "oil",
          "care",
          "media",
          "line",
          "massive",
          "matter",
          "left",
          "cost",
          "15",
          "makes",
          "man",
          "using",
          "advice",
          "allies",
          "wasn",
          "wait",
          "wanted",
          "away",
          "win",
          "person",
          "playing",
          "play",
          "congress",
          "hours",
          "lots",
          "lost",
          "losing",
          "knows",
          "morning",
          "live",
          "late",
          "citizens",
          "coin",
          "ok",
          "investor",
          "physical",
          "sales",
          "funds",
          "crazy",
          "sector",
          "saying",
          "shorts",
          "20",
          "dont",
          "understand",
          "art",
          "ask",
          "true",
          "try",
          "treasury",
          "trends",
          "based",
          "best",
          "basically",
          "thank",
          "expectations",
          "25",
          "4271",
          "ass",
          "working",
          "worth",
          "different",
          "trying",
          "smart",
          "small",
          "soon",
          "sentiment"
         ],
         "legendgroup": "",
         "marker": {
          "color": "#636efa",
          "pattern": {
           "shape": ""
          }
         },
         "name": "",
         "orientation": "v",
         "showlegend": false,
         "textposition": "auto",
         "type": "bar",
         "x": [
          "market",
          "just",
          "trump",
          "like",
          "china",
          "think",
          "stock",
          "people",
          "going",
          "money",
          "good",
          "tariffs",
          "make",
          "time",
          "price",
          "want",
          "don",
          "doing",
          "futures",
          "silver",
          "right",
          "company",
          "x200b",
          "day",
          "years",
          "today",
          "economy",
          "world",
          "did",
          "stocks",
          "really",
          "dollar",
          "way",
          "buy",
          "doesn",
          "long",
          "companies",
          "know",
          "new",
          "com",
          "stockbuyvest",
          "week",
          "does",
          "year",
          "10",
          "sell",
          "trade",
          "ve",
          "bad",
          "better",
          "ll",
          "looking",
          "american",
          "xi",
          "look",
          "wants",
          "emote",
          "fuck",
          "term",
          "high",
          "things",
          "need",
          "say",
          "t5_2th52",
          "img",
          "let",
          "trading",
          "thing",
          "isn",
          "point",
          "america",
          "bonds",
          "bond",
          "news",
          "president",
          "selling",
          "shit",
          "big",
          "literally",
          "investors",
          "got",
          "end",
          "usa",
          "daily",
          "feel",
          "invest",
          "country",
          "war",
          "higher",
          "reason",
          "hold",
          "gold",
          "calls",
          "portfolio",
          "sure",
          "didn",
          "future",
          "technology",
          "updated",
          "worse",
          "tariff",
          "reddit",
          "pretty",
          "data",
          "countries",
          "deal",
          "chinese",
          "come",
          "buying",
          "lose",
          "power",
          "lot",
          "work",
          "target",
          "usd",
          "won",
          "real",
          "plan",
          "industry",
          "lower",
          "50",
          "went",
          "ago",
          "spy",
          "far",
          "said",
          "happening",
          "great",
          "puts",
          "currently",
          "actually",
          "happen",
          "growth",
          "rest",
          "free",
          "seen",
          "risk",
          "fed",
          "probably",
          "getting",
          "believe",
          "100",
          "making",
          "lol",
          "life",
          "moving",
          "called",
          "cash",
          "investment",
          "rates",
          "gonna",
          "markets",
          "administration",
          "note",
          "idea",
          "paper",
          "little",
          "love",
          "support",
          "days",
          "help",
          "group",
          "government",
          "haven",
          "short",
          "maybe",
          "thanks",
          "use",
          "analysis",
          "earnings",
          "place",
          "expect",
          "yeah",
          "americans",
          "comes",
          "past",
          "used",
          "trust",
          "wrong",
          "treasuries",
          "30",
          "stop",
          "current",
          "share",
          "stuff",
          "squeeze",
          "state",
          "prices",
          "read",
          "gme",
          "report",
          "powell",
          "mean",
          "likely",
          "lmao",
          "month",
          "weekly",
          "investing",
          "old",
          "potential",
          "build",
          "drop",
          "bull",
          "economic",
          "dividend",
          "anymore",
          "12",
          "yields",
          "bought",
          "expecting",
          "thought",
          "safe",
          "rise",
          "guy",
          "guys",
          "hey",
          "highlights",
          "red",
          "goes",
          "talk",
          "started",
          "start",
          "fucking",
          "talking",
          "significant",
          "debt",
          "face",
          "insider",
          "hurt",
          "million",
          "months",
          "completely",
          "coming",
          "oil",
          "care",
          "media",
          "line",
          "massive",
          "matter",
          "left",
          "cost",
          "15",
          "makes",
          "man",
          "using",
          "advice",
          "allies",
          "wasn",
          "wait",
          "wanted",
          "away",
          "win",
          "person",
          "playing",
          "play",
          "congress",
          "hours",
          "lots",
          "lost",
          "losing",
          "knows",
          "morning",
          "live",
          "late",
          "citizens",
          "coin",
          "ok",
          "investor",
          "physical",
          "sales",
          "funds",
          "crazy",
          "sector",
          "saying",
          "shorts",
          "20",
          "dont",
          "understand",
          "art",
          "ask",
          "true",
          "try",
          "treasury",
          "trends",
          "based",
          "best",
          "basically",
          "thank",
          "expectations",
          "25",
          "4271",
          "ass",
          "working",
          "worth",
          "different",
          "trying",
          "smart",
          "small",
          "soon",
          "sentiment"
         ],
         "xaxis": "x",
         "y": {
          "bdata": "b19cU0g0MzMyLi4nJCQkIyIgHh4dHRwbGxoaGhkZGBgYGBgXFxcWFhYWFhUVFRUUFBQUExMTExISEhISEhISEhIRERERERAQEBAQEBAQEBAQDw8PDw8PDw8PDw4ODg4ODg4NDQ0NDQ0NDQ0NDQwMDAwMDAwMDAwMDAwMDAwMDAwMDAsLCwsLCwsLCwsLCwsLCwsLCwsLCwoKCgoKCgoKCgoKCgoKCgoKCgoKCQkJCQkJCQkJCQkJCQkJCQkJCQkJCQkJCQkJCQkICAgICAgICAgICAgICAgICAgICAgICAgICAgICAgICAgICAgICAgICAgICAgHBwcHBwcHBwcHBwcHBwcHBwcHBwcHBwcHBwcHBwcHBwcHBwcHBwcHBwcHBwcHBwcHBwcHBwcH",
          "dtype": "i1"
         },
         "yaxis": "y"
        }
       ],
       "layout": {
        "barmode": "relative",
        "legend": {
         "tracegroupgap": 0
        },
        "margin": {
         "t": 60
        },
        "template": {
         "data": {
          "bar": [
           {
            "error_x": {
             "color": "#2a3f5f"
            },
            "error_y": {
             "color": "#2a3f5f"
            },
            "marker": {
             "line": {
              "color": "#E5ECF6",
              "width": 0.5
             },
             "pattern": {
              "fillmode": "overlay",
              "size": 10,
              "solidity": 0.2
             }
            },
            "type": "bar"
           }
          ],
          "barpolar": [
           {
            "marker": {
             "line": {
              "color": "#E5ECF6",
              "width": 0.5
             },
             "pattern": {
              "fillmode": "overlay",
              "size": 10,
              "solidity": 0.2
             }
            },
            "type": "barpolar"
           }
          ],
          "carpet": [
           {
            "aaxis": {
             "endlinecolor": "#2a3f5f",
             "gridcolor": "white",
             "linecolor": "white",
             "minorgridcolor": "white",
             "startlinecolor": "#2a3f5f"
            },
            "baxis": {
             "endlinecolor": "#2a3f5f",
             "gridcolor": "white",
             "linecolor": "white",
             "minorgridcolor": "white",
             "startlinecolor": "#2a3f5f"
            },
            "type": "carpet"
           }
          ],
          "choropleth": [
           {
            "colorbar": {
             "outlinewidth": 0,
             "ticks": ""
            },
            "type": "choropleth"
           }
          ],
          "contour": [
           {
            "colorbar": {
             "outlinewidth": 0,
             "ticks": ""
            },
            "colorscale": [
             [
              0,
              "#0d0887"
             ],
             [
              0.1111111111111111,
              "#46039f"
             ],
             [
              0.2222222222222222,
              "#7201a8"
             ],
             [
              0.3333333333333333,
              "#9c179e"
             ],
             [
              0.4444444444444444,
              "#bd3786"
             ],
             [
              0.5555555555555556,
              "#d8576b"
             ],
             [
              0.6666666666666666,
              "#ed7953"
             ],
             [
              0.7777777777777778,
              "#fb9f3a"
             ],
             [
              0.8888888888888888,
              "#fdca26"
             ],
             [
              1,
              "#f0f921"
             ]
            ],
            "type": "contour"
           }
          ],
          "contourcarpet": [
           {
            "colorbar": {
             "outlinewidth": 0,
             "ticks": ""
            },
            "type": "contourcarpet"
           }
          ],
          "heatmap": [
           {
            "colorbar": {
             "outlinewidth": 0,
             "ticks": ""
            },
            "colorscale": [
             [
              0,
              "#0d0887"
             ],
             [
              0.1111111111111111,
              "#46039f"
             ],
             [
              0.2222222222222222,
              "#7201a8"
             ],
             [
              0.3333333333333333,
              "#9c179e"
             ],
             [
              0.4444444444444444,
              "#bd3786"
             ],
             [
              0.5555555555555556,
              "#d8576b"
             ],
             [
              0.6666666666666666,
              "#ed7953"
             ],
             [
              0.7777777777777778,
              "#fb9f3a"
             ],
             [
              0.8888888888888888,
              "#fdca26"
             ],
             [
              1,
              "#f0f921"
             ]
            ],
            "type": "heatmap"
           }
          ],
          "histogram": [
           {
            "marker": {
             "pattern": {
              "fillmode": "overlay",
              "size": 10,
              "solidity": 0.2
             }
            },
            "type": "histogram"
           }
          ],
          "histogram2d": [
           {
            "colorbar": {
             "outlinewidth": 0,
             "ticks": ""
            },
            "colorscale": [
             [
              0,
              "#0d0887"
             ],
             [
              0.1111111111111111,
              "#46039f"
             ],
             [
              0.2222222222222222,
              "#7201a8"
             ],
             [
              0.3333333333333333,
              "#9c179e"
             ],
             [
              0.4444444444444444,
              "#bd3786"
             ],
             [
              0.5555555555555556,
              "#d8576b"
             ],
             [
              0.6666666666666666,
              "#ed7953"
             ],
             [
              0.7777777777777778,
              "#fb9f3a"
             ],
             [
              0.8888888888888888,
              "#fdca26"
             ],
             [
              1,
              "#f0f921"
             ]
            ],
            "type": "histogram2d"
           }
          ],
          "histogram2dcontour": [
           {
            "colorbar": {
             "outlinewidth": 0,
             "ticks": ""
            },
            "colorscale": [
             [
              0,
              "#0d0887"
             ],
             [
              0.1111111111111111,
              "#46039f"
             ],
             [
              0.2222222222222222,
              "#7201a8"
             ],
             [
              0.3333333333333333,
              "#9c179e"
             ],
             [
              0.4444444444444444,
              "#bd3786"
             ],
             [
              0.5555555555555556,
              "#d8576b"
             ],
             [
              0.6666666666666666,
              "#ed7953"
             ],
             [
              0.7777777777777778,
              "#fb9f3a"
             ],
             [
              0.8888888888888888,
              "#fdca26"
             ],
             [
              1,
              "#f0f921"
             ]
            ],
            "type": "histogram2dcontour"
           }
          ],
          "mesh3d": [
           {
            "colorbar": {
             "outlinewidth": 0,
             "ticks": ""
            },
            "type": "mesh3d"
           }
          ],
          "parcoords": [
           {
            "line": {
             "colorbar": {
              "outlinewidth": 0,
              "ticks": ""
             }
            },
            "type": "parcoords"
           }
          ],
          "pie": [
           {
            "automargin": true,
            "type": "pie"
           }
          ],
          "scatter": [
           {
            "fillpattern": {
             "fillmode": "overlay",
             "size": 10,
             "solidity": 0.2
            },
            "type": "scatter"
           }
          ],
          "scatter3d": [
           {
            "line": {
             "colorbar": {
              "outlinewidth": 0,
              "ticks": ""
             }
            },
            "marker": {
             "colorbar": {
              "outlinewidth": 0,
              "ticks": ""
             }
            },
            "type": "scatter3d"
           }
          ],
          "scattercarpet": [
           {
            "marker": {
             "colorbar": {
              "outlinewidth": 0,
              "ticks": ""
             }
            },
            "type": "scattercarpet"
           }
          ],
          "scattergeo": [
           {
            "marker": {
             "colorbar": {
              "outlinewidth": 0,
              "ticks": ""
             }
            },
            "type": "scattergeo"
           }
          ],
          "scattergl": [
           {
            "marker": {
             "colorbar": {
              "outlinewidth": 0,
              "ticks": ""
             }
            },
            "type": "scattergl"
           }
          ],
          "scattermap": [
           {
            "marker": {
             "colorbar": {
              "outlinewidth": 0,
              "ticks": ""
             }
            },
            "type": "scattermap"
           }
          ],
          "scattermapbox": [
           {
            "marker": {
             "colorbar": {
              "outlinewidth": 0,
              "ticks": ""
             }
            },
            "type": "scattermapbox"
           }
          ],
          "scatterpolar": [
           {
            "marker": {
             "colorbar": {
              "outlinewidth": 0,
              "ticks": ""
             }
            },
            "type": "scatterpolar"
           }
          ],
          "scatterpolargl": [
           {
            "marker": {
             "colorbar": {
              "outlinewidth": 0,
              "ticks": ""
             }
            },
            "type": "scatterpolargl"
           }
          ],
          "scatterternary": [
           {
            "marker": {
             "colorbar": {
              "outlinewidth": 0,
              "ticks": ""
             }
            },
            "type": "scatterternary"
           }
          ],
          "surface": [
           {
            "colorbar": {
             "outlinewidth": 0,
             "ticks": ""
            },
            "colorscale": [
             [
              0,
              "#0d0887"
             ],
             [
              0.1111111111111111,
              "#46039f"
             ],
             [
              0.2222222222222222,
              "#7201a8"
             ],
             [
              0.3333333333333333,
              "#9c179e"
             ],
             [
              0.4444444444444444,
              "#bd3786"
             ],
             [
              0.5555555555555556,
              "#d8576b"
             ],
             [
              0.6666666666666666,
              "#ed7953"
             ],
             [
              0.7777777777777778,
              "#fb9f3a"
             ],
             [
              0.8888888888888888,
              "#fdca26"
             ],
             [
              1,
              "#f0f921"
             ]
            ],
            "type": "surface"
           }
          ],
          "table": [
           {
            "cells": {
             "fill": {
              "color": "#EBF0F8"
             },
             "line": {
              "color": "white"
             }
            },
            "header": {
             "fill": {
              "color": "#C8D4E3"
             },
             "line": {
              "color": "white"
             }
            },
            "type": "table"
           }
          ]
         },
         "layout": {
          "annotationdefaults": {
           "arrowcolor": "#2a3f5f",
           "arrowhead": 0,
           "arrowwidth": 1
          },
          "autotypenumbers": "strict",
          "coloraxis": {
           "colorbar": {
            "outlinewidth": 0,
            "ticks": ""
           }
          },
          "colorscale": {
           "diverging": [
            [
             0,
             "#8e0152"
            ],
            [
             0.1,
             "#c51b7d"
            ],
            [
             0.2,
             "#de77ae"
            ],
            [
             0.3,
             "#f1b6da"
            ],
            [
             0.4,
             "#fde0ef"
            ],
            [
             0.5,
             "#f7f7f7"
            ],
            [
             0.6,
             "#e6f5d0"
            ],
            [
             0.7,
             "#b8e186"
            ],
            [
             0.8,
             "#7fbc41"
            ],
            [
             0.9,
             "#4d9221"
            ],
            [
             1,
             "#276419"
            ]
           ],
           "sequential": [
            [
             0,
             "#0d0887"
            ],
            [
             0.1111111111111111,
             "#46039f"
            ],
            [
             0.2222222222222222,
             "#7201a8"
            ],
            [
             0.3333333333333333,
             "#9c179e"
            ],
            [
             0.4444444444444444,
             "#bd3786"
            ],
            [
             0.5555555555555556,
             "#d8576b"
            ],
            [
             0.6666666666666666,
             "#ed7953"
            ],
            [
             0.7777777777777778,
             "#fb9f3a"
            ],
            [
             0.8888888888888888,
             "#fdca26"
            ],
            [
             1,
             "#f0f921"
            ]
           ],
           "sequentialminus": [
            [
             0,
             "#0d0887"
            ],
            [
             0.1111111111111111,
             "#46039f"
            ],
            [
             0.2222222222222222,
             "#7201a8"
            ],
            [
             0.3333333333333333,
             "#9c179e"
            ],
            [
             0.4444444444444444,
             "#bd3786"
            ],
            [
             0.5555555555555556,
             "#d8576b"
            ],
            [
             0.6666666666666666,
             "#ed7953"
            ],
            [
             0.7777777777777778,
             "#fb9f3a"
            ],
            [
             0.8888888888888888,
             "#fdca26"
            ],
            [
             1,
             "#f0f921"
            ]
           ]
          },
          "colorway": [
           "#636efa",
           "#EF553B",
           "#00cc96",
           "#ab63fa",
           "#FFA15A",
           "#19d3f3",
           "#FF6692",
           "#B6E880",
           "#FF97FF",
           "#FECB52"
          ],
          "font": {
           "color": "#2a3f5f"
          },
          "geo": {
           "bgcolor": "white",
           "lakecolor": "white",
           "landcolor": "#E5ECF6",
           "showlakes": true,
           "showland": true,
           "subunitcolor": "white"
          },
          "hoverlabel": {
           "align": "left"
          },
          "hovermode": "closest",
          "mapbox": {
           "style": "light"
          },
          "paper_bgcolor": "white",
          "plot_bgcolor": "#E5ECF6",
          "polar": {
           "angularaxis": {
            "gridcolor": "white",
            "linecolor": "white",
            "ticks": ""
           },
           "bgcolor": "#E5ECF6",
           "radialaxis": {
            "gridcolor": "white",
            "linecolor": "white",
            "ticks": ""
           }
          },
          "scene": {
           "xaxis": {
            "backgroundcolor": "#E5ECF6",
            "gridcolor": "white",
            "gridwidth": 2,
            "linecolor": "white",
            "showbackground": true,
            "ticks": "",
            "zerolinecolor": "white"
           },
           "yaxis": {
            "backgroundcolor": "#E5ECF6",
            "gridcolor": "white",
            "gridwidth": 2,
            "linecolor": "white",
            "showbackground": true,
            "ticks": "",
            "zerolinecolor": "white"
           },
           "zaxis": {
            "backgroundcolor": "#E5ECF6",
            "gridcolor": "white",
            "gridwidth": 2,
            "linecolor": "white",
            "showbackground": true,
            "ticks": "",
            "zerolinecolor": "white"
           }
          },
          "shapedefaults": {
           "line": {
            "color": "#2a3f5f"
           }
          },
          "ternary": {
           "aaxis": {
            "gridcolor": "white",
            "linecolor": "white",
            "ticks": ""
           },
           "baxis": {
            "gridcolor": "white",
            "linecolor": "white",
            "ticks": ""
           },
           "bgcolor": "#E5ECF6",
           "caxis": {
            "gridcolor": "white",
            "linecolor": "white",
            "ticks": ""
           }
          },
          "title": {
           "x": 0.05
          },
          "xaxis": {
           "automargin": true,
           "gridcolor": "white",
           "linecolor": "white",
           "ticks": "",
           "title": {
            "standoff": 15
           },
           "zerolinecolor": "white",
           "zerolinewidth": 2
          },
          "yaxis": {
           "automargin": true,
           "gridcolor": "white",
           "linecolor": "white",
           "ticks": "",
           "title": {
            "standoff": 15
           },
           "zerolinecolor": "white",
           "zerolinewidth": 2
          }
         }
        },
        "title": {
         "text": "Top 300 Most Frequent Words (from Reduced Vocabulary)",
         "x": 0.5,
         "xanchor": "center"
        },
        "xaxis": {
         "anchor": "y",
         "domain": [
          0,
          1
         ],
         "tickangle": -45,
         "title": {
          "text": "Word"
         }
        },
        "yaxis": {
         "anchor": "x",
         "domain": [
          0,
          1
         ],
         "title": {
          "text": "Total Count"
         }
        }
       }
      }
     },
     "metadata": {},
     "output_type": "display_data"
    }
   ],
   "source": [
    "#just add the sorting\n",
    "\n",
    "vect = CountVectorizer(stop_words='english', #we cut off common english words\n",
    "                       min_df=5, #means minimum it appears in 5 docs to be considered, but yeah these 2 are hyperparameters we can do trial and error\n",
    "                       max_df=0.85, #means max it appears in 85% of our docs\n",
    "                       max_features=10000) #we can also still put limit\n",
    "\n",
    "df_counts_reduced = vect.fit_transform(df.text)\n",
    "\n",
    "# calc the freq from new reduced matrix\n",
    "term_frequencies_reduced = df_counts_reduced.sum(axis=0).A1\n",
    "vocab_reduced = vect.get_feature_names_out() #collect the words\n",
    "\n",
    "freq_df_reduced = pd.DataFrame({'Term' : vocab_reduced, 'Frequency': term_frequencies_reduced}) #make dataframe\n",
    "sorted_freq_df_reduced = freq_df_reduced.sort_values(by='Frequency', ascending=False)\n",
    "\n",
    "\n",
    "num_terms_to_plot = 300 #set our words limit\n",
    "top_df = sorted_freq_df_reduced.head(num_terms_to_plot)\n",
    "\n",
    "#same plotting as befor\n",
    "fig = px.bar(top_df,\n",
    "             x='Term',\n",
    "             y='Frequency',\n",
    "             labels={'Term': 'Word', 'Frequency': 'Total Count'},\n",
    "             hover_name='Term',\n",
    "             hover_data={'Frequency': True, 'Term': False}\n",
    "             )\n",
    "\n",
    "fig.update_layout(\n",
    "    title_text=f'Top {num_terms_to_plot} Most Frequent Words (from Reduced Vocabulary)',\n",
    "    title_x=0.5,\n",
    "    title_xanchor='center',\n",
    "    xaxis_tickangle=-45\n",
    ")\n",
    "fig.show()"
   ]
  },
  {
   "cell_type": "markdown",
   "metadata": {},
   "source": [
    "### >>> Exercise 15\n",
    "Now, we introduce log function to our graph above to see it in a better scaling\n"
   ]
  },
  {
   "cell_type": "code",
   "execution_count": 97,
   "metadata": {},
   "outputs": [
    {
     "data": {
      "application/vnd.plotly.v1+json": {
       "config": {
        "plotlyServerURL": "https://plot.ly"
       },
       "data": [
        {
         "hovertemplate": "<b>%{hovertext}</b><br><br>Total Count=%{y}<extra></extra>",
         "hovertext": [
          "market",
          "just",
          "trump",
          "like",
          "china",
          "think",
          "stock",
          "people",
          "going",
          "money",
          "good",
          "tariffs",
          "make",
          "time",
          "price",
          "want",
          "don",
          "doing",
          "futures",
          "silver",
          "right",
          "company",
          "x200b",
          "day",
          "years",
          "today",
          "economy",
          "world",
          "did",
          "stocks",
          "really",
          "dollar",
          "way",
          "buy",
          "doesn",
          "long",
          "companies",
          "know",
          "new",
          "com",
          "stockbuyvest",
          "week",
          "does",
          "year",
          "10",
          "sell",
          "trade",
          "ve",
          "bad",
          "better",
          "ll",
          "looking",
          "american",
          "xi",
          "look",
          "wants",
          "emote",
          "fuck",
          "term",
          "high",
          "things",
          "need",
          "say",
          "t5_2th52",
          "img",
          "let",
          "trading",
          "thing",
          "isn",
          "point",
          "america",
          "bonds",
          "bond",
          "news",
          "president",
          "selling",
          "shit",
          "big",
          "literally",
          "investors",
          "got",
          "end",
          "usa",
          "daily",
          "feel",
          "invest",
          "country",
          "war",
          "higher",
          "reason",
          "hold",
          "gold",
          "calls",
          "portfolio",
          "sure",
          "didn",
          "future",
          "technology",
          "updated",
          "worse",
          "tariff",
          "reddit",
          "pretty",
          "data",
          "countries",
          "deal",
          "chinese",
          "come",
          "buying",
          "lose",
          "power",
          "lot",
          "work",
          "target",
          "usd",
          "won",
          "real",
          "plan",
          "industry",
          "lower",
          "50",
          "went",
          "ago",
          "spy",
          "far",
          "said",
          "happening",
          "great",
          "puts",
          "currently",
          "actually",
          "happen",
          "growth",
          "rest",
          "free",
          "seen",
          "risk",
          "fed",
          "probably",
          "getting",
          "believe",
          "100",
          "making",
          "lol",
          "life",
          "moving",
          "called",
          "cash",
          "investment",
          "rates",
          "gonna",
          "markets",
          "administration",
          "note",
          "idea",
          "paper",
          "little",
          "love",
          "support",
          "days",
          "help",
          "group",
          "government",
          "haven",
          "short",
          "maybe",
          "thanks",
          "use",
          "analysis",
          "earnings",
          "place",
          "expect",
          "yeah",
          "americans",
          "comes",
          "past",
          "used",
          "trust",
          "wrong",
          "treasuries",
          "30",
          "stop",
          "current",
          "share",
          "stuff",
          "squeeze",
          "state",
          "prices",
          "read",
          "gme",
          "report",
          "powell",
          "mean",
          "likely",
          "lmao",
          "month",
          "weekly",
          "investing",
          "old",
          "potential",
          "build",
          "drop",
          "bull",
          "economic",
          "dividend",
          "anymore",
          "12",
          "yields",
          "bought",
          "expecting",
          "thought",
          "safe",
          "rise",
          "guy",
          "guys",
          "hey",
          "highlights",
          "red",
          "goes",
          "talk",
          "started",
          "start",
          "fucking",
          "talking",
          "significant",
          "debt",
          "face",
          "insider",
          "hurt",
          "million",
          "months",
          "completely",
          "coming",
          "oil",
          "care",
          "media",
          "line",
          "massive",
          "matter",
          "left",
          "cost",
          "15",
          "makes",
          "man",
          "using",
          "advice",
          "allies",
          "wasn",
          "wait",
          "wanted",
          "away",
          "win",
          "person",
          "playing",
          "play",
          "congress",
          "hours",
          "lots",
          "lost",
          "losing",
          "knows",
          "morning",
          "live",
          "late",
          "citizens",
          "coin",
          "ok",
          "investor",
          "physical",
          "sales",
          "funds",
          "crazy",
          "sector",
          "saying",
          "shorts",
          "20",
          "dont",
          "understand",
          "art",
          "ask",
          "true",
          "try",
          "treasury",
          "trends",
          "based",
          "best",
          "basically",
          "thank",
          "expectations",
          "25",
          "4271",
          "ass",
          "working",
          "worth",
          "different",
          "trying",
          "smart",
          "small",
          "soon",
          "sentiment"
         ],
         "legendgroup": "",
         "marker": {
          "color": "#636efa",
          "pattern": {
           "shape": ""
          }
         },
         "name": "",
         "orientation": "v",
         "showlegend": false,
         "textposition": "auto",
         "type": "bar",
         "x": [
          "market",
          "just",
          "trump",
          "like",
          "china",
          "think",
          "stock",
          "people",
          "going",
          "money",
          "good",
          "tariffs",
          "make",
          "time",
          "price",
          "want",
          "don",
          "doing",
          "futures",
          "silver",
          "right",
          "company",
          "x200b",
          "day",
          "years",
          "today",
          "economy",
          "world",
          "did",
          "stocks",
          "really",
          "dollar",
          "way",
          "buy",
          "doesn",
          "long",
          "companies",
          "know",
          "new",
          "com",
          "stockbuyvest",
          "week",
          "does",
          "year",
          "10",
          "sell",
          "trade",
          "ve",
          "bad",
          "better",
          "ll",
          "looking",
          "american",
          "xi",
          "look",
          "wants",
          "emote",
          "fuck",
          "term",
          "high",
          "things",
          "need",
          "say",
          "t5_2th52",
          "img",
          "let",
          "trading",
          "thing",
          "isn",
          "point",
          "america",
          "bonds",
          "bond",
          "news",
          "president",
          "selling",
          "shit",
          "big",
          "literally",
          "investors",
          "got",
          "end",
          "usa",
          "daily",
          "feel",
          "invest",
          "country",
          "war",
          "higher",
          "reason",
          "hold",
          "gold",
          "calls",
          "portfolio",
          "sure",
          "didn",
          "future",
          "technology",
          "updated",
          "worse",
          "tariff",
          "reddit",
          "pretty",
          "data",
          "countries",
          "deal",
          "chinese",
          "come",
          "buying",
          "lose",
          "power",
          "lot",
          "work",
          "target",
          "usd",
          "won",
          "real",
          "plan",
          "industry",
          "lower",
          "50",
          "went",
          "ago",
          "spy",
          "far",
          "said",
          "happening",
          "great",
          "puts",
          "currently",
          "actually",
          "happen",
          "growth",
          "rest",
          "free",
          "seen",
          "risk",
          "fed",
          "probably",
          "getting",
          "believe",
          "100",
          "making",
          "lol",
          "life",
          "moving",
          "called",
          "cash",
          "investment",
          "rates",
          "gonna",
          "markets",
          "administration",
          "note",
          "idea",
          "paper",
          "little",
          "love",
          "support",
          "days",
          "help",
          "group",
          "government",
          "haven",
          "short",
          "maybe",
          "thanks",
          "use",
          "analysis",
          "earnings",
          "place",
          "expect",
          "yeah",
          "americans",
          "comes",
          "past",
          "used",
          "trust",
          "wrong",
          "treasuries",
          "30",
          "stop",
          "current",
          "share",
          "stuff",
          "squeeze",
          "state",
          "prices",
          "read",
          "gme",
          "report",
          "powell",
          "mean",
          "likely",
          "lmao",
          "month",
          "weekly",
          "investing",
          "old",
          "potential",
          "build",
          "drop",
          "bull",
          "economic",
          "dividend",
          "anymore",
          "12",
          "yields",
          "bought",
          "expecting",
          "thought",
          "safe",
          "rise",
          "guy",
          "guys",
          "hey",
          "highlights",
          "red",
          "goes",
          "talk",
          "started",
          "start",
          "fucking",
          "talking",
          "significant",
          "debt",
          "face",
          "insider",
          "hurt",
          "million",
          "months",
          "completely",
          "coming",
          "oil",
          "care",
          "media",
          "line",
          "massive",
          "matter",
          "left",
          "cost",
          "15",
          "makes",
          "man",
          "using",
          "advice",
          "allies",
          "wasn",
          "wait",
          "wanted",
          "away",
          "win",
          "person",
          "playing",
          "play",
          "congress",
          "hours",
          "lots",
          "lost",
          "losing",
          "knows",
          "morning",
          "live",
          "late",
          "citizens",
          "coin",
          "ok",
          "investor",
          "physical",
          "sales",
          "funds",
          "crazy",
          "sector",
          "saying",
          "shorts",
          "20",
          "dont",
          "understand",
          "art",
          "ask",
          "true",
          "try",
          "treasury",
          "trends",
          "based",
          "best",
          "basically",
          "thank",
          "expectations",
          "25",
          "4271",
          "ass",
          "working",
          "worth",
          "different",
          "trying",
          "smart",
          "small",
          "soon",
          "sentiment"
         ],
         "xaxis": "x",
         "y": {
          "bdata": "b19cU0g0MzMyLi4nJCQkIyIgHh4dHRwbGxoaGhkZGBgYGBgXFxcWFhYWFhUVFRUUFBQUExMTExISEhISEhISEhIRERERERAQEBAQEBAQEBAQDw8PDw8PDw8PDw4ODg4ODg4NDQ0NDQ0NDQ0NDQwMDAwMDAwMDAwMDAwMDAwMDAwMDAsLCwsLCwsLCwsLCwsLCwsLCwsLCwoKCgoKCgoKCgoKCgoKCgoKCgoKCQkJCQkJCQkJCQkJCQkJCQkJCQkJCQkJCQkJCQkICAgICAgICAgICAgICAgICAgICAgICAgICAgICAgICAgICAgICAgICAgICAgHBwcHBwcHBwcHBwcHBwcHBwcHBwcHBwcHBwcHBwcHBwcHBwcHBwcHBwcHBwcHBwcHBwcHBwcH",
          "dtype": "i1"
         },
         "yaxis": "y"
        }
       ],
       "layout": {
        "barmode": "relative",
        "legend": {
         "tracegroupgap": 0
        },
        "margin": {
         "t": 60
        },
        "template": {
         "data": {
          "bar": [
           {
            "error_x": {
             "color": "#2a3f5f"
            },
            "error_y": {
             "color": "#2a3f5f"
            },
            "marker": {
             "line": {
              "color": "#E5ECF6",
              "width": 0.5
             },
             "pattern": {
              "fillmode": "overlay",
              "size": 10,
              "solidity": 0.2
             }
            },
            "type": "bar"
           }
          ],
          "barpolar": [
           {
            "marker": {
             "line": {
              "color": "#E5ECF6",
              "width": 0.5
             },
             "pattern": {
              "fillmode": "overlay",
              "size": 10,
              "solidity": 0.2
             }
            },
            "type": "barpolar"
           }
          ],
          "carpet": [
           {
            "aaxis": {
             "endlinecolor": "#2a3f5f",
             "gridcolor": "white",
             "linecolor": "white",
             "minorgridcolor": "white",
             "startlinecolor": "#2a3f5f"
            },
            "baxis": {
             "endlinecolor": "#2a3f5f",
             "gridcolor": "white",
             "linecolor": "white",
             "minorgridcolor": "white",
             "startlinecolor": "#2a3f5f"
            },
            "type": "carpet"
           }
          ],
          "choropleth": [
           {
            "colorbar": {
             "outlinewidth": 0,
             "ticks": ""
            },
            "type": "choropleth"
           }
          ],
          "contour": [
           {
            "colorbar": {
             "outlinewidth": 0,
             "ticks": ""
            },
            "colorscale": [
             [
              0,
              "#0d0887"
             ],
             [
              0.1111111111111111,
              "#46039f"
             ],
             [
              0.2222222222222222,
              "#7201a8"
             ],
             [
              0.3333333333333333,
              "#9c179e"
             ],
             [
              0.4444444444444444,
              "#bd3786"
             ],
             [
              0.5555555555555556,
              "#d8576b"
             ],
             [
              0.6666666666666666,
              "#ed7953"
             ],
             [
              0.7777777777777778,
              "#fb9f3a"
             ],
             [
              0.8888888888888888,
              "#fdca26"
             ],
             [
              1,
              "#f0f921"
             ]
            ],
            "type": "contour"
           }
          ],
          "contourcarpet": [
           {
            "colorbar": {
             "outlinewidth": 0,
             "ticks": ""
            },
            "type": "contourcarpet"
           }
          ],
          "heatmap": [
           {
            "colorbar": {
             "outlinewidth": 0,
             "ticks": ""
            },
            "colorscale": [
             [
              0,
              "#0d0887"
             ],
             [
              0.1111111111111111,
              "#46039f"
             ],
             [
              0.2222222222222222,
              "#7201a8"
             ],
             [
              0.3333333333333333,
              "#9c179e"
             ],
             [
              0.4444444444444444,
              "#bd3786"
             ],
             [
              0.5555555555555556,
              "#d8576b"
             ],
             [
              0.6666666666666666,
              "#ed7953"
             ],
             [
              0.7777777777777778,
              "#fb9f3a"
             ],
             [
              0.8888888888888888,
              "#fdca26"
             ],
             [
              1,
              "#f0f921"
             ]
            ],
            "type": "heatmap"
           }
          ],
          "histogram": [
           {
            "marker": {
             "pattern": {
              "fillmode": "overlay",
              "size": 10,
              "solidity": 0.2
             }
            },
            "type": "histogram"
           }
          ],
          "histogram2d": [
           {
            "colorbar": {
             "outlinewidth": 0,
             "ticks": ""
            },
            "colorscale": [
             [
              0,
              "#0d0887"
             ],
             [
              0.1111111111111111,
              "#46039f"
             ],
             [
              0.2222222222222222,
              "#7201a8"
             ],
             [
              0.3333333333333333,
              "#9c179e"
             ],
             [
              0.4444444444444444,
              "#bd3786"
             ],
             [
              0.5555555555555556,
              "#d8576b"
             ],
             [
              0.6666666666666666,
              "#ed7953"
             ],
             [
              0.7777777777777778,
              "#fb9f3a"
             ],
             [
              0.8888888888888888,
              "#fdca26"
             ],
             [
              1,
              "#f0f921"
             ]
            ],
            "type": "histogram2d"
           }
          ],
          "histogram2dcontour": [
           {
            "colorbar": {
             "outlinewidth": 0,
             "ticks": ""
            },
            "colorscale": [
             [
              0,
              "#0d0887"
             ],
             [
              0.1111111111111111,
              "#46039f"
             ],
             [
              0.2222222222222222,
              "#7201a8"
             ],
             [
              0.3333333333333333,
              "#9c179e"
             ],
             [
              0.4444444444444444,
              "#bd3786"
             ],
             [
              0.5555555555555556,
              "#d8576b"
             ],
             [
              0.6666666666666666,
              "#ed7953"
             ],
             [
              0.7777777777777778,
              "#fb9f3a"
             ],
             [
              0.8888888888888888,
              "#fdca26"
             ],
             [
              1,
              "#f0f921"
             ]
            ],
            "type": "histogram2dcontour"
           }
          ],
          "mesh3d": [
           {
            "colorbar": {
             "outlinewidth": 0,
             "ticks": ""
            },
            "type": "mesh3d"
           }
          ],
          "parcoords": [
           {
            "line": {
             "colorbar": {
              "outlinewidth": 0,
              "ticks": ""
             }
            },
            "type": "parcoords"
           }
          ],
          "pie": [
           {
            "automargin": true,
            "type": "pie"
           }
          ],
          "scatter": [
           {
            "fillpattern": {
             "fillmode": "overlay",
             "size": 10,
             "solidity": 0.2
            },
            "type": "scatter"
           }
          ],
          "scatter3d": [
           {
            "line": {
             "colorbar": {
              "outlinewidth": 0,
              "ticks": ""
             }
            },
            "marker": {
             "colorbar": {
              "outlinewidth": 0,
              "ticks": ""
             }
            },
            "type": "scatter3d"
           }
          ],
          "scattercarpet": [
           {
            "marker": {
             "colorbar": {
              "outlinewidth": 0,
              "ticks": ""
             }
            },
            "type": "scattercarpet"
           }
          ],
          "scattergeo": [
           {
            "marker": {
             "colorbar": {
              "outlinewidth": 0,
              "ticks": ""
             }
            },
            "type": "scattergeo"
           }
          ],
          "scattergl": [
           {
            "marker": {
             "colorbar": {
              "outlinewidth": 0,
              "ticks": ""
             }
            },
            "type": "scattergl"
           }
          ],
          "scattermap": [
           {
            "marker": {
             "colorbar": {
              "outlinewidth": 0,
              "ticks": ""
             }
            },
            "type": "scattermap"
           }
          ],
          "scattermapbox": [
           {
            "marker": {
             "colorbar": {
              "outlinewidth": 0,
              "ticks": ""
             }
            },
            "type": "scattermapbox"
           }
          ],
          "scatterpolar": [
           {
            "marker": {
             "colorbar": {
              "outlinewidth": 0,
              "ticks": ""
             }
            },
            "type": "scatterpolar"
           }
          ],
          "scatterpolargl": [
           {
            "marker": {
             "colorbar": {
              "outlinewidth": 0,
              "ticks": ""
             }
            },
            "type": "scatterpolargl"
           }
          ],
          "scatterternary": [
           {
            "marker": {
             "colorbar": {
              "outlinewidth": 0,
              "ticks": ""
             }
            },
            "type": "scatterternary"
           }
          ],
          "surface": [
           {
            "colorbar": {
             "outlinewidth": 0,
             "ticks": ""
            },
            "colorscale": [
             [
              0,
              "#0d0887"
             ],
             [
              0.1111111111111111,
              "#46039f"
             ],
             [
              0.2222222222222222,
              "#7201a8"
             ],
             [
              0.3333333333333333,
              "#9c179e"
             ],
             [
              0.4444444444444444,
              "#bd3786"
             ],
             [
              0.5555555555555556,
              "#d8576b"
             ],
             [
              0.6666666666666666,
              "#ed7953"
             ],
             [
              0.7777777777777778,
              "#fb9f3a"
             ],
             [
              0.8888888888888888,
              "#fdca26"
             ],
             [
              1,
              "#f0f921"
             ]
            ],
            "type": "surface"
           }
          ],
          "table": [
           {
            "cells": {
             "fill": {
              "color": "#EBF0F8"
             },
             "line": {
              "color": "white"
             }
            },
            "header": {
             "fill": {
              "color": "#C8D4E3"
             },
             "line": {
              "color": "white"
             }
            },
            "type": "table"
           }
          ]
         },
         "layout": {
          "annotationdefaults": {
           "arrowcolor": "#2a3f5f",
           "arrowhead": 0,
           "arrowwidth": 1
          },
          "autotypenumbers": "strict",
          "coloraxis": {
           "colorbar": {
            "outlinewidth": 0,
            "ticks": ""
           }
          },
          "colorscale": {
           "diverging": [
            [
             0,
             "#8e0152"
            ],
            [
             0.1,
             "#c51b7d"
            ],
            [
             0.2,
             "#de77ae"
            ],
            [
             0.3,
             "#f1b6da"
            ],
            [
             0.4,
             "#fde0ef"
            ],
            [
             0.5,
             "#f7f7f7"
            ],
            [
             0.6,
             "#e6f5d0"
            ],
            [
             0.7,
             "#b8e186"
            ],
            [
             0.8,
             "#7fbc41"
            ],
            [
             0.9,
             "#4d9221"
            ],
            [
             1,
             "#276419"
            ]
           ],
           "sequential": [
            [
             0,
             "#0d0887"
            ],
            [
             0.1111111111111111,
             "#46039f"
            ],
            [
             0.2222222222222222,
             "#7201a8"
            ],
            [
             0.3333333333333333,
             "#9c179e"
            ],
            [
             0.4444444444444444,
             "#bd3786"
            ],
            [
             0.5555555555555556,
             "#d8576b"
            ],
            [
             0.6666666666666666,
             "#ed7953"
            ],
            [
             0.7777777777777778,
             "#fb9f3a"
            ],
            [
             0.8888888888888888,
             "#fdca26"
            ],
            [
             1,
             "#f0f921"
            ]
           ],
           "sequentialminus": [
            [
             0,
             "#0d0887"
            ],
            [
             0.1111111111111111,
             "#46039f"
            ],
            [
             0.2222222222222222,
             "#7201a8"
            ],
            [
             0.3333333333333333,
             "#9c179e"
            ],
            [
             0.4444444444444444,
             "#bd3786"
            ],
            [
             0.5555555555555556,
             "#d8576b"
            ],
            [
             0.6666666666666666,
             "#ed7953"
            ],
            [
             0.7777777777777778,
             "#fb9f3a"
            ],
            [
             0.8888888888888888,
             "#fdca26"
            ],
            [
             1,
             "#f0f921"
            ]
           ]
          },
          "colorway": [
           "#636efa",
           "#EF553B",
           "#00cc96",
           "#ab63fa",
           "#FFA15A",
           "#19d3f3",
           "#FF6692",
           "#B6E880",
           "#FF97FF",
           "#FECB52"
          ],
          "font": {
           "color": "#2a3f5f"
          },
          "geo": {
           "bgcolor": "white",
           "lakecolor": "white",
           "landcolor": "#E5ECF6",
           "showlakes": true,
           "showland": true,
           "subunitcolor": "white"
          },
          "hoverlabel": {
           "align": "left"
          },
          "hovermode": "closest",
          "mapbox": {
           "style": "light"
          },
          "paper_bgcolor": "white",
          "plot_bgcolor": "#E5ECF6",
          "polar": {
           "angularaxis": {
            "gridcolor": "white",
            "linecolor": "white",
            "ticks": ""
           },
           "bgcolor": "#E5ECF6",
           "radialaxis": {
            "gridcolor": "white",
            "linecolor": "white",
            "ticks": ""
           }
          },
          "scene": {
           "xaxis": {
            "backgroundcolor": "#E5ECF6",
            "gridcolor": "white",
            "gridwidth": 2,
            "linecolor": "white",
            "showbackground": true,
            "ticks": "",
            "zerolinecolor": "white"
           },
           "yaxis": {
            "backgroundcolor": "#E5ECF6",
            "gridcolor": "white",
            "gridwidth": 2,
            "linecolor": "white",
            "showbackground": true,
            "ticks": "",
            "zerolinecolor": "white"
           },
           "zaxis": {
            "backgroundcolor": "#E5ECF6",
            "gridcolor": "white",
            "gridwidth": 2,
            "linecolor": "white",
            "showbackground": true,
            "ticks": "",
            "zerolinecolor": "white"
           }
          },
          "shapedefaults": {
           "line": {
            "color": "#2a3f5f"
           }
          },
          "ternary": {
           "aaxis": {
            "gridcolor": "white",
            "linecolor": "white",
            "ticks": ""
           },
           "baxis": {
            "gridcolor": "white",
            "linecolor": "white",
            "ticks": ""
           },
           "bgcolor": "#E5ECF6",
           "caxis": {
            "gridcolor": "white",
            "linecolor": "white",
            "ticks": ""
           }
          },
          "title": {
           "x": 0.05
          },
          "xaxis": {
           "automargin": true,
           "gridcolor": "white",
           "linecolor": "white",
           "ticks": "",
           "title": {
            "standoff": 15
           },
           "zerolinecolor": "white",
           "zerolinewidth": 2
          },
          "yaxis": {
           "automargin": true,
           "gridcolor": "white",
           "linecolor": "white",
           "ticks": "",
           "title": {
            "standoff": 15
           },
           "zerolinecolor": "white",
           "zerolinewidth": 2
          }
         }
        },
        "title": {
         "text": "Top 300 Most Frequent Words (from Reduced Vocabulary)",
         "x": 0.5,
         "xanchor": "center"
        },
        "xaxis": {
         "anchor": "y",
         "domain": [
          0,
          1
         ],
         "tickangle": -45,
         "title": {
          "text": "Word"
         }
        },
        "yaxis": {
         "anchor": "x",
         "domain": [
          0,
          1
         ],
         "title": {
          "text": "Total Count"
         },
         "type": "log"
        }
       }
      }
     },
     "metadata": {},
     "output_type": "display_data"
    }
   ],
   "source": [
    "#just add the log function\n",
    "\n",
    "vect = CountVectorizer(stop_words='english', #we cut off common english words\n",
    "                       min_df=5, #means minimum it appears in 5 docs to be considered, but yeah these 2 are hyperparameters we can do trial and error\n",
    "                       max_df=0.85, #means max it appears in 85% of our docs\n",
    "                       max_features=10000) #we can also still put limit\n",
    "\n",
    "df_counts_reduced = vect.fit_transform(df.text)\n",
    "\n",
    "# calc the freq from new reduced matrix\n",
    "term_frequencies_reduced = df_counts_reduced.sum(axis=0).A1\n",
    "vocab_reduced = vect.get_feature_names_out() #collect the words\n",
    "\n",
    "freq_df_reduced = pd.DataFrame({'Term' : vocab_reduced, 'Frequency': term_frequencies_reduced}) #make dataframe\n",
    "sorted_freq_df_reduced = freq_df_reduced.sort_values(by='Frequency', ascending=False)\n",
    "\n",
    "\n",
    "num_terms_to_plot = 300 #set our words limit\n",
    "top_df = sorted_freq_df_reduced.head(num_terms_to_plot)\n",
    "\n",
    "#same plotting as befor\n",
    "fig = px.bar(top_df,\n",
    "             x='Term',\n",
    "             y='Frequency',\n",
    "             log_y= True, # enabling long for freq\n",
    "             labels={'Term': 'Word', 'Frequency': 'Total Count'},\n",
    "             hover_name='Term',\n",
    "             hover_data={'Frequency': True, 'Term': False}\n",
    "             )\n",
    "\n",
    "fig.update_layout(\n",
    "    title_text=f'Top {num_terms_to_plot} Most Frequent Words (from Reduced Vocabulary)',\n",
    "    title_x=0.5,\n",
    "    title_xanchor='center',\n",
    "    xaxis_tickangle=-45\n",
    ")\n",
    "fig.show()"
   ]
  },
  {
   "cell_type": "markdown",
   "metadata": {},
   "source": [
    "Observation: before log, it's hard to see the difference betwenn some of low frequency words, because the most frequent word are dominating the scale of the chart\n",
    "but then, we introduced log, and log is good cause its not showing the absolute differences (e.g., 2000 is 1000 more than 1000), rather, it shows multiplicative differences (or ratios). On a log scale, the visual distance between 10 and 100 is the same as the distance between 100 and 1000, because both are a 10x increase."
   ]
  },
  {
   "cell_type": "markdown",
   "metadata": {},
   "source": [
    "# Phase 2"
   ]
  },
  {
   "cell_type": "code",
   "execution_count": null,
   "metadata": {},
   "outputs": [],
   "source": [
    "### Begin Assignment Here"
   ]
  }
 ],
 "metadata": {
  "kernelspec": {
   "display_name": "DM2025-Lab1-Exercise",
   "language": "python",
   "name": "python3"
  },
  "language_info": {
   "codemirror_mode": {
    "name": "ipython",
    "version": 3
   },
   "file_extension": ".py",
   "mimetype": "text/x-python",
   "name": "python",
   "nbconvert_exporter": "python",
   "pygments_lexer": "ipython3",
   "version": "3.11.0"
  }
 },
 "nbformat": 4,
 "nbformat_minor": 4
}
